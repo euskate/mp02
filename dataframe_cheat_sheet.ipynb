{
 "cells": [
  {
   "cell_type": "markdown",
   "metadata": {},
   "source": [
    "# import 관련"
   ]
  },
  {
   "cell_type": "markdown",
   "metadata": {},
   "source": [
    "### 기본적인 것!\n",
    "\n",
    "~~~\n",
    "import pandas as pd\n",
    "import numpy as np\n",
    "~~~"
   ]
  },
  {
   "cell_type": "code",
   "execution_count": 1,
   "metadata": {},
   "outputs": [],
   "source": []
  },
  {
   "cell_type": "markdown",
   "metadata": {},
   "source": [
    "### 시각화 및 한글적용\n",
    "\n",
    "~~~\n",
    "import matplotlib.pyplot as plt\n",
    "import seaborn as sns\n",
    "\n",
    "# 주피터 내장\n",
    "%matplotlib inline\n",
    "# 한글처리 \n",
    "import platform\n",
    "from matplotlib import font_manager, rc\n",
    "\n",
    "# 한글처리\n",
    "plt.rcParams['axes.unicode_minus'] = False\n",
    "if platform.system() == 'Darwin':    # 맥\n",
    "#     font_list_mac = fm.OSXInstalledFonts()\n",
    "    rc( 'font', family='AppleGothic' )\n",
    "elif platform.system() == 'Linux': # 리눅스\n",
    "    rc( 'font', family='NanumGothic' )\n",
    "elif platform.system() == 'Windows': # 윈도우\n",
    "    # 폰트 차후 확인\n",
    "    # fontName = font_manager.FontProperties( fname=fontPath ).get_name()\n",
    "    rc( 'font', family='NanumGothic' )\n",
    "else:\n",
    "    print('알수없는 시스템. 미적용')\n",
    "~~~"
   ]
  },
  {
   "cell_type": "code",
   "execution_count": null,
   "metadata": {},
   "outputs": [],
   "source": []
  },
  {
   "cell_type": "code",
   "execution_count": null,
   "metadata": {},
   "outputs": [],
   "source": []
  },
  {
   "cell_type": "markdown",
   "metadata": {},
   "source": [
    "# DataFrame"
   ]
  },
  {
   "cell_type": "markdown",
   "metadata": {},
   "source": [
    "## 기본적인 데이터 확인\n",
    "- 칼럼 리스트 가져오기\n",
    "~~~\n",
    "df.columns\n",
    "~~~\n",
    "- index 리스트 가져오기\n",
    "~~~\n",
    "df.index\n",
    "~~~\n",
    "- 행 갯수 X 열 갯수 확인\n",
    "~~~\n",
    "df.shape\n",
    "df.shape[0] # 행\n",
    "df.shape[1] # 열\n",
    "~~~\n",
    "- 데이터 일부 확인\n",
    "~~~\n",
    "df.head() # 시작에서\n",
    "df.tail() # 끝에서\n",
    "df.sample() # 랜덤으로\n",
    "~~~\n",
    "- 데이터 타입 확인\n",
    "~~~\n",
    "df.dtypes\n",
    "df.info() # non-null 갯수까지 보여줌\n",
    "~~~\n",
    "- 데이터의 기초 통계 확인\n",
    "~~~\n",
    "book_rate_2019.describe() # 수치형만\n",
    "book_rate_2019.describe(include=\"all\") # object형까지 모두\n",
    "~~~"
   ]
  },
  {
   "cell_type": "markdown",
   "metadata": {},
   "source": [
    "### csv 읽기\n",
    "- skiprows, header => 비슷한 역할 (구체적인 구분 X)\n",
    "- encoding => 왠만하면 euc-kr, utf-8 선에서 나온다.\n",
    "- 경로 => 상대경로 안먹히면 절대경로로\n",
    "~~~\n",
    "book_rate_2019 = pd.read_csv('./data/test.csv', encoding='euc-kr', skiprows=1)\n",
    "~~~"
   ]
  },
  {
   "cell_type": "markdown",
   "metadata": {},
   "source": [
    "### csv로 저장\n",
    "- to_csv => 인코딩해서 저장\n",
    "- index=Fase  \n",
    "  => 숫자 인덱싱이라면 False해주어야 함  \n",
    "  => 전환중에 문자 인덱싱으로 바뀌었다면 False 설정 후  \n",
    "  save하는 것으로 인덱스 열을 다시 칼럼으로 바꾸고  \n",
    "  숫자 인덱싱으로 전환 가능\n",
    "\n",
    "~~~\n",
    "book_rate_T_2019.to_csv('./book_rate_mid/test.csv', encoding=\"euc-kr\")\n",
    "~~~"
   ]
  },
  {
   "cell_type": "markdown",
   "metadata": {},
   "source": [
    "### 칼럼명 변경\n",
    "- 기존 / 바꿀 칼럼명 두개를 수기로 나열\n",
    "\n",
    "~~~\n",
    "dic = {\n",
    "    \"기존 칼럼명\":\"바꿀 칼럼명\",\n",
    "    \"기존 칼럼명\":\"바꿀 칼럼명\",\n",
    "}\n",
    "book_rate_2019.rename( columns=dic, inplace=True )\n",
    "~~~"
   ]
  },
  {
   "cell_type": "markdown",
   "metadata": {},
   "source": [
    "### 결측치(null) 확인\n",
    "- isnull => null인 것 True 반환\n",
    "- sum => True를 1로 인식, 갯수 카운트 역할\n",
    "\n",
    "~~~\n",
    "book_rate_2019.isnull().sum()\n",
    "~~~"
   ]
  },
  {
   "cell_type": "markdown",
   "metadata": {},
   "source": [
    "### 특정 열에서 원하는 것만 가져오기\n",
    "\n",
    "~~~\n",
    "book_rate_2019[book_rate_2019['대분류'] == '연령']\n",
    "~~~"
   ]
  },
  {
   "cell_type": "markdown",
   "metadata": {},
   "source": [
    "### 원하는 열만 빼서 dataframe 구성\n",
    "- iloc의 파라미터\n",
    "    - 1번째 : 어떤 행을 가져올지  \n",
    "      => list처럼 -1 인덱스 가능\n",
    "    - 2번째 : 어떤 열을 가져올지  \n",
    "      => 특정 열 이름 -> [\"a\", \"b\", ...]  \n",
    "      => 숫자 인덱싱 -> range(2, 5)\n",
    "\n",
    "~~~\n",
    "book_rate_age_2019.iloc[:, range(2,len(book_rate_age_2019.columns))]\n",
    "~~~"
   ]
  },
  {
   "cell_type": "markdown",
   "metadata": {},
   "source": [
    "### 행 열 뒤집기!\n",
    "- numpy의 transaction 사용  \n",
    "  => df.T\n",
    "\n",
    "~~~\n",
    "book_rate_age_2019.iloc[:, range(2,len(book_rate_age_2019.columns))].T\n",
    "~~~"
   ]
  },
  {
   "cell_type": "markdown",
   "metadata": {},
   "source": [
    "### 열 삭제\n",
    "- drop => axis=1로 해줘도 된다.\n",
    "\n",
    "~~~\n",
    "del df[\"column name\"]\n",
    "~~~"
   ]
  },
  {
   "cell_type": "markdown",
   "metadata": {},
   "source": [
    "### 행 삭제\n",
    "- df의 특정 열 조건에 맞는 행을 삭제시킨다.\n",
    "- drop\n",
    "    - index :  \n",
    "      => 인덱스 리스트로 줘도 됨 -> [1,2,3,10] / 해당하는 인덱스!! 삭제\n",
    "    - inplace=True  \n",
    "      => 바로 적용할지 여부\n",
    "\n",
    "~~~\n",
    "df.drop(index=df[df[\"column name\"]==\"계\"].index, inplace=True)\n",
    "~~~"
   ]
  },
  {
   "cell_type": "markdown",
   "metadata": {},
   "source": [
    "### 기존 데이터 프레임에 열 추가\n",
    "- 주의 : 좌변의 데이터프레임과 우변의 리스트 길이가 같아야 한다.\n",
    "~~~\n",
    "df['연도'] = list_2019\n",
    "~~~"
   ]
  },
  {
   "cell_type": "markdown",
   "metadata": {},
   "source": [
    "### 데이터 프레임 아래로 붙이기 ( 행 추가 )\n",
    "- 주의 : 칼럼이 같아야 한다!!\n",
    "- axis=1 로 주면 우로 붙는다. => 찾아보실 것!\n",
    "- ignore_index=True\n",
    "    - 인덱스를 새로이 해준다.  \n",
    "      => 기본적으로 해주는 게 정상적인 동작인 듯\n",
    "\n",
    "\n",
    "~~~\n",
    "df_all = pd.concat([df1, df2, df3, df4, df5, df6], ignore_index=True)\n",
    "~~~"
   ]
  },
  {
   "cell_type": "code",
   "execution_count": null,
   "metadata": {},
   "outputs": [],
   "source": []
  },
  {
   "cell_type": "markdown",
   "metadata": {},
   "source": [
    "# 시각화!"
   ]
  },
  {
   "cell_type": "markdown",
   "metadata": {},
   "source": [
    "### 바 그래프\n",
    "- 한 개\n",
    "\n",
    "~~~\n",
    "a = book_rate[book_rate.소분류 == \"잡지류\"]\n",
    "\n",
    "g = sns.factorplot(x=\"연도\",y=\"10대\",data=a,kind=\"bar\", size = 6 , \n",
    "palette = \"muted\")\n",
    "g.despine(left=True)\n",
    "g = g.set_ylabels(\"10대 잡지류\")\n",
    "\n",
    "~~~\n",
    "\n",
    "<hr>\n",
    "\n",
    "- 여러 개 동시에\n",
    "\n",
    "~~~\n",
    "a = book_rate[book_rate.소분류 == \"잡지류\"]\n",
    "\n",
    "li = [\"10대\", \"20대\", \"30대\", \"40대\", \"50대\", \"60세 이상\", \"65세 이상\"]\n",
    "for i in li:\n",
    "    g = sns.factorplot(x=\"연도\",y=i,data=a,kind=\"bar\", size = 6 , \n",
    "    palette = \"muted\")\n",
    "    g.despine(left=True)\n",
    "    g = g.set_ylabels(i +\" 잡지류\")\n",
    "    \n",
    "# 전체적으로 전연령대에서 감소세\n",
    "~~~"
   ]
  },
  {
   "cell_type": "markdown",
   "metadata": {},
   "source": [
    "![](data:image/png;base64,iVBORw0KGgoAAAANSUhEUgAAAagAAAGoCAYAAAATsnHAAAAABHNCSVQICAgIfAhkiAAAAAlwSFlzAAALEgAACxIB0t1+/AAAADh0RVh0U29mdHdhcmUAbWF0cGxvdGxpYiB2ZXJzaW9uMy4xLjEsIGh0dHA6Ly9tYXRwbG90bGliLm9yZy8QZhcZAAAW5UlEQVR4nO3df7BtZX3f8feHe/nhj4AEqh2xgcovG2smramS28Fi6igZkzhoahFDAsReTExCB9EJjdYbLRkHsRnGmqEnQSmgg5EfQ2kbkSoCRdDctiBGB5swiRE6jYBEQRCBb//Y+8DheDjnXNlrr++55/2aOcNez1rrrO/DOWd/7lrr2c9KVSFJUjd7jF2AJEkrMaAkSS0ZUJKklgwoSVJLBpQkqaWtYxewixxyKEm7n6zU6BmUJKklA0qS1JIBJUlqyYCSJLVkQEmSWjKgJEktGVCSpJYMKElSSwaUJKklA0qS1JIBJUlqyYCSJLVkQEmSWjKgJEktGVCSpJYMKElSSwaUJKmljfZE3RWd8G8/N3YJM/Hx9x4zdgmS1IZnUJKklgwoSVJLBpQkqSUDSpLUkgElSWrJgJIktWRASZJaMqAkSS0ZUJKklgwoSVJLBpQkqSUDSpLUkgElSWrJgJIktWRASZJaMqAkSS0ZUJKklgwoSVJLBpQkqSUDSpLUkgElSWrJgJIktbR17AL09HztnJPGLmEmjjjjgrFLkNSMZ1CSpJYMKElSS4Ne4kvyLOAs4DBgP+BvgJOBfYGrgW8u2fysqrpmyHokSRvH0Peg9gE+WlW3AiR5G7AduBS4raqOH/j4kqQNatCAqqp7gHsAkuwJHAp8ZshjSpJ2D4Pfg0pyXJLrgL8AjgBunK46NMnFSa5NckGSA59i/+1JdibZubCwMHS5kqQmBh9mXlVXAFcAJHk9cB7wFuCDwFVV9UCS44BzgTevsP8CsJhMNXS9kqQe5jqKr6ouBw6pqvur6pKqemDafgWTy3+SJAEDB1SSA5K8asnyicCNSfZN8uIl7ScANw1ZiyRpYxn6Et93gTcm+T3gAeB24HQgwNuTHATsBXwFOGPgWiRJG8jQo/geZDKsfCWnDHlsSdLG5kwSkqSWDChJUksGlCSpJQNKktSSASVJasmAkiS1ZEBJkloyoCRJLRlQkqSWDChJUksGlCSpJQNKktSSASVJasmAkiS1ZEBJkloyoCRJLQ39RF1pEO/83OljlzATZx/z78cuQWrLMyhJUksGlCSpJQNKktSSASVJasmAkiS1ZEBJkloyoCRJLRlQkqSWDChJUksGlCSpJQNKktSSASVJasmAkiS1ZEBJkloyoCRJLRlQkqSWDChJUksGlCSpJQNKktSSASVJasmAkiS1tHXIb57kWcBZwGHAfsDfACdX1beTHAksAM8A/hr4laq6f8h6JEkbx9BnUPsAH62qn6uqo4HPAtun685lElYvAy4E3jNwLZKkDWTQgKqqe6rqVoAkewKHAl9N8hLg61V1x3S7K4FtQ9YiSdpYBr8HleS4JNcBfwEcAdzI5JLf7cs2vTfJ/ivsvz3JziQ7FxYWhi5XktTEoPegAKrqCuAKgCSvB84D/hiolTZfYf8FJveqVlwvSdo9zXUUX1VdDhwC3MHkbGqpA6rqvnnWI0nqa9CASnJAklctWT4RuLGqbgGOSHLwtP1Y4IYha5EkbSxDX+L7LvDGJL8HPMDkvtPp03WnARcnCXAncMrAtUiSNpBBA6qqHuSJYeXL190GHD3k8SVJG5czSUiSWjKgJEktGVCSpJYMKElSSwaUJKklA0qS1JIBJUlqyYCSJLVkQEmSWjKgJEktGVCSpJYMKElSSwaUJKklA0qS1JIBJUlqyYCSJLVkQEmSWjKgJEktGVCSpJYMKElSSwaUJKklA0qS1JIBJUlqyYCSJLVkQEmSWjKgJEktGVCSpJYMKElSSwaUJKklA0qS1JIBJUlqyYCSJLVkQEmSWjKgJEktGVCSpJYMKElSSwaUJKklA0qS1JIBJUlqaeuQ3zzJNuBM4NnA3sDvAn8GXA18c8mmZ1XVNUPWIknaWAYNKGALcEJVfSfJ/sB1wC8At1XV8QMfW9ot3XzaaWOX8LQdde65Y5egDWDQS3xVdUNVfWe6eB/wIJBd+R5JtifZmWTnwsLCzGuUJPU09BkUAEn2AD4AnA8UcGiSi4GDgL8Czqiqu1fat6oWgMVkqjmUK0lqYPBBEkmeC3wMuH4aNncDHwROrapXAlcCnu9Lkp5k0IBK8kLgo8A7qupKgKq6v6ouqaoHpstXAIcOWYckaeMZ+gxqB3BKVX1jsSHJvklevGT5BOCmgeuQJG0wQ9+D2gZ8InnSuIjTgNOSHATsBXwFOGPgOiRJG8ygAVVVhz3FqlOGPK4kaeNzJglJUksGlCSpJQNKktSSASVJasmAkiS1ZEBJkloyoCRJLRlQkqSWDChJUksGlCSppbk8D0qSnq4Pv/PSsUuYibed/Ytjl7BheAYlSWrJgJIktWRASZJa2qWASnLSQHVIkvQk6wqoJHsk2Q84ceB6JEkCVhnFl8ljcO8CHgN+CjgeeHhOdUmSNrmnDKiqqiS3AQV8D3gUeCzJBcAWYG9gn6r6hXkUKknaXNb6HNSjS14/BjxaVScNV44kSRPrHSSRXdhWkqSnba0zqC1MLvEtBtSWJJ+cvt4LeKyqXjdsiZKkzWi1QRJ7APcxubR3EXA5kKr6F3OqTZK0ia02SOIx4I1L25K8afCKJEli1+8rnT8dfi5J0qB2aTbzqvrYUIVIkrTUqgGV5EyePNR80ZbpvntX1buGKEyStLmtdQb1v5jMHvEIk9F8iyP6ln5JkjRzqwZUVV2d5JiqumGxLcnewMur6vrBq5MkbVrrGSTx+CW86QCJDwP7DlaRJEmsL6B+JMnhSX4OuAa4rqr+y8B1SZI2ufWM4nsO8GvAscB5VXXRsCVJkrS+M6g7qur0qvpx4MEk5w1dlCRJqwbU9J7TPYvLVfWHwH9L8o6hC5MkbW5rjeIr4JeWtf3nJC8YtCpJ0qa37qmOkvzs4uuq+sYw5UiSNLErc/H91mBVSJK0zFpTHV0BfH+6+P0klwFXAe8GvgT8ZFX9/WFLlCRtRmsNM/9XVXX34kKS51fVXUneXFXHJfn0wPVJkjaptS7xfXzxRZJnABdNpzpanED2u6vtnGRbkquSXJvk80leM20/Msl1Sb6Y5LIkz346nZAk7X7WdQ8qycuBK4F3VdX3mEwaC5NZzVezBTihql4JvBb4wLT9XODkqnoZcCHwnl0tXJK0e1vrEl+S/B/gEOB1VXXTtH0x2PZebeelk8wyeXz8g0leAny9qu6YbnNlknfucuWSpN3aWmdQVVWHA0cDv53klUmOBbYmuRTYO8maZ2HTbc4BzgcOA25ftsm9SfZ/in23J9mZZOfCwsJah5Ik7SbWOoPaClBVN08ni70KeH1V/fP1HiDJc5lc0rtkerb0ep64RLjUSm1U1QKwsNo2kqTdz1ozSfzMktffTvJW4MH1fvMkLwQ+BJy65MO9dwCvXrbpAVV133q/ryRp97crH9Slqr5aVauO3FtmB3DK0pknquoW4IgkBwNMLxnesPLukqTNaj2P23g6tgGfmMw5+7i3AKcBF08no70TOGXgOiRJG8ygAVVVh62y+ughjy1J2th26RKfJEnzstZcfH8APLK8ebrf3sBeVfVLP7CjJElP01qX+P4dk2mNikkwXQScON1vCz8YXpIkzcRaAXUqT8y7F+BgYDvw2HTfc4YrTZK0ma0VUJ/kyR+OvRQ4nMmZ018DDw1UlyRpk1t1kERVfRl4UVX92eIX8B3g+VV1a1U9utr+kiT9sNYziu9Xli3fARwxQC2SJD1uPQG1/DLgncCPDVCLJEmPW88Hdf9Jkj9hMlgiwF74+SlJ0sDWE1DPq6rHBq9EkqQl1jwTWgynJPsl2Xf4kiRJWnsmiWcymZF8G3DPpCk/ymT28fdW1bofvSFJ0q5Y6xLffwIurKonPZI9yWuAjwBvGqowSdLmttYlvr9XVVctb6yqq4GDhilJkqS1A+qhxQcLLpXEYeaSpEGtdYlvO3Bekr8Cbmcy7dGRTKY7+vWBa5MkbWKrBlRVfQ342ST/EDiMyeegrq2qW+dRnCRp81rXE3Wnc/J9eeBaJEl6nDNCSJJaWutzUNtXW19VC7MtR5KkibXOoH4UeB+T5z59b4UvSZIGsdYgifcneV1VXTivgiRJgvXdg3rD4FVIkrTMeiaLvWsehUiStJSj+CRJLRlQkqSWDChJUkvrmklCkjSO9/3qa8YuYSbeff7Vu7yPZ1CSpJYMKElSSwaUJKklA0qS1JIBJUlqyYCSJLVkQEmSWjKgJEktGVCSpJYMKElSS3Ob6ijJmcC3quq8JC8Arga+uWSTs6rqmnnVI0nqbfCASnIQcBlwKPDuJce9raqOH/r4kqSNafCAqqo7gaOSnATsM/TxJEm7hzHvQR2a5OIk1ya5IMmBK22UZHuSnUl2LiwszLtGSdJIxnrcxt3AB4GrquqBJMcB5wJvXr5hVS0Ai8lU8ytRkjSmUc6gqur+qrqkqh6YLl/B5B6VJEnASAGVZN8kL16yfAJw0xi1SJJ6GusS36PA26cj/PYCvgKcMVItkqSG5hZQVXXBktcPAKfM69iSpI3HmSQkSS0ZUJKklgwoSVJLBpQkqSUDSpLUkgElSWrJgJIktWRASZJaMqAkSS0ZUJKklgwoSVJLBpQkqSUDSpLUkgElSWrJgJIktWRASZJaMqAkSS0ZUJKklgwoSVJLBpQkqSUDSpLUkgElSWrJgJIktWRASZJaMqAkSS0ZUJKklgwoSVJLBpQkqSUDSpLUkgElSWrJgJIktWRASZJaMqAkSS0ZUJKklgwoSVJLBpQkqSUDSpLUkgElSWrJgJIktTS3gEpyZpK3Llk+Msl1Sb6Y5LIkz55XLZKk/gYPqCQHJbkZOH3ZqnOBk6vqZcCFwHuGrkWStHEMHlBVdWdVHQW8Y7EtyUuAr1fVHdNtrgS2rbR/ku1JdibZubCwMHS5kqQmto503MOA25e13Ztk/6r61tLGqloAFpOp5lGcJGl8Yw2SCCuHjQEkSQLGC6g7gCOWtR1QVfeNUYwkqZ9RAqqqbgGOSHIwQJJjgRvGqEWS1NNY96AATgMuThLgTuCUEWuRJDUzt4CqqguWLd8GHD2v40uSNhZnkpAktWRASZJaMqAkSS0ZUJKklgwoSVJLBpQkqSUDSpLUkgElSWrJgJIktWRASZJaMqAkSS0ZUJKklgwoSVJLBpQkqSUDSpLUkgElSWrJgJIktWRASZJaMqAkSS0ZUJKklgwoSVJLBpQkqSUDSpLUkgElSWrJgJIktWRASZJaMqAkSS0ZUJKklgwoSVJLBpQkqSUDSpLUkgElSWrJgJIktWRASZJaMqAkSS0ZUJKklgwoSVJLBpQkqaWtYx04ye3A/13SdH5VXTRWPZKkXkYLKOBbVXXMiMeXJDXmJT5JUktjBtSBSc5P8pkklyY5ZKWNkmxPsjPJzoWFhflWKEkazZiX+H4X+K9VdW+So4CPAq9cvlFVLQCLyVRzrE+SNKLRAmrpgIiqujnJM8aqRZLUz2iX+JJsW/L6nwFfH6sWSVI/Y17i+5dJ3gPsCdwF/NqItUiSmhnzEt9pYx1bktSfw8wlSS0ZUJKklgwoSVJLBpQkqSUDSpLUkgElSWrJgJIktWRASZJaMqAkSS0ZUJKklgwoSVJLBpQkqSUDSpLUkgElSWrJgJIktWRASZJaMqAkSS0ZUJKklgwoSVJLBpQkqSUDSpLUkgElSWrJgJIktWRASZJaMqAkSS0ZUJKklgwoSVJLBpQkqSUDSpLUkgElSWrJgJIktWRASZJaMqAkSS0ZUJKklgwoSVJLBpQkqSUDSpLUkgElSWpp1IBK8rwkf5LkC0muSfL8MeuRJPUx9hnUB4EdVfVy4EzgnJHrkSQ1MVpAJXkOcEBVfQGgqnYC+03bJUmbXKpqnAMn/wg4pap+c0nbh4CPVNX/XtK2Hdg+XdwHeGiuhT7hQODukY49ts3ad/u9+WzWvo/d77ur6tjljVvHqGQqwErp+KS2qloAFuZS0SqS7Kyqnxq7jjFs1r7b781ns/a9a7/HvAf1l8Bhy9oOnbZLkja50QKqqu4FvpvkHwMk+Qkmp3n3jVWTJKmPMS/xAfxr4Pwkzwb+Fjh55HpWM/plxhFt1r7b781ns/a9Zb9HGyQhSdJqxv4clCRJKzKgJEktGVCSpJY2bUAl2ZbkqiTXJvl8ktdM249Mcl2SLya5bDqAY3Gfn57OG/inSf4wydYl634ryY3Tfd+XpOX/2x+m39P1e0znTXzRCt9z7yRfSrLPvPqxq2bZ7yQvTXLptP1Pk/zm8uN1MuO+/2KS/5nkc0u+/s68+7QeM+73a5f1+fNJ3j/vPq3XrP/OR3t/q6pN+QUcDfzI9PX+wJemrz8FvHD6+nXAB6av9wSuZzI9E8BpwNumr18BfAzYY7r8buCtY/dxFv2eLr8WuAW4H3jRsu/3q8CXmczwsc/Y/ZtHv4GXAvtOX28BbgIOHLuPc+r7SV1/t4fs9wrf+7eB147dxzn9zEd7fxv9f2SHLyazWnwBeAmwsGzdjdP//jzwb5a07wVcO319BvCGJeu2AJ8du1+z6Peytgue6o8W+FzngBqw3wcBnwH2Hrtf8+j7RgqoAX/me05/5hm7X3P6mY/2/tbyMtQ8TU9VzwHOZzKzxe3LNrk3yf7L11XVw0x+UQG+BLwxydYkewJvB3586Nqfjl3o925lVv1O8h+T3MTk7PGyqvrezIudsRn+zF+d5PIk1yfZ0fVy9qIBftffBHyipu/Wnc2o76O9v7X+xRpakucyOXW9viZz/q02P+BK6wqgqj4N3Ax8FrgCuA342kBlP2272O/dxiz7XVWnVtVPA88HXpHkBya67GSGff8fwB8BbwCOAfZjcpm3pYF+138ZuGgG5Q1qVn0f8/1t7JkkRpPkhcCHgFOr6hvT5juAVy/b9ICqui/JHcDSm6Z7AY8sLlfV7wO/P133YqDllE272u+5FjegofpdVQ8muZzJvyg/NZNiZ2yWfa+qPwf+fHExyceBE2dZ76wM8TNP8ioml8UenF2lszfrvo/1/raZz6B2MHncx+IPj6q6BTgiycEA038V3zBd/Sng55ecDp8C/PHivkkOm/73WUwexPjeoTvwQ9rBrvV7d7GDGfU7yTFJ/u709d5M3qA/O0TRM7KD2fX98CQHTl/vweTv4DNDFD0DO5j97/rbgD+YZZED2cEM+z7W+9umPYMCtgGfSLK07S1MRuddnMmKO5n8AVJVDyX5HeBTSR4BbgWWDi/ekeTHgGcCZ9fkAYwd7VK/dyOz7PcDwIXTIbqPAB+e/vF3Ncu+bwH+KMkzgWcAl1TVlTOud1Zm+rs+PXO4p6r+36wLHcCs/85HeX9zLj5JUkub+RKfJKkxA0qS1JIBJUlqyYCSJLVkQEmSWjKgJEktGVBSE0lemeS06esk2TJ2TdKYNvMHdaVRJPkHwG8ADzP5sOuZTKaOeZTJfGkwnTopyVeB7zOZL20rkwmKf6OqvjrvuqV5M6Ck+fsdJtPQPDx9MNw7gSOBFwCXTLd5FPhkVZ0+Uo3S6Awoaf6ew2TKmIeBfZk8W+zXgZcBh0+32cITZ1PSpmRASfP3XuDy6WSr32YyH9o/BX4CWJwl+0HgJ5P8d+B5wGPAXUzC7F1VddPcq5bmzLn4pCaSvAI4qqrOXtZ+PPDMqvrIOJVJ43AUnzSCJGcnOWRZ898Cf7nC5sWSZ49Jm4WX+KRx7LW8oapuBW5N8gYmj0V4iMmlvecCW5P8MpN7U3sAF1bV+XOsV5o7L/FJI0jyH4CXMrnX9BiTARF7AJ8G3l+r/GFOn+XDattIuwMDSpLUkvegJEktGVCSpJYMKElSSwaUJKklA0qS1JIBJUlq6f8DwZ2+yG173msAAAAASUVORK5CYII=)"
   ]
  },
  {
   "cell_type": "code",
   "execution_count": null,
   "metadata": {},
   "outputs": [],
   "source": []
  },
  {
   "cell_type": "code",
   "execution_count": null,
   "metadata": {},
   "outputs": [],
   "source": []
  },
  {
   "cell_type": "code",
   "execution_count": null,
   "metadata": {},
   "outputs": [],
   "source": []
  },
  {
   "cell_type": "code",
   "execution_count": null,
   "metadata": {},
   "outputs": [],
   "source": []
  },
  {
   "cell_type": "code",
   "execution_count": null,
   "metadata": {},
   "outputs": [],
   "source": []
  },
  {
   "cell_type": "code",
   "execution_count": null,
   "metadata": {},
   "outputs": [],
   "source": []
  },
  {
   "cell_type": "code",
   "execution_count": null,
   "metadata": {},
   "outputs": [],
   "source": []
  },
  {
   "cell_type": "code",
   "execution_count": null,
   "metadata": {},
   "outputs": [],
   "source": []
  },
  {
   "cell_type": "code",
   "execution_count": null,
   "metadata": {},
   "outputs": [],
   "source": []
  },
  {
   "cell_type": "code",
   "execution_count": null,
   "metadata": {},
   "outputs": [],
   "source": []
  },
  {
   "cell_type": "code",
   "execution_count": null,
   "metadata": {},
   "outputs": [],
   "source": []
  },
  {
   "cell_type": "code",
   "execution_count": null,
   "metadata": {},
   "outputs": [],
   "source": []
  },
  {
   "cell_type": "code",
   "execution_count": null,
   "metadata": {},
   "outputs": [],
   "source": []
  },
  {
   "cell_type": "code",
   "execution_count": null,
   "metadata": {},
   "outputs": [],
   "source": []
  },
  {
   "cell_type": "code",
   "execution_count": null,
   "metadata": {},
   "outputs": [],
   "source": []
  },
  {
   "cell_type": "code",
   "execution_count": null,
   "metadata": {},
   "outputs": [],
   "source": []
  },
  {
   "cell_type": "code",
   "execution_count": null,
   "metadata": {},
   "outputs": [],
   "source": []
  },
  {
   "cell_type": "code",
   "execution_count": null,
   "metadata": {},
   "outputs": [],
   "source": []
  },
  {
   "cell_type": "code",
   "execution_count": null,
   "metadata": {},
   "outputs": [],
   "source": []
  },
  {
   "cell_type": "code",
   "execution_count": null,
   "metadata": {},
   "outputs": [],
   "source": []
  },
  {
   "cell_type": "code",
   "execution_count": null,
   "metadata": {},
   "outputs": [],
   "source": []
  },
  {
   "cell_type": "code",
   "execution_count": null,
   "metadata": {},
   "outputs": [],
   "source": []
  },
  {
   "cell_type": "code",
   "execution_count": null,
   "metadata": {},
   "outputs": [],
   "source": []
  },
  {
   "cell_type": "code",
   "execution_count": null,
   "metadata": {},
   "outputs": [],
   "source": []
  },
  {
   "cell_type": "code",
   "execution_count": null,
   "metadata": {},
   "outputs": [],
   "source": []
  },
  {
   "cell_type": "code",
   "execution_count": null,
   "metadata": {},
   "outputs": [],
   "source": []
  },
  {
   "cell_type": "code",
   "execution_count": null,
   "metadata": {},
   "outputs": [],
   "source": []
  },
  {
   "cell_type": "code",
   "execution_count": null,
   "metadata": {},
   "outputs": [],
   "source": []
  },
  {
   "cell_type": "code",
   "execution_count": null,
   "metadata": {},
   "outputs": [],
   "source": []
  },
  {
   "cell_type": "code",
   "execution_count": null,
   "metadata": {},
   "outputs": [],
   "source": []
  },
  {
   "cell_type": "code",
   "execution_count": null,
   "metadata": {},
   "outputs": [],
   "source": []
  },
  {
   "cell_type": "code",
   "execution_count": null,
   "metadata": {},
   "outputs": [],
   "source": []
  },
  {
   "cell_type": "code",
   "execution_count": null,
   "metadata": {},
   "outputs": [],
   "source": []
  },
  {
   "cell_type": "code",
   "execution_count": null,
   "metadata": {},
   "outputs": [],
   "source": []
  },
  {
   "cell_type": "code",
   "execution_count": null,
   "metadata": {},
   "outputs": [],
   "source": []
  }
 ],
 "metadata": {
  "kernelspec": {
   "display_name": "Python 3",
   "language": "python",
   "name": "python3"
  },
  "language_info": {
   "codemirror_mode": {
    "name": "ipython",
    "version": 3
   },
   "file_extension": ".py",
   "mimetype": "text/x-python",
   "name": "python",
   "nbconvert_exporter": "python",
   "pygments_lexer": "ipython3",
   "version": "3.7.4"
  }
 },
 "nbformat": 4,
 "nbformat_minor": 2
}
