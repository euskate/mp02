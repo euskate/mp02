{
 "cells": [
  {
   "cell_type": "code",
   "execution_count": 54,
   "metadata": {},
   "outputs": [],
   "source": [
    "import pandas as pd\n",
    "import numpy as np\n",
    "\n",
    "li = list()\n",
    "\n",
    "\n",
    "book_rate_2019 = pd.read_csv('./data/독서__지난_1년간__복수응답__13세_이상_인구__2019.csv', encoding='euc-kr', skiprows=1)\n",
    "book_rate_2017 = pd.read_csv('./data/독서__지난_1년간__복수응답__13세_이상_인구__2017.csv', encoding='euc-kr', skiprows=1)\n",
    "book_rate_2015 = pd.read_csv('./data/독서__지난_1년간__복수응답__13세_이상_인구__2015.csv', encoding='euc-kr', skiprows=1)\n",
    "book_rate_2013 = pd.read_csv('./data/독서__지난_1년간__복수응답__13세_이상_인구__2013.csv', encoding='euc-kr', skiprows=1)\n",
    "book_rate_2011 = pd.read_csv('./data/독서__지난_1년간__복수응답__13세_이상_인구__2011.csv', encoding='euc-kr', skiprows=1)\n",
    "book_rate_2009 = pd.read_csv('./data/독서__지난_1년간__복수응답__13세_이상_인구__2009.csv', encoding='euc-kr', skiprows=1)\n",
    "\n",
    "dic = {\n",
    "    \"행정구역별(1)\":\"행정구역\",\n",
    "    \"특성별(1)\":\"대분류\",\n",
    "    \"특성별(2)\":\"소분류\",\n",
    "    \"- 잡지류 (%)\":\"잡지류\",\n",
    "    \"· 평균 독서 권수 (권)\":\"잡지평균권수\",\n",
    "    \"- 교양 서적 (%)\":\"교양서적\",\n",
    "    \"· 평균 독서 권수 (권).1\":\"교양서적평균권수\",\n",
    "    \"- 직업과 관련한 서적류 (%)\":\"직업서적\",\n",
    "    \"· 평균 독서 권수 (권).2\":\"직업서적평균권수\",\n",
    "    \"- 생활취미 정보 서적 (%)\":\"생활취미서적\",\n",
    "    \"· 평균 독서 권수 (권).3\":\"생활취미서적평균권수\",\n",
    "    \"- 기타 (%)\":\"기타서적\",\n",
    "    \"· 평균 독서 권수 (권).4\":\"기타서적평균권수\",\n",
    "}\n",
    "\n",
    "\n",
    "book_rate_2019.rename( columns=dic, inplace=True )\n",
    "book_rate_2017.rename( columns=dic, inplace=True )\n",
    "book_rate_2015.rename( columns=dic, inplace=True )\n",
    "book_rate_2013.rename( columns=dic, inplace=True )\n",
    "book_rate_2011.rename( columns=dic, inplace=True )\n",
    "book_rate_2009.rename( columns=dic, inplace=True )\n",
    "\n",
    "change = ['10대', '20대', '30대', '40대', '50대', '60세 이상', '65세 이상']\n",
    "\n",
    "book_rate_age_2019 = book_rate_2019[book_rate_2019['대분류'] == '연령']\n",
    "book_rate_age_2017 = book_rate_2017[book_rate_2017['대분류'] == '연령']\n",
    "book_rate_age_2015 = book_rate_2015[book_rate_2015['대분류'] == '연령']\n",
    "book_rate_age_2013 = book_rate_2013[book_rate_2013['대분류'] == '연령']\n",
    "book_rate_age_2011 = book_rate_2011[book_rate_2011['대분류'] == '연령']\n",
    "book_rate_age_2009 = book_rate_2009[book_rate_2009['대분류'] == '연령']\n",
    "\n",
    "book_rate_T_2019 = book_rate_age_2019.iloc[:, range(2,len(book_rate_age_2019.columns))].T\n",
    "book_rate_T_2017 = book_rate_age_2017.iloc[:, range(2,len(book_rate_age_2017.columns))].T\n",
    "book_rate_T_2015 = book_rate_age_2015.iloc[:, range(2,len(book_rate_age_2015.columns))].T\n",
    "book_rate_T_2013 = book_rate_age_2013.iloc[:, range(2,len(book_rate_age_2013.columns))].T\n",
    "book_rate_T_2011 = book_rate_age_2011.iloc[:, range(2,len(book_rate_age_2011.columns))].T\n",
    "book_rate_T_2009 = book_rate_age_2009.iloc[:, range(2,len(book_rate_age_2009.columns))].T\n",
    "\n",
    "book_rate_T_2019.to_csv('./book_rate_mid/book_rate_mid_2019.csv', encoding=\"euc-kr\")\n",
    "book_rate_T_2017.to_csv('./book_rate_mid/book_rate_mid_2017.csv', encoding=\"euc-kr\")\n",
    "book_rate_T_2015.to_csv('./book_rate_mid/book_rate_mid_2015.csv', encoding=\"euc-kr\")\n",
    "book_rate_T_2013.to_csv('./book_rate_mid/book_rate_mid_2013.csv', encoding=\"euc-kr\")\n",
    "book_rate_T_2011.to_csv('./book_rate_mid/book_rate_mid_2011.csv', encoding=\"euc-kr\")\n",
    "book_rate_T_2009.to_csv('./book_rate_mid/book_rate_mid_2009.csv', encoding=\"euc-kr\")\n",
    "\n",
    "book_rate_final_2019 = pd.read_csv('./book_rate_mid/book_rate_mid_2019.csv', encoding=\"euc-kr\", skiprows=1)\n",
    "book_rate_final_2017 = pd.read_csv('./book_rate_mid/book_rate_mid_2017.csv', encoding=\"euc-kr\", skiprows=1)\n",
    "book_rate_final_2015 = pd.read_csv('./book_rate_mid/book_rate_mid_2015.csv', encoding=\"euc-kr\", skiprows=1)\n",
    "book_rate_final_2013 = pd.read_csv('./book_rate_mid/book_rate_mid_2013.csv', encoding=\"euc-kr\", skiprows=1)\n",
    "book_rate_final_2011 = pd.read_csv('./book_rate_mid/book_rate_mid_2011.csv', encoding=\"euc-kr\", skiprows=1)\n",
    "book_rate_final_2009 = pd.read_csv('./book_rate_mid/book_rate_mid_2009.csv', encoding=\"euc-kr\", skiprows=1)\n",
    "\n",
    "del book_rate_final_2019[\"15∼19세\"]\n",
    "del book_rate_final_2017[\"15∼19세\"]\n",
    "del book_rate_final_2015[\"15∼19세\"]\n",
    "del book_rate_final_2013[\"15∼19세\"]\n",
    "del book_rate_final_2011[\"15∼19세\"]\n",
    "# del book_rate_final_2009[\"15∼19세\"]\n",
    "\n",
    "dic = {\n",
    "    \"13∼19세\":\"10대\",\n",
    "    \"20∼29세\":\"20대\",\n",
    "    \"30∼39세\":\"30대\",\n",
    "    \"40∼49세\":\"40대\",\n",
    "    \"50∼59세\":\"50대\",\n",
    "}\n",
    "dic_2009 = {\n",
    "    \"15∼19세\":\"10대\",\n",
    "    \"20∼29세\":\"20대\",\n",
    "    \"30∼39세\":\"30대\",\n",
    "    \"40∼49세\":\"40대\",\n",
    "    \"50∼59세\":\"50대\",\n",
    "}\n",
    "\n",
    "book_rate_final_2019.rename( columns=dic, inplace=True )\n",
    "book_rate_final_2017.rename( columns=dic, inplace=True )\n",
    "book_rate_final_2015.rename( columns=dic, inplace=True )\n",
    "book_rate_final_2013.rename( columns=dic, inplace=True )\n",
    "book_rate_final_2011.rename( columns=dic, inplace=True )\n",
    "book_rate_final_2009.rename( columns=dic_2009, inplace=True )\n",
    "\n",
    "book_rate_final_2019.drop(index=book_rate_final_2019[ book_rate_final_2019[\"소분류\"]==\"계 (%)\" ].index, inplace=True)\n",
    "book_rate_final_2017.drop(index=book_rate_final_2017[book_rate_final_2017[\"소분류\"]==\"계 (%)\"].index, inplace=True)\n",
    "book_rate_final_2015.drop(index=book_rate_final_2015[book_rate_final_2015[\"소분류\"]==\"계 (%)\"].index, inplace=True)\n",
    "book_rate_final_2013.drop(index=book_rate_final_2013[book_rate_final_2013[\"소분류\"]==\"계 (%)\"].index, inplace=True)\n",
    "book_rate_final_2011.drop(index=book_rate_final_2011[book_rate_final_2011[\"소분류\"]==\"계 (%)\"].index, inplace=True)\n",
    "book_rate_final_2009.drop(index=book_rate_final_2009[book_rate_final_2009[\"소분류\"]==\"계 (%)\"].index, inplace=True)\n",
    "\n",
    "li_2019 = [ 2019 for i in range(0,book_rate_final_2019.shape[0])]\n",
    "li_2017 = [ 2017 for i in range(0,book_rate_final_2017.shape[0])]\n",
    "li_2015 = [ 2015 for i in range(0,book_rate_final_2015.shape[0])]\n",
    "li_2013 = [ 2013 for i in range(0,book_rate_final_2013.shape[0])]\n",
    "li_2011 = [ 2011 for i in range(0,book_rate_final_2011.shape[0])]\n",
    "li_2009 = [ 2009 for i in range(0,book_rate_final_2009.shape[0])]\n",
    "\n",
    "book_rate_final_2019['연도'] = li_2019\n",
    "book_rate_final_2017['연도'] = li_2017\n",
    "book_rate_final_2015['연도'] = li_2015\n",
    "book_rate_final_2013['연도'] = li_2013\n",
    "book_rate_final_2011['연도'] = li_2011\n",
    "book_rate_final_2009['연도'] = li_2009\n",
    "\n",
    "book_rate_2019_2009 = pd.concat([\n",
    "    book_rate_final_2019, book_rate_final_2017, book_rate_final_2015, \n",
    "    book_rate_final_2013, book_rate_final_2011, book_rate_final_2009], ignore_index=True)\n",
    "\n",
    "book_rate_2019_2009.to_csv('./output/book_rate_2019_2009.csv', encoding='euc-kr', index=False)"
   ]
  },
  {
   "cell_type": "code",
   "execution_count": 55,
   "metadata": {},
   "outputs": [],
   "source": [
    "book_rate = pd.read_csv('./output/book_rate_2019_2009.csv', encoding='euc-kr')"
   ]
  },
  {
   "cell_type": "code",
   "execution_count": 58,
   "metadata": {},
   "outputs": [
    {
     "data": {
      "text/html": [
       "<div>\n",
       "<style scoped>\n",
       "    .dataframe tbody tr th:only-of-type {\n",
       "        vertical-align: middle;\n",
       "    }\n",
       "\n",
       "    .dataframe tbody tr th {\n",
       "        vertical-align: top;\n",
       "    }\n",
       "\n",
       "    .dataframe thead th {\n",
       "        text-align: right;\n",
       "    }\n",
       "</style>\n",
       "<table border=\"1\" class=\"dataframe\">\n",
       "  <thead>\n",
       "    <tr style=\"text-align: right;\">\n",
       "      <th></th>\n",
       "      <th>소분류</th>\n",
       "      <th>10대</th>\n",
       "      <th>20대</th>\n",
       "      <th>30대</th>\n",
       "      <th>40대</th>\n",
       "      <th>50대</th>\n",
       "      <th>60세 이상</th>\n",
       "      <th>65세 이상</th>\n",
       "      <th>연도</th>\n",
       "    </tr>\n",
       "  </thead>\n",
       "  <tbody>\n",
       "    <tr>\n",
       "      <td>0</td>\n",
       "      <td>인구 1인당 평균독서권수 (권)</td>\n",
       "      <td>13.1</td>\n",
       "      <td>9.8</td>\n",
       "      <td>9.9</td>\n",
       "      <td>9.2</td>\n",
       "      <td>5.2</td>\n",
       "      <td>2.4</td>\n",
       "      <td>1.8</td>\n",
       "      <td>2019</td>\n",
       "    </tr>\n",
       "    <tr>\n",
       "      <td>1</td>\n",
       "      <td>독서함 (%)</td>\n",
       "      <td>70.9</td>\n",
       "      <td>66.0</td>\n",
       "      <td>63.2</td>\n",
       "      <td>59.0</td>\n",
       "      <td>43.6</td>\n",
       "      <td>26.1</td>\n",
       "      <td>21.2</td>\n",
       "      <td>2019</td>\n",
       "    </tr>\n",
       "  </tbody>\n",
       "</table>\n",
       "</div>"
      ],
      "text/plain": [
       "                 소분류   10대   20대   30대   40대   50대  60세 이상  65세 이상    연도\n",
       "0  인구 1인당 평균독서권수 (권)  13.1   9.8   9.9   9.2   5.2     2.4     1.8  2019\n",
       "1            독서함 (%)  70.9  66.0  63.2  59.0  43.6    26.1    21.2  2019"
      ]
     },
     "execution_count": 58,
     "metadata": {},
     "output_type": "execute_result"
    }
   ],
   "source": [
    "book_rate.head(2)"
   ]
  },
  {
   "cell_type": "markdown",
   "metadata": {},
   "source": [
    "# 시각화!!"
   ]
  },
  {
   "cell_type": "code",
   "execution_count": 78,
   "metadata": {},
   "outputs": [],
   "source": [
    "import seaborn as sns\n",
    "\n",
    "import matplotlib.pyplot as plt\n",
    "# 주피터 내장\n",
    "%matplotlib inline\n",
    "# 한글처리 \n",
    "import platform\n",
    "from matplotlib import font_manager, rc"
   ]
  },
  {
   "cell_type": "code",
   "execution_count": 81,
   "metadata": {},
   "outputs": [],
   "source": [
    "# 한글처리\n",
    "plt.rcParams['axes.unicode_minus'] = False\n",
    "if platform.system() == 'Darwin':    # 맥\n",
    "#     font_list_mac = fm.OSXInstalledFonts()\n",
    "    rc( 'font', family='AppleGothic' )\n",
    "elif platform.system() == 'Linux': # 리눅스\n",
    "    rc( 'font', family='NanumGothic' )\n",
    "elif platform.system() == 'Windows': # 윈도우\n",
    "    # 폰트 차후 확인\n",
    "    # fontName = font_manager.FontProperties( fname=fontPath ).get_name()\n",
    "    rc( 'font', family='NanumGothic' )\n",
    "else:\n",
    "    print('알수없는 시스템. 미적용')"
   ]
  },
  {
   "cell_type": "code",
   "execution_count": 65,
   "metadata": {},
   "outputs": [
    {
     "data": {
      "text/html": [
       "<div>\n",
       "<style scoped>\n",
       "    .dataframe tbody tr th:only-of-type {\n",
       "        vertical-align: middle;\n",
       "    }\n",
       "\n",
       "    .dataframe tbody tr th {\n",
       "        vertical-align: top;\n",
       "    }\n",
       "\n",
       "    .dataframe thead th {\n",
       "        text-align: right;\n",
       "    }\n",
       "</style>\n",
       "<table border=\"1\" class=\"dataframe\">\n",
       "  <thead>\n",
       "    <tr style=\"text-align: right;\">\n",
       "      <th></th>\n",
       "      <th>소분류</th>\n",
       "      <th>10대</th>\n",
       "      <th>20대</th>\n",
       "      <th>30대</th>\n",
       "      <th>40대</th>\n",
       "      <th>50대</th>\n",
       "      <th>60세 이상</th>\n",
       "      <th>65세 이상</th>\n",
       "      <th>연도</th>\n",
       "    </tr>\n",
       "  </thead>\n",
       "  <tbody>\n",
       "    <tr>\n",
       "      <td>0</td>\n",
       "      <td>인구 1인당 평균독서권수 (권)</td>\n",
       "      <td>13.1</td>\n",
       "      <td>9.8</td>\n",
       "      <td>9.9</td>\n",
       "      <td>9.2</td>\n",
       "      <td>5.2</td>\n",
       "      <td>2.4</td>\n",
       "      <td>1.8</td>\n",
       "      <td>2019</td>\n",
       "    </tr>\n",
       "    <tr>\n",
       "      <td>1</td>\n",
       "      <td>독서함 (%)</td>\n",
       "      <td>70.9</td>\n",
       "      <td>66.0</td>\n",
       "      <td>63.2</td>\n",
       "      <td>59.0</td>\n",
       "      <td>43.6</td>\n",
       "      <td>26.1</td>\n",
       "      <td>21.2</td>\n",
       "      <td>2019</td>\n",
       "    </tr>\n",
       "  </tbody>\n",
       "</table>\n",
       "</div>"
      ],
      "text/plain": [
       "                 소분류   10대   20대   30대   40대   50대  60세 이상  65세 이상    연도\n",
       "0  인구 1인당 평균독서권수 (권)  13.1   9.8   9.9   9.2   5.2     2.4     1.8  2019\n",
       "1            독서함 (%)  70.9  66.0  63.2  59.0  43.6    26.1    21.2  2019"
      ]
     },
     "execution_count": 65,
     "metadata": {},
     "output_type": "execute_result"
    }
   ],
   "source": [
    "book_rate.head(2)"
   ]
  },
  {
   "cell_type": "code",
   "execution_count": 63,
   "metadata": {
    "scrolled": true
   },
   "outputs": [
    {
     "data": {
      "text/html": [
       "<div>\n",
       "<style scoped>\n",
       "    .dataframe tbody tr th:only-of-type {\n",
       "        vertical-align: middle;\n",
       "    }\n",
       "\n",
       "    .dataframe tbody tr th {\n",
       "        vertical-align: top;\n",
       "    }\n",
       "\n",
       "    .dataframe thead th {\n",
       "        text-align: right;\n",
       "    }\n",
       "</style>\n",
       "<table border=\"1\" class=\"dataframe\">\n",
       "  <thead>\n",
       "    <tr style=\"text-align: right;\">\n",
       "      <th></th>\n",
       "      <th>소분류</th>\n",
       "      <th>10대</th>\n",
       "      <th>20대</th>\n",
       "      <th>30대</th>\n",
       "      <th>40대</th>\n",
       "      <th>50대</th>\n",
       "      <th>60세 이상</th>\n",
       "      <th>65세 이상</th>\n",
       "      <th>연도</th>\n",
       "    </tr>\n",
       "  </thead>\n",
       "  <tbody>\n",
       "    <tr>\n",
       "      <td>0</td>\n",
       "      <td>인구 1인당 평균독서권수 (권)</td>\n",
       "      <td>13.1</td>\n",
       "      <td>9.8</td>\n",
       "      <td>9.9</td>\n",
       "      <td>9.2</td>\n",
       "      <td>5.2</td>\n",
       "      <td>2.4</td>\n",
       "      <td>1.8</td>\n",
       "      <td>2019</td>\n",
       "    </tr>\n",
       "    <tr>\n",
       "      <td>13</td>\n",
       "      <td>인구 1인당 평균독서권수 (권)</td>\n",
       "      <td>15.7</td>\n",
       "      <td>14.5</td>\n",
       "      <td>12.4</td>\n",
       "      <td>11.7</td>\n",
       "      <td>6.0</td>\n",
       "      <td>3.0</td>\n",
       "      <td>2.3</td>\n",
       "      <td>2017</td>\n",
       "    </tr>\n",
       "    <tr>\n",
       "      <td>26</td>\n",
       "      <td>인구 1인당 평균독서권수 (권)</td>\n",
       "      <td>15.0</td>\n",
       "      <td>14.0</td>\n",
       "      <td>13.1</td>\n",
       "      <td>9.6</td>\n",
       "      <td>5.9</td>\n",
       "      <td>2.8</td>\n",
       "      <td>2.3</td>\n",
       "      <td>2015</td>\n",
       "    </tr>\n",
       "    <tr>\n",
       "      <td>39</td>\n",
       "      <td>인구 1인당 평균독서권수 (권)</td>\n",
       "      <td>20.0</td>\n",
       "      <td>17.2</td>\n",
       "      <td>14.5</td>\n",
       "      <td>11.7</td>\n",
       "      <td>6.2</td>\n",
       "      <td>2.7</td>\n",
       "      <td>2.2</td>\n",
       "      <td>2013</td>\n",
       "    </tr>\n",
       "    <tr>\n",
       "      <td>52</td>\n",
       "      <td>인구 1인당 평균독서권수 (권)</td>\n",
       "      <td>22.2</td>\n",
       "      <td>18.8</td>\n",
       "      <td>16.6</td>\n",
       "      <td>13.0</td>\n",
       "      <td>7.7</td>\n",
       "      <td>3.0</td>\n",
       "      <td>2.3</td>\n",
       "      <td>2011</td>\n",
       "    </tr>\n",
       "    <tr>\n",
       "      <td>65</td>\n",
       "      <td>인구 1인당 평균독서권수 (권)</td>\n",
       "      <td>17.8</td>\n",
       "      <td>17.9</td>\n",
       "      <td>14.5</td>\n",
       "      <td>10.4</td>\n",
       "      <td>5.8</td>\n",
       "      <td>2.2</td>\n",
       "      <td>1.6</td>\n",
       "      <td>2009</td>\n",
       "    </tr>\n",
       "  </tbody>\n",
       "</table>\n",
       "</div>"
      ],
      "text/plain": [
       "                  소분류   10대   20대   30대   40대  50대  60세 이상  65세 이상    연도\n",
       "0   인구 1인당 평균독서권수 (권)  13.1   9.8   9.9   9.2  5.2     2.4     1.8  2019\n",
       "13  인구 1인당 평균독서권수 (권)  15.7  14.5  12.4  11.7  6.0     3.0     2.3  2017\n",
       "26  인구 1인당 평균독서권수 (권)  15.0  14.0  13.1   9.6  5.9     2.8     2.3  2015\n",
       "39  인구 1인당 평균독서권수 (권)  20.0  17.2  14.5  11.7  6.2     2.7     2.2  2013\n",
       "52  인구 1인당 평균독서권수 (권)  22.2  18.8  16.6  13.0  7.7     3.0     2.3  2011\n",
       "65  인구 1인당 평균독서권수 (권)  17.8  17.9  14.5  10.4  5.8     2.2     1.6  2009"
      ]
     },
     "execution_count": 63,
     "metadata": {},
     "output_type": "execute_result"
    }
   ],
   "source": [
    "book_rate[book_rate.소분류 == \"인구 1인당 평균독서권수 (권)\"]"
   ]
  },
  {
   "cell_type": "code",
   "execution_count": 94,
   "metadata": {},
   "outputs": [
    {
     "data": {
      "text/html": [
       "<div>\n",
       "<style scoped>\n",
       "    .dataframe tbody tr th:only-of-type {\n",
       "        vertical-align: middle;\n",
       "    }\n",
       "\n",
       "    .dataframe tbody tr th {\n",
       "        vertical-align: top;\n",
       "    }\n",
       "\n",
       "    .dataframe thead th {\n",
       "        text-align: right;\n",
       "    }\n",
       "</style>\n",
       "<table border=\"1\" class=\"dataframe\">\n",
       "  <thead>\n",
       "    <tr style=\"text-align: right;\">\n",
       "      <th></th>\n",
       "      <th>소분류</th>\n",
       "      <th>10대</th>\n",
       "      <th>20대</th>\n",
       "      <th>30대</th>\n",
       "      <th>40대</th>\n",
       "      <th>50대</th>\n",
       "      <th>60세 이상</th>\n",
       "      <th>65세 이상</th>\n",
       "      <th>연도</th>\n",
       "    </tr>\n",
       "  </thead>\n",
       "  <tbody>\n",
       "    <tr>\n",
       "      <td>0</td>\n",
       "      <td>인구 1인당 평균독서권수 (권)</td>\n",
       "      <td>13.1</td>\n",
       "      <td>9.8</td>\n",
       "      <td>9.9</td>\n",
       "      <td>9.2</td>\n",
       "      <td>5.2</td>\n",
       "      <td>2.4</td>\n",
       "      <td>1.8</td>\n",
       "      <td>2019</td>\n",
       "    </tr>\n",
       "    <tr>\n",
       "      <td>1</td>\n",
       "      <td>독서함 (%)</td>\n",
       "      <td>70.9</td>\n",
       "      <td>66.0</td>\n",
       "      <td>63.2</td>\n",
       "      <td>59.0</td>\n",
       "      <td>43.6</td>\n",
       "      <td>26.1</td>\n",
       "      <td>21.2</td>\n",
       "      <td>2019</td>\n",
       "    </tr>\n",
       "    <tr>\n",
       "      <td>2</td>\n",
       "      <td>독서인구 1인당 평균독서권수 (권)</td>\n",
       "      <td>18.4</td>\n",
       "      <td>14.9</td>\n",
       "      <td>15.6</td>\n",
       "      <td>15.7</td>\n",
       "      <td>11.9</td>\n",
       "      <td>9.2</td>\n",
       "      <td>8.7</td>\n",
       "      <td>2019</td>\n",
       "    </tr>\n",
       "    <tr>\n",
       "      <td>3</td>\n",
       "      <td>잡지류</td>\n",
       "      <td>16.5</td>\n",
       "      <td>23.8</td>\n",
       "      <td>25.9</td>\n",
       "      <td>26.1</td>\n",
       "      <td>29.7</td>\n",
       "      <td>26.7</td>\n",
       "      <td>25.4</td>\n",
       "      <td>2019</td>\n",
       "    </tr>\n",
       "    <tr>\n",
       "      <td>4</td>\n",
       "      <td>잡지평균권수</td>\n",
       "      <td>5.3</td>\n",
       "      <td>4.5</td>\n",
       "      <td>4.5</td>\n",
       "      <td>5.4</td>\n",
       "      <td>5.6</td>\n",
       "      <td>6.6</td>\n",
       "      <td>7.5</td>\n",
       "      <td>2019</td>\n",
       "    </tr>\n",
       "    <tr>\n",
       "      <td>5</td>\n",
       "      <td>교양서적</td>\n",
       "      <td>77.1</td>\n",
       "      <td>66.1</td>\n",
       "      <td>60.9</td>\n",
       "      <td>64.8</td>\n",
       "      <td>66.3</td>\n",
       "      <td>72.8</td>\n",
       "      <td>76.8</td>\n",
       "      <td>2019</td>\n",
       "    </tr>\n",
       "    <tr>\n",
       "      <td>6</td>\n",
       "      <td>교양서적평균권수</td>\n",
       "      <td>9.6</td>\n",
       "      <td>6.8</td>\n",
       "      <td>8.6</td>\n",
       "      <td>8.9</td>\n",
       "      <td>8.3</td>\n",
       "      <td>7.3</td>\n",
       "      <td>7.0</td>\n",
       "      <td>2019</td>\n",
       "    </tr>\n",
       "    <tr>\n",
       "      <td>7</td>\n",
       "      <td>직업서적</td>\n",
       "      <td>19.3</td>\n",
       "      <td>47.0</td>\n",
       "      <td>44.8</td>\n",
       "      <td>43.4</td>\n",
       "      <td>36.4</td>\n",
       "      <td>16.9</td>\n",
       "      <td>11.6</td>\n",
       "      <td>2019</td>\n",
       "    </tr>\n",
       "    <tr>\n",
       "      <td>8</td>\n",
       "      <td>직업서적평균권수</td>\n",
       "      <td>5.8</td>\n",
       "      <td>5.4</td>\n",
       "      <td>5.5</td>\n",
       "      <td>5.1</td>\n",
       "      <td>6.2</td>\n",
       "      <td>4.8</td>\n",
       "      <td>4.6</td>\n",
       "      <td>2019</td>\n",
       "    </tr>\n",
       "    <tr>\n",
       "      <td>9</td>\n",
       "      <td>생활취미서적</td>\n",
       "      <td>15.2</td>\n",
       "      <td>21.7</td>\n",
       "      <td>34.6</td>\n",
       "      <td>27.9</td>\n",
       "      <td>22.3</td>\n",
       "      <td>19.2</td>\n",
       "      <td>15.9</td>\n",
       "      <td>2019</td>\n",
       "    </tr>\n",
       "  </tbody>\n",
       "</table>\n",
       "</div>"
      ],
      "text/plain": [
       "                   소분류   10대   20대   30대   40대   50대  60세 이상  65세 이상    연도\n",
       "0    인구 1인당 평균독서권수 (권)  13.1   9.8   9.9   9.2   5.2     2.4     1.8  2019\n",
       "1              독서함 (%)  70.9  66.0  63.2  59.0  43.6    26.1    21.2  2019\n",
       "2  독서인구 1인당 평균독서권수 (권)  18.4  14.9  15.6  15.7  11.9     9.2     8.7  2019\n",
       "3                  잡지류  16.5  23.8  25.9  26.1  29.7    26.7    25.4  2019\n",
       "4               잡지평균권수   5.3   4.5   4.5   5.4   5.6     6.6     7.5  2019\n",
       "5                 교양서적  77.1  66.1  60.9  64.8  66.3    72.8    76.8  2019\n",
       "6             교양서적평균권수   9.6   6.8   8.6   8.9   8.3     7.3     7.0  2019\n",
       "7                 직업서적  19.3  47.0  44.8  43.4  36.4    16.9    11.6  2019\n",
       "8             직업서적평균권수   5.8   5.4   5.5   5.1   6.2     4.8     4.6  2019\n",
       "9               생활취미서적  15.2  21.7  34.6  27.9  22.3    19.2    15.9  2019"
      ]
     },
     "execution_count": 94,
     "metadata": {},
     "output_type": "execute_result"
    }
   ],
   "source": [
    "book_rate.head(10)"
   ]
  },
  {
   "cell_type": "code",
   "execution_count": 93,
   "metadata": {
    "scrolled": true
   },
   "outputs": [
    {
     "data": {
      "text/plain": [
       "array(['인구 1인당 평균독서권수 (권)', '독서함 (%)', '독서인구 1인당 평균독서권수 (권)', '잡지류',\n",
       "       '잡지평균권수', '교양서적', '교양서적평균권수', '직업서적', '직업서적평균권수', '생활취미서적',\n",
       "       '생활취미서적평균권수', '기타서적', '기타서적평균권수'], dtype=object)"
      ]
     },
     "execution_count": 93,
     "metadata": {},
     "output_type": "execute_result"
    }
   ],
   "source": [
    "book_rate.소분류.unique()"
   ]
  },
  {
   "cell_type": "code",
   "execution_count": 95,
   "metadata": {
    "scrolled": false
   },
   "outputs": [
    {
     "data": {
      "image/png": "[encoded data removed]",
      "text/plain": [
       "<Figure size 432x432 with 1 Axes>"
      ]
     },
     "metadata": {
      "needs_background": "light"
     },
     "output_type": "display_data"
    },
    {
     "data": {
      "image/png": "[encoded data removed]",
      "text/plain": [
       "<Figure size 432x432 with 1 Axes>"
      ]
     },
     "metadata": {
      "needs_background": "light"
     },
     "output_type": "display_data"
    },
    {
     "data": {
      "image/png": "[encoded data removed]",
      "text/plain": [
       "<Figure size 432x432 with 1 Axes>"
      ]
     },
     "metadata": {
      "needs_background": "light"
     },
     "output_type": "display_data"
    },
    {
     "data": {
      "image/png": "[encoded data removed]",
      "text/plain": [
       "<Figure size 432x432 with 1 Axes>"
      ]
     },
     "metadata": {
      "needs_background": "light"
     },
     "output_type": "display_data"
    },
    {
     "data": {
      "image/png": "[encoded data removed]",
      "text/plain": [
       "<Figure size 432x432 with 1 Axes>"
      ]
     },
     "metadata": {
      "needs_background": "light"
     },
     "output_type": "display_data"
    },
    {
     "data": {
      "image/png": "[encoded data removed]",
      "text/plain": [
       "<Figure size 432x432 with 1 Axes>"
      ]
     },
     "metadata": {
      "needs_background": "light"
     },
     "output_type": "display_data"
    },
    {
     "data": {
      "image/png": "[encoded data removed]",
      "text/plain": [
       "<Figure size 432x432 with 1 Axes>"
      ]
     },
     "metadata": {
      "needs_background": "light"
     },
     "output_type": "display_data"
    }
   ],
   "source": [
    "a = book_rate[book_rate.소분류 == \"인구 1인당 평균독서권수 (권)\"]\n",
    "\n",
    "li = [\"10대\", \"20대\", \"30대\", \"40대\", \"50대\", \"60세 이상\", \"65세 이상\"]\n",
    "for i in li:\n",
    "    g = sns.factorplot(x=\"연도\",y=i,data=a,kind=\"bar\", size = 6 , \n",
    "    palette = \"muted\")\n",
    "    g.despine(left=True)\n",
    "    g = g.set_ylabels(i +\" 독서율\")"
   ]
  },
  {
   "cell_type": "code",
   "execution_count": null,
   "metadata": {},
   "outputs": [],
   "source": []
  },
  {
   "cell_type": "code",
   "execution_count": null,
   "metadata": {},
   "outputs": [],
   "source": [
    "test = book_rate[book_rate.소분류 == \"인구 1인당 평균독서권수 (권)\"]\n",
    "test.melt(id_vars=\"연도\", value_vars=[\"10대\", \"20대\", '30대', '40대', '50대', '60세 이상', '65세 이상'])"
   ]
  },
  {
   "cell_type": "code",
   "execution_count": null,
   "metadata": {},
   "outputs": [],
   "source": []
  },
  {
   "cell_type": "code",
   "execution_count": null,
   "metadata": {},
   "outputs": [],
   "source": []
  },
  {
   "cell_type": "code",
   "execution_count": null,
   "metadata": {},
   "outputs": [],
   "source": []
  },
  {
   "cell_type": "code",
   "execution_count": null,
   "metadata": {},
   "outputs": [],
   "source": []
  },
  {
   "cell_type": "code",
   "execution_count": null,
   "metadata": {},
   "outputs": [],
   "source": []
  },
  {
   "cell_type": "code",
   "execution_count": null,
   "metadata": {},
   "outputs": [],
   "source": []
  },
  {
   "cell_type": "code",
   "execution_count": null,
   "metadata": {},
   "outputs": [],
   "source": []
  },
  {
   "cell_type": "code",
   "execution_count": null,
   "metadata": {},
   "outputs": [],
   "source": [
    "import pandas as pd\n",
    "import numpy as np"
   ]
  },
  {
   "cell_type": "code",
   "execution_count": 24,
   "metadata": {},
   "outputs": [],
   "source": [
    "book_rate_2019 = pd.read_csv('./data/독서__지난_1년간__복수응답__13세_이상_인구__2019.csv', encoding='euc-kr', skiprows=1)\n",
    "book_rate_2017 = pd.read_csv('./data/독서__지난_1년간__복수응답__13세_이상_인구__2017.csv', encoding='euc-kr', skiprows=1)\n",
    "book_rate_2015 = pd.read_csv('./data/독서__지난_1년간__복수응답__13세_이상_인구__2015.csv', encoding='euc-kr', skiprows=1)\n",
    "book_rate_2013 = pd.read_csv('./data/독서__지난_1년간__복수응답__13세_이상_인구__2013.csv', encoding='euc-kr', skiprows=1)\n",
    "book_rate_2011 = pd.read_csv('./data/독서__지난_1년간__복수응답__13세_이상_인구__2011.csv', encoding='euc-kr', skiprows=1)\n",
    "book_rate_2009 = pd.read_csv('./data/독서__지난_1년간__복수응답__13세_이상_인구__2009.csv', encoding='euc-kr', skiprows=1)"
   ]
  },
  {
   "cell_type": "code",
   "execution_count": 25,
   "metadata": {},
   "outputs": [],
   "source": [
    "dic = {\n",
    "    \"행정구역별(1)\":\"행정구역\",\n",
    "    \"특성별(1)\":\"대분류\",\n",
    "    \"특성별(2)\":\"소분류\",\n",
    "    \"- 잡지류 (%)\":\"잡지류\",\n",
    "    \"· 평균 독서 권수 (권)\":\"잡지평균권수\",\n",
    "    \"- 교양 서적 (%)\":\"교양서적\",\n",
    "    \"· 평균 독서 권수 (권).1\":\"교양서적평균권수\",\n",
    "    \"- 직업과 관련한 서적류 (%)\":\"직업서적\",\n",
    "    \"· 평균 독서 권수 (권).2\":\"직업서적평균권수\",\n",
    "    \"- 생활취미 정보 서적 (%)\":\"생활취미서적\",\n",
    "    \"· 평균 독서 권수 (권).3\":\"생활취미서적평균권수\",\n",
    "    \"- 기타 (%)\":\"기타서적\",\n",
    "    \"· 평균 독서 권수 (권).4\":\"기타서적평균권수\",\n",
    "}\n",
    "\n",
    "book_rate_2019.rename( columns=dic, inplace=True )\n",
    "book_rate_2017.rename( columns=dic, inplace=True )\n",
    "book_rate_2015.rename( columns=dic, inplace=True )\n",
    "book_rate_2013.rename( columns=dic, inplace=True )\n",
    "book_rate_2011.rename( columns=dic, inplace=True )\n",
    "book_rate_2009.rename( columns=dic, inplace=True )"
   ]
  },
  {
   "cell_type": "code",
   "execution_count": 26,
   "metadata": {},
   "outputs": [],
   "source": [
    "change = ['10대', '20대', '30대', '40대', '50대', '60세 이상', '65세 이상']"
   ]
  },
  {
   "cell_type": "code",
   "execution_count": 28,
   "metadata": {
    "scrolled": false
   },
   "outputs": [],
   "source": [
    "book_rate_age_2019 = book_rate_2019[book_rate_2019['대분류'] == '연령']\n",
    "book_rate_age_2017 = book_rate_2017[book_rate_2017['대분류'] == '연령']\n",
    "book_rate_age_2015 = book_rate_2015[book_rate_2015['대분류'] == '연령']\n",
    "book_rate_age_2013 = book_rate_2013[book_rate_2013['대분류'] == '연령']\n",
    "book_rate_age_2011 = book_rate_2011[book_rate_2011['대분류'] == '연령']\n",
    "book_rate_age_2009 = book_rate_2009[book_rate_2009['대분류'] == '연령']"
   ]
  },
  {
   "cell_type": "code",
   "execution_count": 30,
   "metadata": {},
   "outputs": [],
   "source": [
    "book_rate_T_2019 = book_rate_age_2019.iloc[:, range(2,len(book_rate_age_2019.columns))].T\n",
    "book_rate_T_2017 = book_rate_age_2017.iloc[:, range(2,len(book_rate_age_2017.columns))].T\n",
    "book_rate_T_2015 = book_rate_age_2015.iloc[:, range(2,len(book_rate_age_2015.columns))].T\n",
    "book_rate_T_2013 = book_rate_age_2013.iloc[:, range(2,len(book_rate_age_2013.columns))].T\n",
    "book_rate_T_2011 = book_rate_age_2011.iloc[:, range(2,len(book_rate_age_2011.columns))].T\n",
    "book_rate_T_2009 = book_rate_age_2009.iloc[:, range(2,len(book_rate_age_2009.columns))].T"
   ]
  },
  {
   "cell_type": "code",
   "execution_count": 31,
   "metadata": {},
   "outputs": [],
   "source": [
    "book_rate_T_2019.to_csv('./book_rate_mid/book_rate_mid_2019.csv', encoding=\"euc-kr\")\n",
    "book_rate_T_2017.to_csv('./book_rate_mid/book_rate_mid_2017.csv', encoding=\"euc-kr\")\n",
    "book_rate_T_2015.to_csv('./book_rate_mid/book_rate_mid_2015.csv', encoding=\"euc-kr\")\n",
    "book_rate_T_2013.to_csv('./book_rate_mid/book_rate_mid_2013.csv', encoding=\"euc-kr\")\n",
    "book_rate_T_2011.to_csv('./book_rate_mid/book_rate_mid_2011.csv', encoding=\"euc-kr\")\n",
    "book_rate_T_2009.to_csv('./book_rate_mid/book_rate_mid_2009.csv', encoding=\"euc-kr\")"
   ]
  },
  {
   "cell_type": "code",
   "execution_count": 32,
   "metadata": {},
   "outputs": [],
   "source": [
    "book_rate_final_2019 = pd.read_csv('./book_rate_mid/book_rate_mid_2019.csv', encoding=\"euc-kr\", skiprows=1)\n",
    "book_rate_final_2017 = pd.read_csv('./book_rate_mid/book_rate_mid_2017.csv', encoding=\"euc-kr\", skiprows=1)\n",
    "book_rate_final_2015 = pd.read_csv('./book_rate_mid/book_rate_mid_2015.csv', encoding=\"euc-kr\", skiprows=1)\n",
    "book_rate_final_2013 = pd.read_csv('./book_rate_mid/book_rate_mid_2013.csv', encoding=\"euc-kr\", skiprows=1)\n",
    "book_rate_final_2011 = pd.read_csv('./book_rate_mid/book_rate_mid_2011.csv', encoding=\"euc-kr\", skiprows=1)\n",
    "book_rate_final_2009 = pd.read_csv('./book_rate_mid/book_rate_mid_2009.csv', encoding=\"euc-kr\", skiprows=1)"
   ]
  },
  {
   "cell_type": "code",
   "execution_count": 33,
   "metadata": {},
   "outputs": [],
   "source": [
    "del book_rate_final_2019[\"15∼19세\"]\n",
    "del book_rate_final_2017[\"15∼19세\"]\n",
    "del book_rate_final_2015[\"15∼19세\"]\n",
    "del book_rate_final_2013[\"15∼19세\"]\n",
    "del book_rate_final_2011[\"15∼19세\"]\n",
    "# del book_rate_final_2009[\"15∼19세\"]"
   ]
  },
  {
   "cell_type": "code",
   "execution_count": 34,
   "metadata": {},
   "outputs": [],
   "source": [
    "dic = {\n",
    "    \"13∼19세\":\"10대\",\n",
    "    \"20∼29세\":\"20대\",\n",
    "    \"30∼39세\":\"30대\",\n",
    "    \"40∼49세\":\"40대\",\n",
    "    \"50∼59세\":\"50대\",\n",
    "}\n",
    "dic_2009 = {\n",
    "    \"15∼19세\":\"10대\",\n",
    "    \"20∼29세\":\"20대\",\n",
    "    \"30∼39세\":\"30대\",\n",
    "    \"40∼49세\":\"40대\",\n",
    "    \"50∼59세\":\"50대\",\n",
    "}\n",
    "\n",
    "book_rate_final_2019.rename( columns=dic, inplace=True )\n",
    "book_rate_final_2017.rename( columns=dic, inplace=True )\n",
    "book_rate_final_2015.rename( columns=dic, inplace=True )\n",
    "book_rate_final_2013.rename( columns=dic, inplace=True )\n",
    "book_rate_final_2011.rename( columns=dic, inplace=True )\n",
    "book_rate_final_2009.rename( columns=dic_2009, inplace=True )\n",
    "\n",
    "book_rate_final_2019.drop(index=book_rate_final_2019[book_rate_final_2019[\"소분류\"]==\"계 (%)\"].index, inplace=True)\n",
    "book_rate_final_2017.drop(index=book_rate_final_2017[book_rate_final_2017[\"소분류\"]==\"계 (%)\"].index, inplace=True)\n",
    "book_rate_final_2015.drop(index=book_rate_final_2015[book_rate_final_2015[\"소분류\"]==\"계 (%)\"].index, inplace=True)\n",
    "book_rate_final_2013.drop(index=book_rate_final_2013[book_rate_final_2013[\"소분류\"]==\"계 (%)\"].index, inplace=True)\n",
    "book_rate_final_2011.drop(index=book_rate_final_2011[book_rate_final_2011[\"소분류\"]==\"계 (%)\"].index, inplace=True)\n",
    "book_rate_final_2009.drop(index=book_rate_final_2009[book_rate_final_2009[\"소분류\"]==\"계 (%)\"].index, inplace=True)\n",
    "\n",
    "li_2019 = [ 2019 for i in range(0,book_rate_final_2019.shape[0])]\n",
    "li_2017 = [ 2017 for i in range(0,book_rate_final_2017.shape[0])]\n",
    "li_2015 = [ 2015 for i in range(0,book_rate_final_2015.shape[0])]\n",
    "li_2013 = [ 2013 for i in range(0,book_rate_final_2013.shape[0])]\n",
    "li_2011 = [ 2011 for i in range(0,book_rate_final_2011.shape[0])]\n",
    "li_2009 = [ 2009 for i in range(0,book_rate_final_2009.shape[0])]\n",
    "\n",
    "book_rate_final_2019['연도'] = li_2019\n",
    "book_rate_final_2017['연도'] = li_2017\n",
    "book_rate_final_2015['연도'] = li_2015\n",
    "book_rate_final_2013['연도'] = li_2013\n",
    "book_rate_final_2011['연도'] = li_2011\n",
    "book_rate_final_2009['연도'] = li_2009"
   ]
  },
  {
   "cell_type": "code",
   "execution_count": 44,
   "metadata": {},
   "outputs": [],
   "source": [
    "book_rate_2019_2009 = pd.concat([\n",
    "    book_rate_final_2019, book_rate_final_2017, book_rate_final_2015, \n",
    "    book_rate_final_2013, book_rate_final_2011, book_rate_final_2009], ignore_index=True)"
   ]
  },
  {
   "cell_type": "code",
   "execution_count": 45,
   "metadata": {
    "scrolled": true
   },
   "outputs": [
    {
     "data": {
      "text/plain": [
       "소분류       0\n",
       "10대       0\n",
       "20대       0\n",
       "30대       0\n",
       "40대       0\n",
       "50대       0\n",
       "60세 이상    0\n",
       "65세 이상    0\n",
       "연도        0\n",
       "dtype: int64"
      ]
     },
     "execution_count": 45,
     "metadata": {},
     "output_type": "execute_result"
    }
   ],
   "source": [
    "book_rate_2019_2009.isnull().sum()"
   ]
  },
  {
   "cell_type": "code",
   "execution_count": 46,
   "metadata": {},
   "outputs": [
    {
     "data": {
      "text/html": [
       "<div>\n",
       "<style scoped>\n",
       "    .dataframe tbody tr th:only-of-type {\n",
       "        vertical-align: middle;\n",
       "    }\n",
       "\n",
       "    .dataframe tbody tr th {\n",
       "        vertical-align: top;\n",
       "    }\n",
       "\n",
       "    .dataframe thead th {\n",
       "        text-align: right;\n",
       "    }\n",
       "</style>\n",
       "<table border=\"1\" class=\"dataframe\">\n",
       "  <thead>\n",
       "    <tr style=\"text-align: right;\">\n",
       "      <th></th>\n",
       "      <th>소분류</th>\n",
       "      <th>10대</th>\n",
       "      <th>20대</th>\n",
       "      <th>30대</th>\n",
       "      <th>40대</th>\n",
       "      <th>50대</th>\n",
       "      <th>60세 이상</th>\n",
       "      <th>65세 이상</th>\n",
       "      <th>연도</th>\n",
       "    </tr>\n",
       "  </thead>\n",
       "  <tbody>\n",
       "    <tr>\n",
       "      <td>0</td>\n",
       "      <td>인구 1인당 평균독서권수 (권)</td>\n",
       "      <td>13.1</td>\n",
       "      <td>9.8</td>\n",
       "      <td>9.9</td>\n",
       "      <td>9.2</td>\n",
       "      <td>5.2</td>\n",
       "      <td>2.4</td>\n",
       "      <td>1.8</td>\n",
       "      <td>2019</td>\n",
       "    </tr>\n",
       "    <tr>\n",
       "      <td>1</td>\n",
       "      <td>독서함 (%)</td>\n",
       "      <td>70.9</td>\n",
       "      <td>66.0</td>\n",
       "      <td>63.2</td>\n",
       "      <td>59.0</td>\n",
       "      <td>43.6</td>\n",
       "      <td>26.1</td>\n",
       "      <td>21.2</td>\n",
       "      <td>2019</td>\n",
       "    </tr>\n",
       "    <tr>\n",
       "      <td>2</td>\n",
       "      <td>독서인구 1인당 평균독서권수 (권)</td>\n",
       "      <td>18.4</td>\n",
       "      <td>14.9</td>\n",
       "      <td>15.6</td>\n",
       "      <td>15.7</td>\n",
       "      <td>11.9</td>\n",
       "      <td>9.2</td>\n",
       "      <td>8.7</td>\n",
       "      <td>2019</td>\n",
       "    </tr>\n",
       "    <tr>\n",
       "      <td>3</td>\n",
       "      <td>잡지류</td>\n",
       "      <td>16.5</td>\n",
       "      <td>23.8</td>\n",
       "      <td>25.9</td>\n",
       "      <td>26.1</td>\n",
       "      <td>29.7</td>\n",
       "      <td>26.7</td>\n",
       "      <td>25.4</td>\n",
       "      <td>2019</td>\n",
       "    </tr>\n",
       "    <tr>\n",
       "      <td>4</td>\n",
       "      <td>잡지평균권수</td>\n",
       "      <td>5.3</td>\n",
       "      <td>4.5</td>\n",
       "      <td>4.5</td>\n",
       "      <td>5.4</td>\n",
       "      <td>5.6</td>\n",
       "      <td>6.6</td>\n",
       "      <td>7.5</td>\n",
       "      <td>2019</td>\n",
       "    </tr>\n",
       "    <tr>\n",
       "      <td>...</td>\n",
       "      <td>...</td>\n",
       "      <td>...</td>\n",
       "      <td>...</td>\n",
       "      <td>...</td>\n",
       "      <td>...</td>\n",
       "      <td>...</td>\n",
       "      <td>...</td>\n",
       "      <td>...</td>\n",
       "      <td>...</td>\n",
       "    </tr>\n",
       "    <tr>\n",
       "      <td>73</td>\n",
       "      <td>직업서적평균권수</td>\n",
       "      <td>8.0</td>\n",
       "      <td>7.9</td>\n",
       "      <td>7.6</td>\n",
       "      <td>7.5</td>\n",
       "      <td>7.2</td>\n",
       "      <td>6.2</td>\n",
       "      <td>5.3</td>\n",
       "      <td>2009</td>\n",
       "    </tr>\n",
       "    <tr>\n",
       "      <td>74</td>\n",
       "      <td>생활취미서적</td>\n",
       "      <td>17.0</td>\n",
       "      <td>29.6</td>\n",
       "      <td>34.7</td>\n",
       "      <td>27.0</td>\n",
       "      <td>24.5</td>\n",
       "      <td>18.7</td>\n",
       "      <td>16.9</td>\n",
       "      <td>2009</td>\n",
       "    </tr>\n",
       "    <tr>\n",
       "      <td>75</td>\n",
       "      <td>생활취미서적평균권수</td>\n",
       "      <td>5.2</td>\n",
       "      <td>5.0</td>\n",
       "      <td>5.3</td>\n",
       "      <td>4.5</td>\n",
       "      <td>3.8</td>\n",
       "      <td>3.7</td>\n",
       "      <td>3.6</td>\n",
       "      <td>2009</td>\n",
       "    </tr>\n",
       "    <tr>\n",
       "      <td>76</td>\n",
       "      <td>기타서적</td>\n",
       "      <td>49.0</td>\n",
       "      <td>29.6</td>\n",
       "      <td>19.7</td>\n",
       "      <td>12.4</td>\n",
       "      <td>6.6</td>\n",
       "      <td>3.7</td>\n",
       "      <td>2.6</td>\n",
       "      <td>2009</td>\n",
       "    </tr>\n",
       "    <tr>\n",
       "      <td>77</td>\n",
       "      <td>기타서적평균권수</td>\n",
       "      <td>22.1</td>\n",
       "      <td>22.6</td>\n",
       "      <td>22.1</td>\n",
       "      <td>16.2</td>\n",
       "      <td>10.1</td>\n",
       "      <td>4.8</td>\n",
       "      <td>5.2</td>\n",
       "      <td>2009</td>\n",
       "    </tr>\n",
       "  </tbody>\n",
       "</table>\n",
       "<p>78 rows × 9 columns</p>\n",
       "</div>"
      ],
      "text/plain": [
       "                    소분류   10대   20대   30대   40대   50대  60세 이상  65세 이상    연도\n",
       "0     인구 1인당 평균독서권수 (권)  13.1   9.8   9.9   9.2   5.2     2.4     1.8  2019\n",
       "1               독서함 (%)  70.9  66.0  63.2  59.0  43.6    26.1    21.2  2019\n",
       "2   독서인구 1인당 평균독서권수 (권)  18.4  14.9  15.6  15.7  11.9     9.2     8.7  2019\n",
       "3                   잡지류  16.5  23.8  25.9  26.1  29.7    26.7    25.4  2019\n",
       "4                잡지평균권수   5.3   4.5   4.5   5.4   5.6     6.6     7.5  2019\n",
       "..                  ...   ...   ...   ...   ...   ...     ...     ...   ...\n",
       "73             직업서적평균권수   8.0   7.9   7.6   7.5   7.2     6.2     5.3  2009\n",
       "74               생활취미서적  17.0  29.6  34.7  27.0  24.5    18.7    16.9  2009\n",
       "75           생활취미서적평균권수   5.2   5.0   5.3   4.5   3.8     3.7     3.6  2009\n",
       "76                 기타서적  49.0  29.6  19.7  12.4   6.6     3.7     2.6  2009\n",
       "77             기타서적평균권수  22.1  22.6  22.1  16.2  10.1     4.8     5.2  2009\n",
       "\n",
       "[78 rows x 9 columns]"
      ]
     },
     "execution_count": 46,
     "metadata": {},
     "output_type": "execute_result"
    }
   ],
   "source": [
    "book_rate_2019_2009"
   ]
  },
  {
   "cell_type": "code",
   "execution_count": 47,
   "metadata": {},
   "outputs": [
    {
     "ename": "FileNotFoundError",
     "evalue": "[Errno 2] No such file or directory: './output/book_rate_2019_2009.csv'",
     "output_type": "error",
     "traceback": [
      "\u001b[0;31m---------------------------------------------------------------------------\u001b[0m",
      "\u001b[0;31mFileNotFoundError\u001b[0m                         Traceback (most recent call last)",
      "\u001b[0;32m<ipython-input-47-250592487943>\u001b[0m in \u001b[0;36m<module>\u001b[0;34m\u001b[0m\n\u001b[0;32m----> 1\u001b[0;31m \u001b[0mbook_rate_2019_2009\u001b[0m\u001b[0;34m.\u001b[0m\u001b[0mto_csv\u001b[0m\u001b[0;34m(\u001b[0m\u001b[0;34m'./output/book_rate_2019_2009.csv'\u001b[0m\u001b[0;34m,\u001b[0m \u001b[0mencoding\u001b[0m\u001b[0;34m=\u001b[0m\u001b[0;34m'euc-kr'\u001b[0m\u001b[0;34m)\u001b[0m\u001b[0;34m\u001b[0m\u001b[0;34m\u001b[0m\u001b[0m\n\u001b[0m",
      "\u001b[0;32m~/opt/anaconda3/lib/python3.7/site-packages/pandas/core/generic.py\u001b[0m in \u001b[0;36mto_csv\u001b[0;34m(self, path_or_buf, sep, na_rep, float_format, columns, header, index, index_label, mode, encoding, compression, quoting, quotechar, line_terminator, chunksize, date_format, doublequote, escapechar, decimal)\u001b[0m\n\u001b[1;32m   3226\u001b[0m             \u001b[0mdecimal\u001b[0m\u001b[0;34m=\u001b[0m\u001b[0mdecimal\u001b[0m\u001b[0;34m,\u001b[0m\u001b[0;34m\u001b[0m\u001b[0;34m\u001b[0m\u001b[0m\n\u001b[1;32m   3227\u001b[0m         )\n\u001b[0;32m-> 3228\u001b[0;31m         \u001b[0mformatter\u001b[0m\u001b[0;34m.\u001b[0m\u001b[0msave\u001b[0m\u001b[0;34m(\u001b[0m\u001b[0;34m)\u001b[0m\u001b[0;34m\u001b[0m\u001b[0;34m\u001b[0m\u001b[0m\n\u001b[0m\u001b[1;32m   3229\u001b[0m \u001b[0;34m\u001b[0m\u001b[0m\n\u001b[1;32m   3230\u001b[0m         \u001b[0;32mif\u001b[0m \u001b[0mpath_or_buf\u001b[0m \u001b[0;32mis\u001b[0m \u001b[0;32mNone\u001b[0m\u001b[0;34m:\u001b[0m\u001b[0;34m\u001b[0m\u001b[0;34m\u001b[0m\u001b[0m\n",
      "\u001b[0;32m~/opt/anaconda3/lib/python3.7/site-packages/pandas/io/formats/csvs.py\u001b[0m in \u001b[0;36msave\u001b[0;34m(self)\u001b[0m\n\u001b[1;32m    181\u001b[0m                 \u001b[0mself\u001b[0m\u001b[0;34m.\u001b[0m\u001b[0mmode\u001b[0m\u001b[0;34m,\u001b[0m\u001b[0;34m\u001b[0m\u001b[0;34m\u001b[0m\u001b[0m\n\u001b[1;32m    182\u001b[0m                 \u001b[0mencoding\u001b[0m\u001b[0;34m=\u001b[0m\u001b[0mself\u001b[0m\u001b[0;34m.\u001b[0m\u001b[0mencoding\u001b[0m\u001b[0;34m,\u001b[0m\u001b[0;34m\u001b[0m\u001b[0;34m\u001b[0m\u001b[0m\n\u001b[0;32m--> 183\u001b[0;31m                 \u001b[0mcompression\u001b[0m\u001b[0;34m=\u001b[0m\u001b[0mself\u001b[0m\u001b[0;34m.\u001b[0m\u001b[0mcompression\u001b[0m\u001b[0;34m,\u001b[0m\u001b[0;34m\u001b[0m\u001b[0;34m\u001b[0m\u001b[0m\n\u001b[0m\u001b[1;32m    184\u001b[0m             )\n\u001b[1;32m    185\u001b[0m             \u001b[0mclose\u001b[0m \u001b[0;34m=\u001b[0m \u001b[0;32mTrue\u001b[0m\u001b[0;34m\u001b[0m\u001b[0;34m\u001b[0m\u001b[0m\n",
      "\u001b[0;32m~/opt/anaconda3/lib/python3.7/site-packages/pandas/io/common.py\u001b[0m in \u001b[0;36m_get_handle\u001b[0;34m(path_or_buf, mode, encoding, compression, memory_map, is_text)\u001b[0m\n\u001b[1;32m    397\u001b[0m         \u001b[0;32mif\u001b[0m \u001b[0mencoding\u001b[0m\u001b[0;34m:\u001b[0m\u001b[0;34m\u001b[0m\u001b[0;34m\u001b[0m\u001b[0m\n\u001b[1;32m    398\u001b[0m             \u001b[0;31m# Encoding\u001b[0m\u001b[0;34m\u001b[0m\u001b[0;34m\u001b[0m\u001b[0;34m\u001b[0m\u001b[0m\n\u001b[0;32m--> 399\u001b[0;31m             \u001b[0mf\u001b[0m \u001b[0;34m=\u001b[0m \u001b[0mopen\u001b[0m\u001b[0;34m(\u001b[0m\u001b[0mpath_or_buf\u001b[0m\u001b[0;34m,\u001b[0m \u001b[0mmode\u001b[0m\u001b[0;34m,\u001b[0m \u001b[0mencoding\u001b[0m\u001b[0;34m=\u001b[0m\u001b[0mencoding\u001b[0m\u001b[0;34m,\u001b[0m \u001b[0mnewline\u001b[0m\u001b[0;34m=\u001b[0m\u001b[0;34m\"\"\u001b[0m\u001b[0;34m)\u001b[0m\u001b[0;34m\u001b[0m\u001b[0;34m\u001b[0m\u001b[0m\n\u001b[0m\u001b[1;32m    400\u001b[0m         \u001b[0;32melif\u001b[0m \u001b[0mis_text\u001b[0m\u001b[0;34m:\u001b[0m\u001b[0;34m\u001b[0m\u001b[0;34m\u001b[0m\u001b[0m\n\u001b[1;32m    401\u001b[0m             \u001b[0;31m# No explicit encoding\u001b[0m\u001b[0;34m\u001b[0m\u001b[0;34m\u001b[0m\u001b[0;34m\u001b[0m\u001b[0m\n",
      "\u001b[0;31mFileNotFoundError\u001b[0m: [Errno 2] No such file or directory: './output/book_rate_2019_2009.csv'"
     ]
    }
   ],
   "source": [
    "book_rate_2019_2009.to_csv('./output/book_rate_2019_2009.csv', encoding='euc-kr')"
   ]
  },
  {
   "cell_type": "code",
   "execution_count": null,
   "metadata": {},
   "outputs": [],
   "source": []
  }
 ],
 "metadata": {
  "kernelspec": {
   "display_name": "Python 3",
   "language": "python",
   "name": "python3"
  },
  "language_info": {
   "codemirror_mode": {
    "name": "ipython",
    "version": 3
   },
   "file_extension": ".py",
   "mimetype": "text/x-python",
   "name": "python",
   "nbconvert_exporter": "python",
   "pygments_lexer": "ipython3",
   "version": "3.7.4"
  }
 },
 "nbformat": 4,
 "nbformat_minor": 2
}
