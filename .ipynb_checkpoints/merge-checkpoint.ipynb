{
 "cells": [
  {
   "cell_type": "code",
   "execution_count": 1,
   "metadata": {},
   "outputs": [],
   "source": [
    "# 라이브러리 불러오기\n",
    "import pandas as pd\n",
    "import numpy as np"
   ]
  },
  {
   "cell_type": "code",
   "execution_count": 1,
   "metadata": {},
   "outputs": [],
   "source": [
    "# 농산물 리스트\n",
    "agriList = ['moo', 'baechoo', 'apple', 'scallion']"
   ]
  },
  {
   "cell_type": "code",
   "execution_count": 1,
   "metadata": {},
   "outputs": [],
   "source": [
    "# 데이터 프레임 불러오기 : 농산물\n",
    "for var in agriList:  # 농산물 데이터프레임\n",
    "    globals()[f'df_{var}'] = pd.read_csv(f'./data/result_{var}.csv', usecols=[0, 1])\n",
    "    globals()[f'df_{var}'].rename(columns={'date':'날짜'}, inplace=True)\n",
    "    globals()[f'df_{var}']['날짜'] = pd.to_datetime(df_moo.날짜)"
   ]
  },
  {
   "cell_type": "code",
   "execution_count": 1,
   "metadata": {},
   "outputs": [],
   "source": [
    "# 데이터 프레임 불러오기 : 날씨\n",
    "df_wheather = pd.read_csv('./data/date_final.csv')  # 날씨 데이터프레임"
   ]
  },
  {
   "cell_type": "code",
   "execution_count": 1,
   "metadata": {},
   "outputs": [],
   "source": [
    "# 데이터 타입 변경\n",
    "df_wheather['날짜'] = pd.to_datetime(df_wheather.날짜)\n",
    "df_wheather['현재기온'] = pd.to_numeric(df_wheather['현재기온'], errors='coerce')\n",
    "df_wheather['이슬점온도'] = pd.to_numeric(df_wheather['이슬점온도'], errors='coerce')\n",
    "df_wheather['체감온도'] = pd.to_numeric(df_wheather['체감온도'], errors='coerce')\n",
    "df_wheather['강수량'] = pd.to_numeric(df_wheather['강수량'], errors='coerce')\n",
    "df_wheather['습도'] = pd.to_numeric(df_wheather['습도'], errors='coerce')\n",
    "df_wheather['풍속'] = pd.to_numeric(df_wheather['풍속'], errors='coerce')\n",
    "df_wheather['해면기압'] = pd.to_numeric(df_wheather['해면기압'], errors='coerce')"
   ]
  },
  {
   "cell_type": "code",
   "execution_count": 1,
   "metadata": {},
   "outputs": [],
   "source": [
    "# 농산물 데이터 병합\n",
    "df_agri = pd.DataFrame(data=globals()[f'df_{agriList[0]}'])\n",
    "for var in agriList:\n",
    "    df_agri = pd.merge(df_agri, globals()[f'df_{var}'], on='날짜')"
   ]
  },
  {
   "cell_type": "code",
   "execution_count": 1,
   "metadata": {},
   "outputs": [],
   "source": [
    "# 농산물 및 날씨 데이터 병합\n",
    "df = pd.merge(df_agri, df_wheather, on='날짜')"
   ]
  },
  {
   "cell_type": "code",
   "execution_count": 1,
   "metadata": {},
   "outputs": [],
   "source": [
    "# 데이터 확인\n",
    "print(df.head())\n",
    "print(df.info())"
   ]
  },
  {
   "cell_type": "code",
   "execution_count": null,
   "metadata": {},
   "outputs": [],
   "source": [
    "# CSV 파일로 출력\n",
    "df.to_csv('./data/merge_agri_wheather.csv', encoding='utf-8', index=False)"
   ]
  },
  {
   "cell_type": "code",
   "execution_count": 4,
   "metadata": {},
   "outputs": [
    {
     "name": "stdout",
     "output_type": "stream",
     "text": [
      "         date    평균    평년\n",
      "0  2015-01-02  1287  1561\n",
      "1  2015-01-05  1287  1449\n",
      "2  2015-01-06  1303  1432\n",
      "3  2015-01-07  1277  1411\n",
      "4  2015-01-08  1352  1407\n",
      "date    object\n",
      "평균       int64\n",
      "평년       int64\n",
      "dtype: object\n"
     ]
    }
   ],
   "source": [
    "# 데이터 확인\n",
    "print(df_moo.head())\n",
    "print(df_moo.dtypes)"
   ]
  },
  {
   "cell_type": "code",
   "execution_count": 5,
   "metadata": {},
   "outputs": [
    {
     "name": "stdout",
     "output_type": "stream",
     "text": [
      "           날짜 현재일기  현재기온  이슬점온도  체감온도  강수량  습도   풍향    풍속    해면기압\n",
      "0  2019-12-31    -   2.5  -18.2  -1.9    0  20  서북서  18.7  1031.1\n",
      "1  2019-12-30    -  13.3    7.5  12.5  1.0  68   북서  10.4  1019.7\n",
      "2  2019-12-29    -   5.9   -4.0   5.9    0  49  서북서   3.2  1026.4\n",
      "3  2019-12-28    -   9.1  -10.4   8.3    0  24    남   6.5  1028.1\n",
      "4  2019-12-27    -   8.1  -12.3   5.4    0  22   북서  16.2  1022.1\n",
      "날짜       object\n",
      "현재일기     object\n",
      "현재기온     object\n",
      "이슬점온도    object\n",
      "체감온도     object\n",
      "강수량      object\n",
      "습도       object\n",
      "풍향       object\n",
      "풍속       object\n",
      "해면기압     object\n",
      "dtype: object\n",
      "Index(['날짜', '현재일기', '현재기온', '이슬점온도', '체감온도', '강수량', '습도', '풍향', '풍속', '해면기압'], dtype='object')\n"
     ]
    }
   ],
   "source": [
    "print(df_wheather.head())\n",
    "print(df_wheather.dtypes)\n",
    "print(df_wheather.columns)"
   ]
  },
  {
   "cell_type": "code",
   "execution_count": 6,
   "metadata": {},
   "outputs": [
    {
     "data": {
      "text/plain": [
       "Index(['날짜', '평균', '평년'], dtype='object')"
      ]
     },
     "execution_count": 6,
     "metadata": {},
     "output_type": "execute_result"
    }
   ],
   "source": [
    "# 컬럼명 변경\n",
    "df_moo.rename(columns={'date':'날짜'}, inplace=True)\n",
    "df_moo.columns"
   ]
  },
  {
   "cell_type": "code",
   "execution_count": 7,
   "metadata": {},
   "outputs": [
    {
     "name": "stdout",
     "output_type": "stream",
     "text": [
      "날짜    datetime64[ns]\n",
      "평균             int64\n",
      "평년             int64\n",
      "dtype: object\n",
      "날짜       datetime64[ns]\n",
      "현재일기             object\n",
      "현재기온             object\n",
      "이슬점온도            object\n",
      "체감온도             object\n",
      "강수량              object\n",
      "습도               object\n",
      "풍향               object\n",
      "풍속               object\n",
      "해면기압             object\n",
      "dtype: object\n"
     ]
    }
   ],
   "source": [
    "# 데이터 타입 변경 : datetime\n",
    "df_moo['날짜'] = pd.to_datetime(df_moo.날짜)\n",
    "df_wheather['날짜'] = pd.to_datetime(df_wheather.날짜)\n",
    "print(df_moo.dtypes)\n",
    "print(df_wheather.dtypes)"
   ]
  },
  {
   "cell_type": "code",
   "execution_count": 8,
   "metadata": {},
   "outputs": [
    {
     "data": {
      "text/plain": [
       "날짜       datetime64[ns]\n",
       "현재일기             object\n",
       "현재기온            float64\n",
       "이슬점온도           float64\n",
       "체감온도            float64\n",
       "강수량             float64\n",
       "습도              float64\n",
       "풍향               object\n",
       "풍속              float64\n",
       "해면기압            float64\n",
       "dtype: object"
      ]
     },
     "execution_count": 8,
     "metadata": {},
     "output_type": "execute_result"
    }
   ],
   "source": [
    "# 데이터 타입 변경 : float\n",
    "df_wheather['현재기온'] = pd.to_numeric(df_wheather['현재기온'], errors='coerce')\n",
    "df_wheather['이슬점온도'] = pd.to_numeric(df_wheather['이슬점온도'], errors='coerce')\n",
    "df_wheather['체감온도'] = pd.to_numeric(df_wheather['체감온도'], errors='coerce')\n",
    "df_wheather['강수량'] = pd.to_numeric(df_wheather['강수량'], errors='coerce')\n",
    "df_wheather['습도'] = pd.to_numeric(df_wheather['습도'], errors='coerce')\n",
    "df_wheather['풍속'] = pd.to_numeric(df_wheather['풍속'], errors='coerce')\n",
    "df_wheather['해면기압'] = pd.to_numeric(df_wheather['해면기압'], errors='coerce')\n",
    "df_wheather.dtypes"
   ]
  },
  {
   "cell_type": "code",
   "execution_count": 9,
   "metadata": {},
   "outputs": [
    {
     "data": {
      "text/plain": [
       "날짜    datetime64[ns]\n",
       "평균             int64\n",
       "평년             int64\n",
       "dtype: object"
      ]
     },
     "execution_count": 9,
     "metadata": {},
     "output_type": "execute_result"
    }
   ],
   "source": [
    "# 데이터 타입 확인\n",
    "df_moo.dtypes"
   ]
  },
  {
   "cell_type": "code",
   "execution_count": 10,
   "metadata": {},
   "outputs": [
    {
     "data": {
      "text/plain": [
       "날짜       datetime64[ns]\n",
       "현재일기             object\n",
       "현재기온            float64\n",
       "이슬점온도           float64\n",
       "체감온도            float64\n",
       "강수량             float64\n",
       "습도              float64\n",
       "풍향               object\n",
       "풍속              float64\n",
       "해면기압            float64\n",
       "dtype: object"
      ]
     },
     "execution_count": 10,
     "metadata": {},
     "output_type": "execute_result"
    }
   ],
   "source": [
    "# 데이터 타입 확인\n",
    "df_wheather.dtypes"
   ]
  },
  {
   "cell_type": "code",
   "execution_count": 11,
   "metadata": {},
   "outputs": [],
   "source": [
    "# 데이터 프레임 병합\n",
    "df = pd.merge(df_moo, df_wheather, on='날짜')"
   ]
  },
  {
   "cell_type": "code",
   "execution_count": 12,
   "metadata": {},
   "outputs": [
    {
     "data": {
      "text/html": [
       "<div>\n",
       "<style scoped>\n",
       "    .dataframe tbody tr th:only-of-type {\n",
       "        vertical-align: middle;\n",
       "    }\n",
       "\n",
       "    .dataframe tbody tr th {\n",
       "        vertical-align: top;\n",
       "    }\n",
       "\n",
       "    .dataframe thead th {\n",
       "        text-align: right;\n",
       "    }\n",
       "</style>\n",
       "<table border=\"1\" class=\"dataframe\">\n",
       "  <thead>\n",
       "    <tr style=\"text-align: right;\">\n",
       "      <th></th>\n",
       "      <th>날짜</th>\n",
       "      <th>평균</th>\n",
       "      <th>평년</th>\n",
       "      <th>현재일기</th>\n",
       "      <th>현재기온</th>\n",
       "      <th>이슬점온도</th>\n",
       "      <th>체감온도</th>\n",
       "      <th>강수량</th>\n",
       "      <th>습도</th>\n",
       "      <th>풍향</th>\n",
       "      <th>풍속</th>\n",
       "      <th>해면기압</th>\n",
       "    </tr>\n",
       "  </thead>\n",
       "  <tbody>\n",
       "    <tr>\n",
       "      <td>0</td>\n",
       "      <td>2015-01-02</td>\n",
       "      <td>1287</td>\n",
       "      <td>1561</td>\n",
       "      <td>-</td>\n",
       "      <td>2.1</td>\n",
       "      <td>-15.4</td>\n",
       "      <td>-2.3</td>\n",
       "      <td>0.0</td>\n",
       "      <td>26.0</td>\n",
       "      <td>북서</td>\n",
       "      <td>17.6</td>\n",
       "      <td>1021.4</td>\n",
       "    </tr>\n",
       "    <tr>\n",
       "      <td>1</td>\n",
       "      <td>2015-01-05</td>\n",
       "      <td>1287</td>\n",
       "      <td>1449</td>\n",
       "      <td>-</td>\n",
       "      <td>10.4</td>\n",
       "      <td>-3.3</td>\n",
       "      <td>10.4</td>\n",
       "      <td>0.0</td>\n",
       "      <td>38.0</td>\n",
       "      <td>서북서</td>\n",
       "      <td>2.9</td>\n",
       "      <td>1017.9</td>\n",
       "    </tr>\n",
       "    <tr>\n",
       "      <td>2</td>\n",
       "      <td>2015-01-06</td>\n",
       "      <td>1303</td>\n",
       "      <td>1432</td>\n",
       "      <td>-</td>\n",
       "      <td>9.1</td>\n",
       "      <td>-16.2</td>\n",
       "      <td>6.7</td>\n",
       "      <td>11.5</td>\n",
       "      <td>15.0</td>\n",
       "      <td>북서</td>\n",
       "      <td>15.8</td>\n",
       "      <td>1011.3</td>\n",
       "    </tr>\n",
       "    <tr>\n",
       "      <td>3</td>\n",
       "      <td>2015-01-07</td>\n",
       "      <td>1277</td>\n",
       "      <td>1411</td>\n",
       "      <td>-</td>\n",
       "      <td>2.5</td>\n",
       "      <td>-28.5</td>\n",
       "      <td>-1.6</td>\n",
       "      <td>0.0</td>\n",
       "      <td>8.0</td>\n",
       "      <td>북서</td>\n",
       "      <td>16.9</td>\n",
       "      <td>1018.0</td>\n",
       "    </tr>\n",
       "    <tr>\n",
       "      <td>4</td>\n",
       "      <td>2015-01-08</td>\n",
       "      <td>1352</td>\n",
       "      <td>1407</td>\n",
       "      <td>-</td>\n",
       "      <td>3.3</td>\n",
       "      <td>-19.4</td>\n",
       "      <td>-0.1</td>\n",
       "      <td>0.0</td>\n",
       "      <td>17.0</td>\n",
       "      <td>북서</td>\n",
       "      <td>13.7</td>\n",
       "      <td>1022.8</td>\n",
       "    </tr>\n",
       "    <tr>\n",
       "      <td>...</td>\n",
       "      <td>...</td>\n",
       "      <td>...</td>\n",
       "      <td>...</td>\n",
       "      <td>...</td>\n",
       "      <td>...</td>\n",
       "      <td>...</td>\n",
       "      <td>...</td>\n",
       "      <td>...</td>\n",
       "      <td>...</td>\n",
       "      <td>...</td>\n",
       "      <td>...</td>\n",
       "      <td>...</td>\n",
       "    </tr>\n",
       "    <tr>\n",
       "      <td>1183</td>\n",
       "      <td>2019-12-24</td>\n",
       "      <td>3073</td>\n",
       "      <td>1618</td>\n",
       "      <td>-</td>\n",
       "      <td>10.9</td>\n",
       "      <td>-0.5</td>\n",
       "      <td>9.2</td>\n",
       "      <td>0.0</td>\n",
       "      <td>45.0</td>\n",
       "      <td>서북서</td>\n",
       "      <td>13.3</td>\n",
       "      <td>1025.4</td>\n",
       "    </tr>\n",
       "    <tr>\n",
       "      <td>1184</td>\n",
       "      <td>2019-12-26</td>\n",
       "      <td>3068</td>\n",
       "      <td>1596</td>\n",
       "      <td>-</td>\n",
       "      <td>6.1</td>\n",
       "      <td>0.6</td>\n",
       "      <td>3.0</td>\n",
       "      <td>0.0</td>\n",
       "      <td>68.0</td>\n",
       "      <td>북서</td>\n",
       "      <td>15.8</td>\n",
       "      <td>1012.9</td>\n",
       "    </tr>\n",
       "    <tr>\n",
       "      <td>1185</td>\n",
       "      <td>2019-12-27</td>\n",
       "      <td>3022</td>\n",
       "      <td>1582</td>\n",
       "      <td>-</td>\n",
       "      <td>8.1</td>\n",
       "      <td>-12.3</td>\n",
       "      <td>5.4</td>\n",
       "      <td>0.0</td>\n",
       "      <td>22.0</td>\n",
       "      <td>북서</td>\n",
       "      <td>16.2</td>\n",
       "      <td>1022.1</td>\n",
       "    </tr>\n",
       "    <tr>\n",
       "      <td>1186</td>\n",
       "      <td>2019-12-30</td>\n",
       "      <td>2987</td>\n",
       "      <td>1480</td>\n",
       "      <td>-</td>\n",
       "      <td>13.3</td>\n",
       "      <td>7.5</td>\n",
       "      <td>12.5</td>\n",
       "      <td>1.0</td>\n",
       "      <td>68.0</td>\n",
       "      <td>북서</td>\n",
       "      <td>10.4</td>\n",
       "      <td>1019.7</td>\n",
       "    </tr>\n",
       "    <tr>\n",
       "      <td>1187</td>\n",
       "      <td>2019-12-31</td>\n",
       "      <td>3023</td>\n",
       "      <td>1473</td>\n",
       "      <td>-</td>\n",
       "      <td>2.5</td>\n",
       "      <td>-18.2</td>\n",
       "      <td>-1.9</td>\n",
       "      <td>0.0</td>\n",
       "      <td>20.0</td>\n",
       "      <td>서북서</td>\n",
       "      <td>18.7</td>\n",
       "      <td>1031.1</td>\n",
       "    </tr>\n",
       "  </tbody>\n",
       "</table>\n",
       "<p>1188 rows × 12 columns</p>\n",
       "</div>"
      ],
      "text/plain": [
       "             날짜    평균    평년 현재일기  현재기온  이슬점온도  체감온도   강수량    습도   풍향    풍속  \\\n",
       "0    2015-01-02  1287  1561    -   2.1  -15.4  -2.3   0.0  26.0   북서  17.6   \n",
       "1    2015-01-05  1287  1449    -  10.4   -3.3  10.4   0.0  38.0  서북서   2.9   \n",
       "2    2015-01-06  1303  1432    -   9.1  -16.2   6.7  11.5  15.0   북서  15.8   \n",
       "3    2015-01-07  1277  1411    -   2.5  -28.5  -1.6   0.0   8.0   북서  16.9   \n",
       "4    2015-01-08  1352  1407    -   3.3  -19.4  -0.1   0.0  17.0   북서  13.7   \n",
       "...         ...   ...   ...  ...   ...    ...   ...   ...   ...  ...   ...   \n",
       "1183 2019-12-24  3073  1618    -  10.9   -0.5   9.2   0.0  45.0  서북서  13.3   \n",
       "1184 2019-12-26  3068  1596    -   6.1    0.6   3.0   0.0  68.0   북서  15.8   \n",
       "1185 2019-12-27  3022  1582    -   8.1  -12.3   5.4   0.0  22.0   북서  16.2   \n",
       "1186 2019-12-30  2987  1480    -  13.3    7.5  12.5   1.0  68.0   북서  10.4   \n",
       "1187 2019-12-31  3023  1473    -   2.5  -18.2  -1.9   0.0  20.0  서북서  18.7   \n",
       "\n",
       "        해면기압  \n",
       "0     1021.4  \n",
       "1     1017.9  \n",
       "2     1011.3  \n",
       "3     1018.0  \n",
       "4     1022.8  \n",
       "...      ...  \n",
       "1183  1025.4  \n",
       "1184  1012.9  \n",
       "1185  1022.1  \n",
       "1186  1019.7  \n",
       "1187  1031.1  \n",
       "\n",
       "[1188 rows x 12 columns]"
      ]
     },
     "execution_count": 12,
     "metadata": {},
     "output_type": "execute_result"
    }
   ],
   "source": [
    "# 확인\n",
    "df.head()"
   ]
  },
  {
   "cell_type": "code",
   "execution_count": 14,
   "metadata": {},
   "outputs": [],
   "source": [
    "# CSV 파일로 출력\n",
    "df.to_csv('./data/join_moo_wheather.csv', encoding='utf-8', index=False)"
   ]
  }
 ],
 "metadata": {
  "kernelspec": {
   "display_name": "Python 3",
   "language": "python",
   "name": "python3"
  },
  "language_info": {
   "codemirror_mode": {
    "name": "ipython",
    "version": 3
   },
   "file_extension": ".py",
   "mimetype": "text/x-python",
   "name": "python",
   "nbconvert_exporter": "python",
   "pygments_lexer": "ipython3",
   "version": "3.7.4"
  }
 },
 "nbformat": 4,
 "nbformat_minor": 4
}
