{
 "nbformat": 4,
 "nbformat_minor": 2,
 "metadata": {
  "language_info": {
   "name": "python",
   "codemirror_mode": {
    "name": "ipython",
    "version": 3
   },
   "version": "3.7.4-final"
  },
  "orig_nbformat": 2,
  "file_extension": ".py",
  "mimetype": "text/x-python",
  "name": "python",
  "npconvert_exporter": "python",
  "pygments_lexer": "ipython3",
  "version": 3,
  "kernelspec": {
   "name": "python37464bitbaseconda646300c29d484215892dcbe5e024ba5c",
   "display_name": "Python 3.7.4 64-bit ('base': conda)"
  }
 },
 "cells": [
  {
   "cell_type": "code",
   "execution_count": 1,
   "metadata": {},
   "outputs": [],
   "source": [
    "from datetime import datetime\n",
    "from datetime import timedelta"
   ]
  },
  {
   "cell_type": "code",
   "execution_count": 2,
   "metadata": {},
   "outputs": [],
   "source": [
    "start = datetime(2015, 1, 1)"
   ]
  },
  {
   "cell_type": "code",
   "execution_count": 3,
   "metadata": {},
   "outputs": [],
   "source": [
    "listOfStartday = []"
   ]
  },
  {
   "cell_type": "code",
   "execution_count": 4,
   "metadata": {},
   "outputs": [],
   "source": [
    "for i in range(20):\n",
    "    listOfStartday.append(start)\n",
    "    start = start + timedelta(90)"
   ]
  },
  {
   "cell_type": "code",
   "execution_count": 15,
   "metadata": {},
   "outputs": [
    {
     "data": {
      "text/plain": "[datetime.datetime(2015, 1, 1, 0, 0),\n datetime.datetime(2015, 4, 1, 0, 0),\n datetime.datetime(2015, 6, 30, 0, 0),\n datetime.datetime(2015, 9, 28, 0, 0),\n datetime.datetime(2015, 12, 27, 0, 0),\n datetime.datetime(2016, 3, 26, 0, 0),\n datetime.datetime(2016, 6, 24, 0, 0),\n datetime.datetime(2016, 9, 22, 0, 0),\n datetime.datetime(2016, 12, 21, 0, 0),\n datetime.datetime(2017, 3, 21, 0, 0),\n datetime.datetime(2017, 6, 19, 0, 0),\n datetime.datetime(2017, 9, 17, 0, 0),\n datetime.datetime(2017, 12, 16, 0, 0),\n datetime.datetime(2018, 3, 16, 0, 0),\n datetime.datetime(2018, 6, 14, 0, 0),\n datetime.datetime(2018, 9, 12, 0, 0),\n datetime.datetime(2018, 12, 11, 0, 0),\n datetime.datetime(2019, 3, 11, 0, 0),\n datetime.datetime(2019, 6, 9, 0, 0),\n datetime.datetime(2019, 9, 7, 0, 0)]"
     },
     "execution_count": 15,
     "metadata": {},
     "output_type": "execute_result"
    }
   ],
   "source": [
    "listOfStartday"
   ]
  },
  {
   "cell_type": "code",
   "execution_count": null,
   "metadata": {},
   "outputs": [],
   "source": []
  }
 ]
}