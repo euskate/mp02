{
 "cells": [
  {
   "cell_type": "code",
   "execution_count": 1,
   "metadata": {},
   "outputs": [],
   "source": [
    "from selenium import webdriver\n",
    "from selenium.webdriver.common.keys import Keys\n",
    "import time\n",
    "from datetime import datetime\n",
    "from datetime import timedelta\n",
    "\n",
    "import pandas as pd\n",
    "import numpy as np\n",
    "\n",
    "options = webdriver.ChromeOptions()\n",
    "\n",
    "# options.add_argument('headless') \n",
    "options.add_argument(\"window-size=1920x1080\")\n",
    "options.add_argument('user-agent=Mozilla/5.0 (Macintosh; Intel Mac OS X 10_12_6) AppleWebKit/537.36 (KHTML, like Gecko) Chrome/61.0.3163.100 Safari/537.36')  # user-agent "
   ]
  },
  {
   "cell_type": "code",
   "execution_count": 2,
   "metadata": {},
   "outputs": [],
   "source": [
    "def make_fdate(date):\n",
    "    year = str(date.year)\n",
    "    if date.month >= 10:\n",
    "        month = str(date.month)\n",
    "    else:\n",
    "        month = \"0\"+str(date.month)\n",
    "    if date.day >= 10:\n",
    "        day = str(date.day)\n",
    "    else:\n",
    "        day = \"0\"+str(date.day)\n",
    "    hour = str(date.hour)\n",
    "\n",
    "    fdate = year + \".\" + month + \".\" + day + \".\" + hour + \":00\"\n",
    "    return fdate"
   ]
  },
  {
   "cell_type": "code",
   "execution_count": 19,
   "metadata": {
    "scrolled": false
   },
   "outputs": [
    {
     "name": "stdout",
     "output_type": "stream",
     "text": [
      "time : 975.1068749427795\n"
     ]
    }
   ],
   "source": [
    "start = time.time()\n",
    "\n",
    "driver = webdriver.Chrome(\"/Users/kimyihwan/20191216/2차_미니_프로젝트/mp02_real/webdriver/chromedriver 2\", \n",
    "                          options=options)\n",
    "\n",
    "driver.get(\"https://www.weather.go.kr/w/weather/now.do\")\n",
    "time.sleep(1)\n",
    "\n",
    "# 확장 버튼누르고\n",
    "aa = driver.find_element_by_xpath('//*[@id=\"sfc-city-weather\"]/div[1]/div/div/label')\n",
    "aa.click()\n",
    "time.sleep(0.5)\n",
    "\n",
    "limit = datetime(2010, 1, 1, 14, 0, 0)\n",
    "date = datetime(2012, 4, 7, 14, 0, 0)\n",
    "\n",
    "date_li = list()\n",
    "weather_type = list() # 현재 일기\n",
    "temp = list() # 현재 기온\n",
    "temp_dew = list() # 이슬점 온도\n",
    "temp_feel = list() # 체감온도\n",
    "rainy = list() # 일 강수량\n",
    "hum = list() # 습도 %\n",
    "wind_dir = list() # 풍향\n",
    "wind_speed = list() # 풍속 km/h\n",
    "sea_air_press = list() # 해면기압\n",
    "\n",
    "while date >= limit:\n",
    "    fdate = make_fdate(date)\n",
    "    \n",
    "    \n",
    "    # 날짜 입력하고\n",
    "    a1 = driver.find_element_by_class_name('sub-select-wrap')\n",
    "    a2 = a1.find_element_by_class_name('time')\n",
    "    a3 = a2.find_element_by_tag_name('input')\n",
    "    a3.clear()\n",
    "    a3.send_keys(fdate)\n",
    "    a3.send_keys(Keys.RETURN)\n",
    "    time.sleep(1)\n",
    "    \n",
    "    # 데이터 빼오고\n",
    "    date_li.append(date)\n",
    "    \n",
    "    try:\n",
    "        q1= driver.find_element_by_xpath('//*[@id=\"sfc-city-weather\"]/div[3]/div/div[2]/div/table/tbody/tr[16]')\n",
    "    except:\n",
    "        temp.append('-')\n",
    "        temp_dew.append('-')\n",
    "        temp_feel.append('-')\n",
    "        hum.append('-')\n",
    "        wind_speed.append('-')\n",
    "        sea_air_press.append('-')\n",
    "        \n",
    "        date = date - timedelta(1)\n",
    "        continue\n",
    "    \n",
    "    try:\n",
    "        q2 = q1.find_elements_by_tag_name('td')\n",
    "    except:\n",
    "        temp.append('-')\n",
    "        temp_dew.append('-')\n",
    "        temp_feel.append('-')\n",
    "        hum.append('-')\n",
    "        wind_speed.append('-')\n",
    "        sea_air_press.append('-')\n",
    "        \n",
    "        date = date - timedelta(1)\n",
    "        continue\n",
    "        \n",
    "    \n",
    "    if len(q2) == 14:\n",
    "        temp.append(q2[5].text.strip())\n",
    "        temp_dew.append(q2[6].text.strip())\n",
    "        temp_feel.append(q2[7].text.strip())\n",
    "        hum.append(q2[10].text.strip())\n",
    "        if q2[12].text.strip():\n",
    "            wind_speed.append(q2[12].text.strip())\n",
    "        else:\n",
    "            wind_speed.append(0.0)\n",
    "        sea_air_press.append(q2[13].text.strip())\n",
    "        \n",
    "    elif len(q2) == 13:\n",
    "        temp.append(q2[5].text.strip())\n",
    "        temp_dew.append(q2[6].text.strip())\n",
    "        temp_feel.append(q2[7].text.strip())\n",
    "        hum.append(q2[9].text.strip())\n",
    "        if q2[11].text.strip():\n",
    "            wind_speed.append(q2[11].text.strip())\n",
    "        else:\n",
    "            wind_speed.append(0.0)\n",
    "        sea_air_press.append(q2[12].text.strip())\n",
    "        \n",
    "    \n",
    "    date = date - timedelta(1)\n",
    "    \n",
    "print(\"time :\", time.time() - start)  # 현재시각 - 시작시간 = 실행 시간"
   ]
  },
  {
   "cell_type": "code",
   "execution_count": null,
   "metadata": {},
   "outputs": [],
   "source": []
  },
  {
   "cell_type": "code",
   "execution_count": null,
   "metadata": {},
   "outputs": [],
   "source": []
  },
  {
   "cell_type": "code",
   "execution_count": 20,
   "metadata": {
    "scrolled": true
   },
   "outputs": [
    {
     "data": {
      "text/plain": [
       "datetime.datetime(2010, 1, 1, 14, 0)"
      ]
     },
     "execution_count": 20,
     "metadata": {},
     "output_type": "execute_result"
    }
   ],
   "source": [
    "date_li[-1]"
   ]
  },
  {
   "cell_type": "code",
   "execution_count": 21,
   "metadata": {},
   "outputs": [],
   "source": [
    "df = pd.DataFrame(data={\n",
    "\n",
    "    \"날짜\":date_li,\n",
    "    \"현재기온\":temp,\n",
    "    \"이슬점온도\":temp_dew,\n",
    "    \"체감온도\":temp_feel,\n",
    "    \"습도\":hum,\n",
    "    \"풍속\":wind_speed,\n",
    "    \"해면기압\":sea_air_press\n",
    "})"
   ]
  },
  {
   "cell_type": "code",
   "execution_count": 22,
   "metadata": {},
   "outputs": [],
   "source": [
    "df.to_csv(\"./output/20100101_20120408_기상.csv\", index=False)"
   ]
  },
  {
   "cell_type": "code",
   "execution_count": 122,
   "metadata": {},
   "outputs": [],
   "source": [
    "test = pd.read_csv('./output/2015_2017_기상.csv')"
   ]
  },
  {
   "cell_type": "code",
   "execution_count": null,
   "metadata": {},
   "outputs": [],
   "source": []
  },
  {
   "cell_type": "markdown",
   "metadata": {},
   "source": [
    "# 1개로 연습"
   ]
  },
  {
   "cell_type": "code",
   "execution_count": null,
   "metadata": {},
   "outputs": [],
   "source": [
    "driver = webdriver.Chrome(\"/Users/kimyihwan/20191216/2차_미니_프로젝트/mp02_real/webdriver/chromedriver 2\", \n",
    "                          options=options)\n",
    "\n",
    "driver.get(\"https://www.weather.go.kr/w/weather/now.do\")\n",
    "time.sleep(1)\n",
    "\n",
    "# aa = driver.find_element_by_xpath('//*[@id=\"sfc-city-weather\"]/div[1]/div/div/label').get_attribute('for')\n",
    "aa = driver.find_element_by_xpath('//*[@id=\"sfc-city-weather\"]/div[1]/div/div/label')\n",
    "aa.click()\n",
    "\n",
    "time.sleep(1)\n",
    "\n",
    "a1 = driver.find_element_by_class_name('sub-select-wrap')\n",
    "a2 = a1.find_element_by_class_name('time')\n",
    "a3 = a2.find_element_by_tag_name('input')\n",
    "# a3 = a2.find_element_by_tag_name('input')\n",
    "text = \"2020.01.01.14:00\"\n",
    "a3.clear()\n",
    "a3.send_keys(text)\n",
    "a3.send_keys(Keys.RETURN)\n",
    "time.sleep(0.5)\n",
    "\n",
    "li = [1, 5, 6, 7, 8, 10, 12, 13]\n",
    "\n",
    "fli = list()\n",
    "q1= driver.find_element_by_xpath('//*[@id=\"sfc-city-weather\"]/div[3]/div/div[2]/div/table/tbody/tr[16]')\n",
    "q2 = q1.find_elements_by_tag_name('td')\n",
    "for i in li:\n",
    "    print(q2[i].text)\n",
    "# print(q2[li[1]].text)\n",
    "# for i in li:\n",
    "#     fli.append(q2[i].text)\n",
    "# print(fli)\n",
    "\n",
    "time.sleep(1)\n",
    "text = \"2010.01.01.14:00\"\n",
    "a3.clear()\n",
    "a3.send_keys(text)\n",
    "a3.send_keys(Keys.RETURN)\n",
    "\n",
    "q1= driver.find_element_by_xpath('//*[@id=\"sfc-city-weather\"]/div[3]/div/div[2]/div/table/tbody/tr[16]')\n",
    "q2 = q1.find_elements_by_tag_name('td')\n",
    "for i in range(len(q2)):\n",
    "    print(q2[i].text)\n",
    "\n",
    "# 2020.01.01.14:00\n",
    "\n",
    "# //*[@id=\"sfc-city-weather\"]/div[3]/div/div[2]/div/table/tbody/tr[16]\n",
    "\n",
    "# 뭐 가져오지??\n",
    "# 현재일기 / 현재기온 / 이슬점온도 / 체감온도 / 일강수 mm / 습도 % / 풍속 km/h / 해면기압\n"
   ]
  },
  {
   "cell_type": "code",
   "execution_count": null,
   "metadata": {},
   "outputs": [],
   "source": []
  },
  {
   "cell_type": "markdown",
   "metadata": {},
   "source": [
    "# 했었던 예제"
   ]
  },
  {
   "cell_type": "code",
   "execution_count": null,
   "metadata": {},
   "outputs": [],
   "source": [
    "driver.get(\"https://www.dcinside.com/\")\n",
    "time.sleep(3)\n",
    "\n",
    "# 안됨, \n",
    "# 시도 순서는 selector > xpath > full xpath, 보통 xpath 선에서 마무리 된다. \n",
    "# 다 해도 안되면 안된다 생각하자\n",
    "\n",
    "print(\"major ranking\")\n",
    "major_gall = driver.find_element_by_xpath('//*[@id=\"rank_gall\"]/ol[6]')\n",
    "major_gall_li = major_gall.find_elements_by_tag_name('li')\n",
    "for tmp in major_gall_li:\n",
    "    ranking = tmp.find_element_by_class_name(\"rank_txt\")\n",
    "    print(\"=\"*50)\n",
    "    print(ranking.text)\n",
    "    \n",
    "minor_gall = driver.find_element_by_xpath('//*[@id=\"rank_gall\"]/div[1]/span/a[2]')\n",
    "minor_gall.click()\n",
    "time.sleep(5)\n",
    "\n",
    "print(\"minor ranking\")\n",
    "minor_gall = driver.find_element_by_xpath('//*[@id=\"rank_gall\"]/ol[1]')\n",
    "minor_gall_li = minor_gall.find_elements_by_tag_name('li')\n",
    "for tmp in minor_gall_li:\n",
    "    ranking = tmp.find_element_by_class_name(\"rank_txt\")\n",
    "    print(\"=\"*50)\n",
    "    print(ranking.text)\n",
    "\n",
    "# full xpath\n",
    "#'/html/body/div[2]/main/div/section[2]/article[1]/div/ol[1]'"
   ]
  },
  {
   "cell_type": "code",
   "execution_count": null,
   "metadata": {},
   "outputs": [],
   "source": []
  },
  {
   "cell_type": "code",
   "execution_count": null,
   "metadata": {},
   "outputs": [],
   "source": []
  },
  {
   "cell_type": "code",
   "execution_count": null,
   "metadata": {},
   "outputs": [],
   "source": []
  },
  {
   "cell_type": "code",
   "execution_count": null,
   "metadata": {},
   "outputs": [],
   "source": []
  },
  {
   "cell_type": "code",
   "execution_count": null,
   "metadata": {},
   "outputs": [],
   "source": []
  },
  {
   "cell_type": "code",
   "execution_count": null,
   "metadata": {},
   "outputs": [],
   "source": []
  },
  {
   "cell_type": "code",
   "execution_count": null,
   "metadata": {},
   "outputs": [],
   "source": []
  },
  {
   "cell_type": "code",
   "execution_count": null,
   "metadata": {},
   "outputs": [],
   "source": []
  },
  {
   "cell_type": "code",
   "execution_count": null,
   "metadata": {},
   "outputs": [],
   "source": []
  },
  {
   "cell_type": "code",
   "execution_count": null,
   "metadata": {},
   "outputs": [],
   "source": []
  },
  {
   "cell_type": "code",
   "execution_count": null,
   "metadata": {},
   "outputs": [],
   "source": []
  }
 ],
 "metadata": {
  "kernelspec": {
   "display_name": "Python 3.7.4 64-bit ('base': conda)",
   "language": "python",
   "name": "python37464bitbasecondacb974de5d481480ca67f41f19bdbb3fc"
  },
  "language_info": {
   "codemirror_mode": {
    "name": "ipython",
    "version": 3
   },
   "file_extension": ".py",
   "mimetype": "text/x-python",
   "name": "python",
   "nbconvert_exporter": "python",
   "pygments_lexer": "ipython3",
   "version": "3.7.4"
  }
 },
 "nbformat": 4,
 "nbformat_minor": 2
}
