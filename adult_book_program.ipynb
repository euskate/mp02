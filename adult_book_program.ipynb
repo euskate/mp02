{
 "cells": [
  {
   "cell_type": "code",
   "execution_count": 1,
   "metadata": {},
   "outputs": [],
   "source": [
    "import numpy as np\n",
    "import pandas as pd"
   ]
  },
  {
   "cell_type": "code",
   "execution_count": null,
   "metadata": {},
   "outputs": [],
   "source": []
  },
  {
   "cell_type": "code",
   "execution_count": null,
   "metadata": {},
   "outputs": [],
   "source": []
  },
  {
   "cell_type": "code",
   "execution_count": null,
   "metadata": {},
   "outputs": [],
   "source": []
  },
  {
   "cell_type": "code",
   "execution_count": null,
   "metadata": {
    "scrolled": true
   },
   "outputs": [],
   "source": [
    "book_pro = pd.read_csv('./data/성인이_참여한_독서프로그램_종류_2013.csv', encoding='euc-kr', skiprows=1)\n",
    "print(book_pro.isnull().sum())\n",
    "book_pro = pd.read_csv('./data/성인이_참여한_독서프로그램_종류_2015.csv', encoding='euc-kr', skiprows=1)\n",
    "print(book_pro.isnull().sum())\n",
    "book_pro = pd.read_csv('./data/성인이_참여한_독서프로그램_종류_2017.csv', encoding='euc-kr', skiprows=1)\n",
    "print(book_pro.isnull().sum())\n",
    "\n",
    "# 모두 결측치 없다!!"
   ]
  },
  {
   "cell_type": "code",
   "execution_count": 16,
   "metadata": {},
   "outputs": [],
   "source": [
    "book_pro = pd.read_csv('./data/성인이_참여한_독서프로그램_종류_2017.csv', encoding='euc-kr', skiprows=1)"
   ]
  },
  {
   "cell_type": "code",
   "execution_count": 17,
   "metadata": {},
   "outputs": [
    {
     "data": {
      "text/html": [
       "<div>\n",
       "<style scoped>\n",
       "    .dataframe tbody tr th:only-of-type {\n",
       "        vertical-align: middle;\n",
       "    }\n",
       "\n",
       "    .dataframe tbody tr th {\n",
       "        vertical-align: top;\n",
       "    }\n",
       "\n",
       "    .dataframe thead th {\n",
       "        text-align: right;\n",
       "    }\n",
       "</style>\n",
       "<table border=\"1\" class=\"dataframe\">\n",
       "  <thead>\n",
       "    <tr style=\"text-align: right;\">\n",
       "      <th></th>\n",
       "      <th>통계분류(1)</th>\n",
       "      <th>통계분류(2)</th>\n",
       "      <th>사례수</th>\n",
       "      <th>독서캠페인</th>\n",
       "      <th>독후활동</th>\n",
       "      <th>독서행사</th>\n",
       "      <th>독서교육</th>\n",
       "      <th>독서치료</th>\n",
       "      <th>기타 활동</th>\n",
       "    </tr>\n",
       "  </thead>\n",
       "  <tbody>\n",
       "    <tr>\n",
       "      <td>0</td>\n",
       "      <td>전체</td>\n",
       "      <td>소계</td>\n",
       "      <td>317</td>\n",
       "      <td>19.3</td>\n",
       "      <td>29.7</td>\n",
       "      <td>46.7</td>\n",
       "      <td>24.8</td>\n",
       "      <td>7.2</td>\n",
       "      <td>6.9</td>\n",
       "    </tr>\n",
       "    <tr>\n",
       "      <td>1</td>\n",
       "      <td>성별</td>\n",
       "      <td>남자</td>\n",
       "      <td>137</td>\n",
       "      <td>15.0</td>\n",
       "      <td>29.4</td>\n",
       "      <td>56.7</td>\n",
       "      <td>21.5</td>\n",
       "      <td>4.5</td>\n",
       "      <td>5.4</td>\n",
       "    </tr>\n",
       "  </tbody>\n",
       "</table>\n",
       "</div>"
      ],
      "text/plain": [
       "  통계분류(1) 통계분류(2)  사례수  독서캠페인  독후활동  독서행사  독서교육  독서치료  기타 활동\n",
       "0      전체      소계  317   19.3  29.7  46.7  24.8   7.2    6.9\n",
       "1      성별      남자  137   15.0  29.4  56.7  21.5   4.5    5.4"
      ]
     },
     "execution_count": 17,
     "metadata": {},
     "output_type": "execute_result"
    }
   ],
   "source": [
    "book_pro.head(2)"
   ]
  },
  {
   "cell_type": "code",
   "execution_count": 18,
   "metadata": {},
   "outputs": [],
   "source": [
    "dic = {\n",
    "    \"통계분류(1)\":\"대분류\",\n",
    "    \"통계분류(2)\":\"소분류\",\n",
    "}\n",
    "\n",
    "\n",
    "book_pro.rename( columns=dic, inplace=True )"
   ]
  },
  {
   "cell_type": "code",
   "execution_count": 19,
   "metadata": {
    "scrolled": true
   },
   "outputs": [
    {
     "data": {
      "text/plain": [
       "array(['전체', '성별', '연령', '학력', '연간 독서량'], dtype=object)"
      ]
     },
     "execution_count": 19,
     "metadata": {},
     "output_type": "execute_result"
    }
   ],
   "source": [
    "book_pro.대분류.unique()"
   ]
  },
  {
   "cell_type": "code",
   "execution_count": 20,
   "metadata": {},
   "outputs": [
    {
     "data": {
      "text/plain": [
       "0     2017\n",
       "1     2017\n",
       "2     2017\n",
       "3     2017\n",
       "4     2017\n",
       "5     2017\n",
       "6     2017\n",
       "7     2017\n",
       "8     2017\n",
       "9     2017\n",
       "10    2017\n",
       "11    2017\n",
       "12    2017\n",
       "13    2017\n",
       "14    2017\n",
       "15    2017\n",
       "16    2017\n",
       "Name: 연도, dtype: int64"
      ]
     },
     "execution_count": 20,
     "metadata": {},
     "output_type": "execute_result"
    }
   ],
   "source": [
    "a =\n",
    "li = [2017 for i in range(0, book_pro.shape[0])]\n",
    "book_pro['연도'] = li\n",
    "book_pro.연도"
   ]
  },
  {
   "cell_type": "code",
   "execution_count": null,
   "metadata": {},
   "outputs": [],
   "source": []
  }
 ],
 "metadata": {
  "kernelspec": {
   "display_name": "Python 3.7.4 64-bit ('base': conda)",
   "language": "python",
   "name": "python37464bitbasecondacb974de5d481480ca67f41f19bdbb3fc"
  },
  "language_info": {
   "codemirror_mode": {
    "name": "ipython",
    "version": 3
   },
   "file_extension": ".py",
   "mimetype": "text/x-python",
   "name": "python",
   "nbconvert_exporter": "python",
   "pygments_lexer": "ipython3",
   "version": "3.7.4"
  }
 },
 "nbformat": 4,
 "nbformat_minor": 2
}
