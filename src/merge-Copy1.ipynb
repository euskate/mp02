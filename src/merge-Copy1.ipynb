{
 "cells": [
  {
   "cell_type": "code",
   "execution_count": 1,
   "metadata": {},
   "outputs": [],
   "source": [
    "# 라이브러리 불러오기\n",
    "import pandas as pd\n",
    "import numpy as np"
   ]
  },
  {
   "cell_type": "code",
   "execution_count": 2,
   "metadata": {},
   "outputs": [],
   "source": [
    "# 농산물 리스트\n",
    "agriList = ['moo']"
   ]
  },
  {
   "cell_type": "code",
   "execution_count": 1,
   "metadata": {},
   "outputs": [
    {
     "ename": "NameError",
     "evalue": "name 'agriList' is not defined",
     "output_type": "error",
     "traceback": [
      "\u001b[1;31m---------------------------------------------------------------------------\u001b[0m",
      "\u001b[1;31mNameError\u001b[0m                                 Traceback (most recent call last)",
      "\u001b[1;32m<ipython-input-1-dcf0823bbca9>\u001b[0m in \u001b[0;36m<module>\u001b[1;34m\u001b[0m\n\u001b[0;32m      1\u001b[0m \u001b[1;31m# 데이터 프레임 불러오기 : 농산물\u001b[0m\u001b[1;33m\u001b[0m\u001b[1;33m\u001b[0m\u001b[1;33m\u001b[0m\u001b[0m\n\u001b[1;32m----> 2\u001b[1;33m \u001b[1;32mfor\u001b[0m \u001b[0mvar\u001b[0m \u001b[1;32min\u001b[0m \u001b[0magriList\u001b[0m\u001b[1;33m:\u001b[0m  \u001b[1;31m# 농산물 데이터프레임\u001b[0m\u001b[1;33m\u001b[0m\u001b[1;33m\u001b[0m\u001b[0m\n\u001b[0m\u001b[0;32m      3\u001b[0m     \u001b[0mglobals\u001b[0m\u001b[1;33m(\u001b[0m\u001b[1;33m)\u001b[0m\u001b[1;33m[\u001b[0m\u001b[1;34mf'df_{var}'\u001b[0m\u001b[1;33m]\u001b[0m \u001b[1;33m=\u001b[0m \u001b[0mpd\u001b[0m\u001b[1;33m.\u001b[0m\u001b[0mread_csv\u001b[0m\u001b[1;33m(\u001b[0m\u001b[1;34mf'../data/result_{var}.csv'\u001b[0m\u001b[1;33m)\u001b[0m\u001b[1;33m\u001b[0m\u001b[1;33m\u001b[0m\u001b[0m\n\u001b[0;32m      4\u001b[0m     \u001b[0mglobals\u001b[0m\u001b[1;33m(\u001b[0m\u001b[1;33m)\u001b[0m\u001b[1;33m[\u001b[0m\u001b[1;34mf'df_{var}'\u001b[0m\u001b[1;33m]\u001b[0m\u001b[1;33m.\u001b[0m\u001b[0mrename\u001b[0m\u001b[1;33m(\u001b[0m\u001b[0mcolumns\u001b[0m\u001b[1;33m=\u001b[0m\u001b[1;33m{\u001b[0m\u001b[1;34m'date'\u001b[0m\u001b[1;33m:\u001b[0m\u001b[1;34m'날짜'\u001b[0m\u001b[1;33m}\u001b[0m\u001b[1;33m,\u001b[0m \u001b[0minplace\u001b[0m\u001b[1;33m=\u001b[0m\u001b[1;32mTrue\u001b[0m\u001b[1;33m)\u001b[0m\u001b[1;33m\u001b[0m\u001b[1;33m\u001b[0m\u001b[0m\n\u001b[0;32m      5\u001b[0m     \u001b[0mglobals\u001b[0m\u001b[1;33m(\u001b[0m\u001b[1;33m)\u001b[0m\u001b[1;33m[\u001b[0m\u001b[1;34mf'df_{var}'\u001b[0m\u001b[1;33m]\u001b[0m\u001b[1;33m[\u001b[0m\u001b[1;34m'날짜'\u001b[0m\u001b[1;33m]\u001b[0m \u001b[1;33m=\u001b[0m \u001b[0mpd\u001b[0m\u001b[1;33m.\u001b[0m\u001b[0mto_datetime\u001b[0m\u001b[1;33m(\u001b[0m\u001b[0mdf_moo\u001b[0m\u001b[1;33m.\u001b[0m\u001b[0m날짜\u001b[0m\u001b[1;33m)\u001b[0m\u001b[1;33m\u001b[0m\u001b[1;33m\u001b[0m\u001b[0m\n",
      "\u001b[1;31mNameError\u001b[0m: name 'agriList' is not defined"
     ]
    }
   ],
   "source": [
    "# 데이터 프레임 불러오기 : 농산물\n",
    "for var in agriList:  # 농산물 데이터프레임\n",
    "    globals()[f'df_{var}'] = pd.read_csv(f'../data/result_{var}.csv')\n",
    "    globals()[f'df_{var}'].rename(columns={'date':'날짜'}, inplace=True)\n",
    "    globals()[f'df_{var}']['날짜'] = pd.to_datetime(df_moo.날짜)"
   ]
  },
  {
   "cell_type": "code",
   "execution_count": 4,
   "metadata": {},
   "outputs": [
    {
     "data": {
      "text/html": [
       "<div>\n",
       "<style scoped>\n",
       "    .dataframe tbody tr th:only-of-type {\n",
       "        vertical-align: middle;\n",
       "    }\n",
       "\n",
       "    .dataframe tbody tr th {\n",
       "        vertical-align: top;\n",
       "    }\n",
       "\n",
       "    .dataframe thead th {\n",
       "        text-align: right;\n",
       "    }\n",
       "</style>\n",
       "<table border=\"1\" class=\"dataframe\">\n",
       "  <thead>\n",
       "    <tr style=\"text-align: right;\">\n",
       "      <th></th>\n",
       "      <th>날짜</th>\n",
       "      <th>avg_moo</th>\n",
       "    </tr>\n",
       "  </thead>\n",
       "  <tbody>\n",
       "    <tr>\n",
       "      <td>0</td>\n",
       "      <td>2010-01-04</td>\n",
       "      <td>1092</td>\n",
       "    </tr>\n",
       "    <tr>\n",
       "      <td>1</td>\n",
       "      <td>2010-01-05</td>\n",
       "      <td>1129</td>\n",
       "    </tr>\n",
       "    <tr>\n",
       "      <td>2</td>\n",
       "      <td>2010-01-06</td>\n",
       "      <td>1151</td>\n",
       "    </tr>\n",
       "    <tr>\n",
       "      <td>3</td>\n",
       "      <td>2010-01-07</td>\n",
       "      <td>1162</td>\n",
       "    </tr>\n",
       "    <tr>\n",
       "      <td>4</td>\n",
       "      <td>2010-01-08</td>\n",
       "      <td>1112</td>\n",
       "    </tr>\n",
       "    <tr>\n",
       "      <td>...</td>\n",
       "      <td>...</td>\n",
       "      <td>...</td>\n",
       "    </tr>\n",
       "    <tr>\n",
       "      <td>2423</td>\n",
       "      <td>2019-12-24</td>\n",
       "      <td>3073</td>\n",
       "    </tr>\n",
       "    <tr>\n",
       "      <td>2424</td>\n",
       "      <td>2019-12-26</td>\n",
       "      <td>3068</td>\n",
       "    </tr>\n",
       "    <tr>\n",
       "      <td>2425</td>\n",
       "      <td>2019-12-27</td>\n",
       "      <td>3022</td>\n",
       "    </tr>\n",
       "    <tr>\n",
       "      <td>2426</td>\n",
       "      <td>2019-12-30</td>\n",
       "      <td>2987</td>\n",
       "    </tr>\n",
       "    <tr>\n",
       "      <td>2427</td>\n",
       "      <td>2019-12-31</td>\n",
       "      <td>3023</td>\n",
       "    </tr>\n",
       "  </tbody>\n",
       "</table>\n",
       "<p>2428 rows × 2 columns</p>\n",
       "</div>"
      ],
      "text/plain": [
       "             날짜  avg_moo\n",
       "0    2010-01-04     1092\n",
       "1    2010-01-05     1129\n",
       "2    2010-01-06     1151\n",
       "3    2010-01-07     1162\n",
       "4    2010-01-08     1112\n",
       "...         ...      ...\n",
       "2423 2019-12-24     3073\n",
       "2424 2019-12-26     3068\n",
       "2425 2019-12-27     3022\n",
       "2426 2019-12-30     2987\n",
       "2427 2019-12-31     3023\n",
       "\n",
       "[2428 rows x 2 columns]"
      ]
     },
     "execution_count": 4,
     "metadata": {},
     "output_type": "execute_result"
    }
   ],
   "source": [
    "df_moo"
   ]
  },
  {
   "cell_type": "code",
   "execution_count": 5,
   "metadata": {},
   "outputs": [],
   "source": [
    "# 데이터 프레임 불러오기 : 날씨\n",
    "df_wheather = pd.read_csv('../data/date_final.csv')  # 날씨 데이터프레임"
   ]
  },
  {
   "cell_type": "code",
   "execution_count": 6,
   "metadata": {},
   "outputs": [
    {
     "data": {
      "text/html": [
       "<div>\n",
       "<style scoped>\n",
       "    .dataframe tbody tr th:only-of-type {\n",
       "        vertical-align: middle;\n",
       "    }\n",
       "\n",
       "    .dataframe tbody tr th {\n",
       "        vertical-align: top;\n",
       "    }\n",
       "\n",
       "    .dataframe thead th {\n",
       "        text-align: right;\n",
       "    }\n",
       "</style>\n",
       "<table border=\"1\" class=\"dataframe\">\n",
       "  <thead>\n",
       "    <tr style=\"text-align: right;\">\n",
       "      <th></th>\n",
       "      <th>날짜</th>\n",
       "      <th>현재기온</th>\n",
       "      <th>이슬점온도</th>\n",
       "      <th>체감온도</th>\n",
       "      <th>습도</th>\n",
       "      <th>풍속</th>\n",
       "      <th>해면기압</th>\n",
       "    </tr>\n",
       "  </thead>\n",
       "  <tbody>\n",
       "    <tr>\n",
       "      <td>0</td>\n",
       "      <td>2019-12-31</td>\n",
       "      <td>2.5</td>\n",
       "      <td>-18.2</td>\n",
       "      <td>-1.9</td>\n",
       "      <td>20</td>\n",
       "      <td>18.7</td>\n",
       "      <td>1031.1</td>\n",
       "    </tr>\n",
       "    <tr>\n",
       "      <td>1</td>\n",
       "      <td>2019-12-30</td>\n",
       "      <td>13.3</td>\n",
       "      <td>7.5</td>\n",
       "      <td>12.5</td>\n",
       "      <td>68</td>\n",
       "      <td>10.4</td>\n",
       "      <td>1019.7</td>\n",
       "    </tr>\n",
       "    <tr>\n",
       "      <td>2</td>\n",
       "      <td>2019-12-29</td>\n",
       "      <td>5.9</td>\n",
       "      <td>-4.0</td>\n",
       "      <td>5.9</td>\n",
       "      <td>49</td>\n",
       "      <td>3.2</td>\n",
       "      <td>1026.4</td>\n",
       "    </tr>\n",
       "    <tr>\n",
       "      <td>3</td>\n",
       "      <td>2019-12-28</td>\n",
       "      <td>9.1</td>\n",
       "      <td>-10.4</td>\n",
       "      <td>8.3</td>\n",
       "      <td>24</td>\n",
       "      <td>6.5</td>\n",
       "      <td>1028.1</td>\n",
       "    </tr>\n",
       "    <tr>\n",
       "      <td>4</td>\n",
       "      <td>2019-12-27</td>\n",
       "      <td>8.1</td>\n",
       "      <td>-12.3</td>\n",
       "      <td>5.4</td>\n",
       "      <td>22</td>\n",
       "      <td>16.2</td>\n",
       "      <td>1022.1</td>\n",
       "    </tr>\n",
       "    <tr>\n",
       "      <td>...</td>\n",
       "      <td>...</td>\n",
       "      <td>...</td>\n",
       "      <td>...</td>\n",
       "      <td>...</td>\n",
       "      <td>...</td>\n",
       "      <td>...</td>\n",
       "      <td>...</td>\n",
       "    </tr>\n",
       "    <tr>\n",
       "      <td>4012</td>\n",
       "      <td>2012-04-12 14:00:00</td>\n",
       "      <td>20.8</td>\n",
       "      <td>4.3</td>\n",
       "      <td>65</td>\n",
       "      <td>34</td>\n",
       "      <td>9.4</td>\n",
       "      <td>1008.1</td>\n",
       "    </tr>\n",
       "    <tr>\n",
       "      <td>4013</td>\n",
       "      <td>2012-04-11 14:00:00</td>\n",
       "      <td>21.5</td>\n",
       "      <td>14.1</td>\n",
       "      <td>68</td>\n",
       "      <td>63</td>\n",
       "      <td>5.0</td>\n",
       "      <td>1001.4</td>\n",
       "    </tr>\n",
       "    <tr>\n",
       "      <td>4014</td>\n",
       "      <td>2012-04-10 14:00:00</td>\n",
       "      <td>18.8</td>\n",
       "      <td>13.4</td>\n",
       "      <td>65</td>\n",
       "      <td>71</td>\n",
       "      <td>16.9</td>\n",
       "      <td>1017.5</td>\n",
       "    </tr>\n",
       "    <tr>\n",
       "      <td>4015</td>\n",
       "      <td>2012-04-09 14:00:00</td>\n",
       "      <td>22.1</td>\n",
       "      <td>11.1</td>\n",
       "      <td>68</td>\n",
       "      <td>50</td>\n",
       "      <td>21.2</td>\n",
       "      <td>1019.5</td>\n",
       "    </tr>\n",
       "    <tr>\n",
       "      <td>4016</td>\n",
       "      <td>2012-04-08 14:00:00</td>\n",
       "      <td>21.6</td>\n",
       "      <td>0.7</td>\n",
       "      <td>66</td>\n",
       "      <td>25</td>\n",
       "      <td>19.1</td>\n",
       "      <td>1019.4</td>\n",
       "    </tr>\n",
       "  </tbody>\n",
       "</table>\n",
       "<p>4017 rows × 7 columns</p>\n",
       "</div>"
      ],
      "text/plain": [
       "                       날짜  현재기온  이슬점온도  체감온도  습도    풍속    해면기압\n",
       "0              2019-12-31   2.5  -18.2  -1.9  20  18.7  1031.1\n",
       "1              2019-12-30  13.3    7.5  12.5  68  10.4  1019.7\n",
       "2              2019-12-29   5.9   -4.0   5.9  49   3.2  1026.4\n",
       "3              2019-12-28   9.1  -10.4   8.3  24   6.5  1028.1\n",
       "4              2019-12-27   8.1  -12.3   5.4  22  16.2  1022.1\n",
       "...                   ...   ...    ...   ...  ..   ...     ...\n",
       "4012  2012-04-12 14:00:00  20.8    4.3    65  34   9.4  1008.1\n",
       "4013  2012-04-11 14:00:00  21.5   14.1    68  63   5.0  1001.4\n",
       "4014  2012-04-10 14:00:00  18.8   13.4    65  71  16.9  1017.5\n",
       "4015  2012-04-09 14:00:00  22.1   11.1    68  50  21.2  1019.5\n",
       "4016  2012-04-08 14:00:00  21.6    0.7    66  25  19.1  1019.4\n",
       "\n",
       "[4017 rows x 7 columns]"
      ]
     },
     "execution_count": 6,
     "metadata": {},
     "output_type": "execute_result"
    }
   ],
   "source": [
    "df_wheather"
   ]
  },
  {
   "cell_type": "code",
   "execution_count": 7,
   "metadata": {},
   "outputs": [
    {
     "data": {
      "text/plain": [
       "날짜       object\n",
       "현재기온     object\n",
       "이슬점온도    object\n",
       "체감온도     object\n",
       "습도       object\n",
       "풍속       object\n",
       "해면기압     object\n",
       "dtype: object"
      ]
     },
     "execution_count": 7,
     "metadata": {},
     "output_type": "execute_result"
    }
   ],
   "source": [
    "df_wheather.dtypes"
   ]
  },
  {
   "cell_type": "code",
   "execution_count": 8,
   "metadata": {},
   "outputs": [],
   "source": [
    "df_wheather['날짜'] = pd.to_datetime(df_wheather.날짜)"
   ]
  },
  {
   "cell_type": "code",
   "execution_count": 9,
   "metadata": {},
   "outputs": [
    {
     "data": {
      "text/plain": [
       "0      2019-12-31 00:00:00\n",
       "1      2019-12-30 00:00:00\n",
       "2      2019-12-29 00:00:00\n",
       "3      2019-12-28 00:00:00\n",
       "4      2019-12-27 00:00:00\n",
       "               ...        \n",
       "4012   2012-04-12 14:00:00\n",
       "4013   2012-04-11 14:00:00\n",
       "4014   2012-04-10 14:00:00\n",
       "4015   2012-04-09 14:00:00\n",
       "4016   2012-04-08 14:00:00\n",
       "Name: 날짜, Length: 4017, dtype: datetime64[ns]"
      ]
     },
     "execution_count": 9,
     "metadata": {},
     "output_type": "execute_result"
    }
   ],
   "source": [
    "df_wheather['날짜']"
   ]
  },
  {
   "cell_type": "code",
   "execution_count": 10,
   "metadata": {},
   "outputs": [],
   "source": [
    "df_wheather['날짜'] = df_wheather['날짜'].dt.strftime('%Y-%m-%d')"
   ]
  },
  {
   "cell_type": "code",
   "execution_count": 11,
   "metadata": {},
   "outputs": [],
   "source": [
    "# 데이터 타입 변경\n",
    "df_wheather['날짜'] = pd.to_datetime(df_wheather.날짜)\n",
    "df_wheather['현재기온'] = pd.to_numeric(df_wheather['현재기온'], errors='coerce')\n",
    "df_wheather['이슬점온도'] = pd.to_numeric(df_wheather['이슬점온도'], errors='coerce')\n",
    "df_wheather['체감온도'] = pd.to_numeric(df_wheather['체감온도'], errors='coerce')\n",
    "# df_wheather['강수량'] = pd.to_numeric(df_wheather['강수량'], errors='coerce')\n",
    "df_wheather['습도'] = pd.to_numeric(df_wheather['습도'], errors='coerce')\n",
    "df_wheather['풍속'] = pd.to_numeric(df_wheather['풍속'], errors='coerce')\n",
    "df_wheather['해면기압'] = pd.to_numeric(df_wheather['해면기압'], errors='coerce')"
   ]
  },
  {
   "cell_type": "code",
   "execution_count": 12,
   "metadata": {},
   "outputs": [],
   "source": [
    "# 농산물 데이터 병합\n",
    "df_agri = pd.DataFrame(data=globals()[f'df_{agriList[0]}'])\n",
    "for var in agriList:\n",
    "    df_agri = pd.merge(df_agri, globals()[f'df_{var}'], on='날짜')"
   ]
  },
  {
   "cell_type": "code",
   "execution_count": 13,
   "metadata": {},
   "outputs": [],
   "source": [
    "# 농산물 및 날씨 데이터 병합\n",
    "df = pd.merge(df_agri, df_wheather, on='날짜')"
   ]
  },
  {
   "cell_type": "code",
   "execution_count": 14,
   "metadata": {},
   "outputs": [
    {
     "data": {
      "text/plain": [
       "날짜       datetime64[ns]\n",
       "현재기온            float64\n",
       "이슬점온도           float64\n",
       "체감온도            float64\n",
       "습도              float64\n",
       "풍속              float64\n",
       "해면기압            float64\n",
       "dtype: object"
      ]
     },
     "execution_count": 14,
     "metadata": {},
     "output_type": "execute_result"
    }
   ],
   "source": [
    "df_wheather.dtypes"
   ]
  },
  {
   "cell_type": "code",
   "execution_count": 15,
   "metadata": {},
   "outputs": [
    {
     "name": "stdout",
     "output_type": "stream",
     "text": [
      "          날짜  avg_moo_x  avg_moo_y  현재기온  이슬점온도  체감온도    습도    풍속    해면기압\n",
      "0 2010-01-04       1092       1092  -6.0   -7.3  -9.6  90.0   7.6  1007.7\n",
      "1 2010-01-05       1129       1129 -11.7  -16.2 -22.3  69.0  33.8  1019.2\n",
      "2 2010-01-06       1151       1151 -10.6  -17.6 -16.0  56.0  10.1  1021.5\n",
      "3 2010-01-07       1162       1162  -6.1  -13.9  -6.1  54.0   1.8  1022.8\n",
      "4 2010-01-08       1112       1112  -3.8  -11.7  -8.2  54.0  11.2  1020.1\n",
      "<class 'pandas.core.frame.DataFrame'>\n",
      "Int64Index: 2676 entries, 0 to 2675\n",
      "Data columns (total 9 columns):\n",
      "날짜           2676 non-null datetime64[ns]\n",
      "avg_moo_x    2676 non-null int64\n",
      "avg_moo_y    2676 non-null int64\n",
      "현재기온         2667 non-null float64\n",
      "이슬점온도        2666 non-null float64\n",
      "체감온도         2665 non-null float64\n",
      "습도           2666 non-null float64\n",
      "풍속           2667 non-null float64\n",
      "해면기압         2663 non-null float64\n",
      "dtypes: datetime64[ns](1), float64(6), int64(2)\n",
      "memory usage: 209.1 KB\n",
      "None\n"
     ]
    }
   ],
   "source": [
    "# 데이터 확인\n",
    "print(df.head())\n",
    "print(df.info())"
   ]
  },
  {
   "cell_type": "code",
   "execution_count": 17,
   "metadata": {},
   "outputs": [],
   "source": [
    "# CSV 파일로 출력\n",
    "df.to_csv('../data/merge_agri_wheather.csv', encoding='utf-8', index=False)"
   ]
  },
  {
   "cell_type": "code",
   "execution_count": null,
   "metadata": {},
   "outputs": [],
   "source": []
  }
 ],
 "metadata": {
  "kernelspec": {
   "display_name": "Python 3",
   "language": "python",
   "name": "python3"
  },
  "language_info": {
   "codemirror_mode": {
    "name": "ipython",
    "version": 3
   },
   "file_extension": ".py",
   "mimetype": "text/x-python",
   "name": "python",
   "nbconvert_exporter": "python",
   "pygments_lexer": "ipython3",
   "version": "3.7.4-final"
  }
 },
 "nbformat": 4,
 "nbformat_minor": 4
}