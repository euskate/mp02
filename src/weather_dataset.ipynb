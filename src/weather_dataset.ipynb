{
 "cells": [
  {
   "cell_type": "code",
   "execution_count": 1,
   "metadata": {},
   "outputs": [],
   "source": [
    "import pandas as pd\n",
    "import numpy as np\n",
    "\n",
    "import time\n",
    "from datetime import datetime\n",
    "from datetime import timedelta"
   ]
  },
  {
   "cell_type": "code",
   "execution_count": 2,
   "metadata": {},
   "outputs": [],
   "source": [
    "date_2019 = pd.read_csv('./output/2019_기상.csv')\n",
    "date_2018 = pd.read_csv('./output/2018_기상.csv')\n",
    "date_2015_2017 = pd.read_csv('./output/2015_2017_기상.csv')"
   ]
  },
  {
   "cell_type": "code",
   "execution_count": 5,
   "metadata": {},
   "outputs": [
    {
     "data": {
      "text/html": [
       "<div>\n",
       "<style scoped>\n",
       "    .dataframe tbody tr th:only-of-type {\n",
       "        vertical-align: middle;\n",
       "    }\n",
       "\n",
       "    .dataframe tbody tr th {\n",
       "        vertical-align: top;\n",
       "    }\n",
       "\n",
       "    .dataframe thead th {\n",
       "        text-align: right;\n",
       "    }\n",
       "</style>\n",
       "<table border=\"1\" class=\"dataframe\">\n",
       "  <thead>\n",
       "    <tr style=\"text-align: right;\">\n",
       "      <th></th>\n",
       "      <th>날짜</th>\n",
       "      <th>현재일기</th>\n",
       "      <th>현재기온</th>\n",
       "      <th>이슬점온도</th>\n",
       "      <th>체감온도</th>\n",
       "      <th>강수량</th>\n",
       "      <th>습도</th>\n",
       "      <th>풍향</th>\n",
       "      <th>풍속</th>\n",
       "      <th>해면기압</th>\n",
       "    </tr>\n",
       "  </thead>\n",
       "  <tbody>\n",
       "    <tr>\n",
       "      <td>0</td>\n",
       "      <td>2017-12-31 14:00:00</td>\n",
       "      <td>-</td>\n",
       "      <td>7.6</td>\n",
       "      <td>-11.2</td>\n",
       "      <td>4.4</td>\n",
       "      <td>0.0</td>\n",
       "      <td>25</td>\n",
       "      <td>서북서</td>\n",
       "      <td>19.8</td>\n",
       "      <td>1020.6</td>\n",
       "    </tr>\n",
       "    <tr>\n",
       "      <td>1</td>\n",
       "      <td>2017-12-30 14:00:00</td>\n",
       "      <td>-</td>\n",
       "      <td>10.3</td>\n",
       "      <td>-0.8</td>\n",
       "      <td>10.3</td>\n",
       "      <td>0.0</td>\n",
       "      <td>46</td>\n",
       "      <td>남동</td>\n",
       "      <td>4.0</td>\n",
       "      <td>1023.9</td>\n",
       "    </tr>\n",
       "    <tr>\n",
       "      <td>2</td>\n",
       "      <td>2017-12-29 14:00:00</td>\n",
       "      <td>-</td>\n",
       "      <td>10.5</td>\n",
       "      <td>-1.8</td>\n",
       "      <td>9.0</td>\n",
       "      <td>0.0</td>\n",
       "      <td>42</td>\n",
       "      <td>북서</td>\n",
       "      <td>11.5</td>\n",
       "      <td>1023.7</td>\n",
       "    </tr>\n",
       "    <tr>\n",
       "      <td>3</td>\n",
       "      <td>2017-12-28 14:00:00</td>\n",
       "      <td>-</td>\n",
       "      <td>4.6</td>\n",
       "      <td>-8.8</td>\n",
       "      <td>1.9</td>\n",
       "      <td>0.0</td>\n",
       "      <td>37</td>\n",
       "      <td>북서</td>\n",
       "      <td>11.5</td>\n",
       "      <td>1027.6</td>\n",
       "    </tr>\n",
       "    <tr>\n",
       "      <td>4</td>\n",
       "      <td>2017-12-27 14:00:00</td>\n",
       "      <td>-</td>\n",
       "      <td>2.0</td>\n",
       "      <td>-19.9</td>\n",
       "      <td>-2.1</td>\n",
       "      <td>0.0</td>\n",
       "      <td>18</td>\n",
       "      <td>북서</td>\n",
       "      <td>15.8</td>\n",
       "      <td>1027.2</td>\n",
       "    </tr>\n",
       "    <tr>\n",
       "      <td>...</td>\n",
       "      <td>...</td>\n",
       "      <td>...</td>\n",
       "      <td>...</td>\n",
       "      <td>...</td>\n",
       "      <td>...</td>\n",
       "      <td>...</td>\n",
       "      <td>...</td>\n",
       "      <td>...</td>\n",
       "      <td>...</td>\n",
       "      <td>...</td>\n",
       "    </tr>\n",
       "    <tr>\n",
       "      <td>1091</td>\n",
       "      <td>2015-01-05 14:00:00</td>\n",
       "      <td>-</td>\n",
       "      <td>10.4</td>\n",
       "      <td>-3.3</td>\n",
       "      <td>10.4</td>\n",
       "      <td>0.0</td>\n",
       "      <td>38</td>\n",
       "      <td>서북서</td>\n",
       "      <td>2.9</td>\n",
       "      <td>1017.9</td>\n",
       "    </tr>\n",
       "    <tr>\n",
       "      <td>1092</td>\n",
       "      <td>2015-01-04 14:00:00</td>\n",
       "      <td>-</td>\n",
       "      <td>10.7</td>\n",
       "      <td>-5.3</td>\n",
       "      <td>9.1</td>\n",
       "      <td>0.0</td>\n",
       "      <td>32</td>\n",
       "      <td>서북서</td>\n",
       "      <td>12.6</td>\n",
       "      <td>1016.6</td>\n",
       "    </tr>\n",
       "    <tr>\n",
       "      <td>1093</td>\n",
       "      <td>2015-01-03 14:00:00</td>\n",
       "      <td>-</td>\n",
       "      <td>3.5</td>\n",
       "      <td>-24.3</td>\n",
       "      <td>-0.0</td>\n",
       "      <td>0.0</td>\n",
       "      <td>11</td>\n",
       "      <td>북서</td>\n",
       "      <td>14.4</td>\n",
       "      <td>1022.2</td>\n",
       "    </tr>\n",
       "    <tr>\n",
       "      <td>1094</td>\n",
       "      <td>2015-01-02 14:00:00</td>\n",
       "      <td>-</td>\n",
       "      <td>2.1</td>\n",
       "      <td>-15.4</td>\n",
       "      <td>-2.3</td>\n",
       "      <td>0.0</td>\n",
       "      <td>26</td>\n",
       "      <td>북서</td>\n",
       "      <td>17.6</td>\n",
       "      <td>1021.4</td>\n",
       "    </tr>\n",
       "    <tr>\n",
       "      <td>1095</td>\n",
       "      <td>2015-01-01 14:00:00</td>\n",
       "      <td>-</td>\n",
       "      <td>-1.4</td>\n",
       "      <td>-25.5</td>\n",
       "      <td>-7.2</td>\n",
       "      <td>0.0</td>\n",
       "      <td>14</td>\n",
       "      <td>북서</td>\n",
       "      <td>21.6</td>\n",
       "      <td>1021.0</td>\n",
       "    </tr>\n",
       "  </tbody>\n",
       "</table>\n",
       "<p>1096 rows × 10 columns</p>\n",
       "</div>"
      ],
      "text/plain": [
       "                       날짜 현재일기  현재기온  이슬점온도  체감온도  강수량  습도   풍향    풍속    해면기압\n",
       "0     2017-12-31 14:00:00    -   7.6  -11.2   4.4  0.0  25  서북서  19.8  1020.6\n",
       "1     2017-12-30 14:00:00    -  10.3   -0.8  10.3  0.0  46   남동   4.0  1023.9\n",
       "2     2017-12-29 14:00:00    -  10.5   -1.8   9.0  0.0  42   북서  11.5  1023.7\n",
       "3     2017-12-28 14:00:00    -   4.6   -8.8   1.9  0.0  37   북서  11.5  1027.6\n",
       "4     2017-12-27 14:00:00    -   2.0  -19.9  -2.1  0.0  18   북서  15.8  1027.2\n",
       "...                   ...  ...   ...    ...   ...  ...  ..  ...   ...     ...\n",
       "1091  2015-01-05 14:00:00    -  10.4   -3.3  10.4  0.0  38  서북서   2.9  1017.9\n",
       "1092  2015-01-04 14:00:00    -  10.7   -5.3   9.1  0.0  32  서북서  12.6  1016.6\n",
       "1093  2015-01-03 14:00:00    -   3.5  -24.3  -0.0  0.0  11   북서  14.4  1022.2\n",
       "1094  2015-01-02 14:00:00    -   2.1  -15.4  -2.3  0.0  26   북서  17.6  1021.4\n",
       "1095  2015-01-01 14:00:00    -  -1.4  -25.5  -7.2  0.0  14   북서  21.6  1021.0\n",
       "\n",
       "[1096 rows x 10 columns]"
      ]
     },
     "execution_count": 5,
     "metadata": {},
     "output_type": "execute_result"
    }
   ],
   "source": [
    "date_2015_2017"
   ]
  },
  {
   "cell_type": "code",
   "execution_count": 7,
   "metadata": {},
   "outputs": [],
   "source": [
    "date_final = pd.concat([date_2019, date_2018,date_2015_2017], ignore_index=True)"
   ]
  },
  {
   "cell_type": "code",
   "execution_count": 8,
   "metadata": {},
   "outputs": [
    {
     "data": {
      "text/html": [
       "<div>\n",
       "<style scoped>\n",
       "    .dataframe tbody tr th:only-of-type {\n",
       "        vertical-align: middle;\n",
       "    }\n",
       "\n",
       "    .dataframe tbody tr th {\n",
       "        vertical-align: top;\n",
       "    }\n",
       "\n",
       "    .dataframe thead th {\n",
       "        text-align: right;\n",
       "    }\n",
       "</style>\n",
       "<table border=\"1\" class=\"dataframe\">\n",
       "  <thead>\n",
       "    <tr style=\"text-align: right;\">\n",
       "      <th></th>\n",
       "      <th>날짜</th>\n",
       "      <th>현재일기</th>\n",
       "      <th>현재기온</th>\n",
       "      <th>이슬점온도</th>\n",
       "      <th>체감온도</th>\n",
       "      <th>강수량</th>\n",
       "      <th>습도</th>\n",
       "      <th>풍향</th>\n",
       "      <th>풍속</th>\n",
       "      <th>해면기압</th>\n",
       "    </tr>\n",
       "  </thead>\n",
       "  <tbody>\n",
       "    <tr>\n",
       "      <td>0</td>\n",
       "      <td>2019-12-31 14:00:00</td>\n",
       "      <td>-</td>\n",
       "      <td>2.5</td>\n",
       "      <td>-18.2</td>\n",
       "      <td>-1.9</td>\n",
       "      <td>0</td>\n",
       "      <td>20</td>\n",
       "      <td>서북서</td>\n",
       "      <td>18.7</td>\n",
       "      <td>1031.1</td>\n",
       "    </tr>\n",
       "    <tr>\n",
       "      <td>1</td>\n",
       "      <td>2019-12-30 14:00:00</td>\n",
       "      <td>-</td>\n",
       "      <td>13.3</td>\n",
       "      <td>7.5</td>\n",
       "      <td>12.5</td>\n",
       "      <td>1.0</td>\n",
       "      <td>68</td>\n",
       "      <td>북서</td>\n",
       "      <td>10.4</td>\n",
       "      <td>1019.7</td>\n",
       "    </tr>\n",
       "    <tr>\n",
       "      <td>2</td>\n",
       "      <td>2019-12-29 14:00:00</td>\n",
       "      <td>-</td>\n",
       "      <td>5.9</td>\n",
       "      <td>-4.0</td>\n",
       "      <td>5.9</td>\n",
       "      <td>0</td>\n",
       "      <td>49</td>\n",
       "      <td>서북서</td>\n",
       "      <td>3.2</td>\n",
       "      <td>1026.4</td>\n",
       "    </tr>\n",
       "    <tr>\n",
       "      <td>3</td>\n",
       "      <td>2019-12-28 14:00:00</td>\n",
       "      <td>-</td>\n",
       "      <td>9.1</td>\n",
       "      <td>-10.4</td>\n",
       "      <td>8.3</td>\n",
       "      <td>0</td>\n",
       "      <td>24</td>\n",
       "      <td>남</td>\n",
       "      <td>6.5</td>\n",
       "      <td>1028.1</td>\n",
       "    </tr>\n",
       "    <tr>\n",
       "      <td>4</td>\n",
       "      <td>2019-12-27 14:00:00</td>\n",
       "      <td>-</td>\n",
       "      <td>8.1</td>\n",
       "      <td>-12.3</td>\n",
       "      <td>5.4</td>\n",
       "      <td>0</td>\n",
       "      <td>22</td>\n",
       "      <td>북서</td>\n",
       "      <td>16.2</td>\n",
       "      <td>1022.1</td>\n",
       "    </tr>\n",
       "    <tr>\n",
       "      <td>...</td>\n",
       "      <td>...</td>\n",
       "      <td>...</td>\n",
       "      <td>...</td>\n",
       "      <td>...</td>\n",
       "      <td>...</td>\n",
       "      <td>...</td>\n",
       "      <td>...</td>\n",
       "      <td>...</td>\n",
       "      <td>...</td>\n",
       "      <td>...</td>\n",
       "    </tr>\n",
       "    <tr>\n",
       "      <td>1821</td>\n",
       "      <td>2015-01-05 14:00:00</td>\n",
       "      <td>-</td>\n",
       "      <td>10.4</td>\n",
       "      <td>-3.3</td>\n",
       "      <td>10.4</td>\n",
       "      <td>0</td>\n",
       "      <td>38</td>\n",
       "      <td>서북서</td>\n",
       "      <td>2.9</td>\n",
       "      <td>1017.9</td>\n",
       "    </tr>\n",
       "    <tr>\n",
       "      <td>1822</td>\n",
       "      <td>2015-01-04 14:00:00</td>\n",
       "      <td>-</td>\n",
       "      <td>10.7</td>\n",
       "      <td>-5.3</td>\n",
       "      <td>9.1</td>\n",
       "      <td>0</td>\n",
       "      <td>32</td>\n",
       "      <td>서북서</td>\n",
       "      <td>12.6</td>\n",
       "      <td>1016.6</td>\n",
       "    </tr>\n",
       "    <tr>\n",
       "      <td>1823</td>\n",
       "      <td>2015-01-03 14:00:00</td>\n",
       "      <td>-</td>\n",
       "      <td>3.5</td>\n",
       "      <td>-24.3</td>\n",
       "      <td>-0</td>\n",
       "      <td>0</td>\n",
       "      <td>11</td>\n",
       "      <td>북서</td>\n",
       "      <td>14.4</td>\n",
       "      <td>1022.2</td>\n",
       "    </tr>\n",
       "    <tr>\n",
       "      <td>1824</td>\n",
       "      <td>2015-01-02 14:00:00</td>\n",
       "      <td>-</td>\n",
       "      <td>2.1</td>\n",
       "      <td>-15.4</td>\n",
       "      <td>-2.3</td>\n",
       "      <td>0</td>\n",
       "      <td>26</td>\n",
       "      <td>북서</td>\n",
       "      <td>17.6</td>\n",
       "      <td>1021.4</td>\n",
       "    </tr>\n",
       "    <tr>\n",
       "      <td>1825</td>\n",
       "      <td>2015-01-01 14:00:00</td>\n",
       "      <td>-</td>\n",
       "      <td>-1.4</td>\n",
       "      <td>-25.5</td>\n",
       "      <td>-7.2</td>\n",
       "      <td>0</td>\n",
       "      <td>14</td>\n",
       "      <td>북서</td>\n",
       "      <td>21.6</td>\n",
       "      <td>1021</td>\n",
       "    </tr>\n",
       "  </tbody>\n",
       "</table>\n",
       "<p>1826 rows × 10 columns</p>\n",
       "</div>"
      ],
      "text/plain": [
       "                       날짜 현재일기  현재기온  이슬점온도  체감온도  강수량  습도   풍향    풍속    해면기압\n",
       "0     2019-12-31 14:00:00    -   2.5  -18.2  -1.9    0  20  서북서  18.7  1031.1\n",
       "1     2019-12-30 14:00:00    -  13.3    7.5  12.5  1.0  68   북서  10.4  1019.7\n",
       "2     2019-12-29 14:00:00    -   5.9   -4.0   5.9    0  49  서북서   3.2  1026.4\n",
       "3     2019-12-28 14:00:00    -   9.1  -10.4   8.3    0  24    남   6.5  1028.1\n",
       "4     2019-12-27 14:00:00    -   8.1  -12.3   5.4    0  22   북서  16.2  1022.1\n",
       "...                   ...  ...   ...    ...   ...  ...  ..  ...   ...     ...\n",
       "1821  2015-01-05 14:00:00    -  10.4   -3.3  10.4    0  38  서북서   2.9  1017.9\n",
       "1822  2015-01-04 14:00:00    -  10.7   -5.3   9.1    0  32  서북서  12.6  1016.6\n",
       "1823  2015-01-03 14:00:00    -   3.5  -24.3    -0    0  11   북서  14.4  1022.2\n",
       "1824  2015-01-02 14:00:00    -   2.1  -15.4  -2.3    0  26   북서  17.6  1021.4\n",
       "1825  2015-01-01 14:00:00    -  -1.4  -25.5  -7.2    0  14   북서  21.6    1021\n",
       "\n",
       "[1826 rows x 10 columns]"
      ]
     },
     "execution_count": 8,
     "metadata": {},
     "output_type": "execute_result"
    }
   ],
   "source": [
    "date_final"
   ]
  },
  {
   "cell_type": "code",
   "execution_count": 24,
   "metadata": {},
   "outputs": [
    {
     "data": {
      "text/plain": [
       "날짜       datetime64[ns]\n",
       "현재일기             object\n",
       "현재기온             object\n",
       "이슬점온도            object\n",
       "체감온도             object\n",
       "강수량              object\n",
       "습도               object\n",
       "풍향               object\n",
       "풍속               object\n",
       "해면기압             object\n",
       "dtype: object"
      ]
     },
     "execution_count": 24,
     "metadata": {},
     "output_type": "execute_result"
    }
   ],
   "source": [
    "date_final.dtypes"
   ]
  },
  {
   "cell_type": "code",
   "execution_count": 16,
   "metadata": {},
   "outputs": [
    {
     "data": {
      "text/plain": [
       "['2019', '12', '30']"
      ]
     },
     "execution_count": 16,
     "metadata": {},
     "output_type": "execute_result"
    }
   ],
   "source": [
    "date_final.날짜.loc[1].split(\" \")[0].split('-')\n",
    "\n",
    "def reduce_date(date):\n",
    "    date = date.split(' ')[0].split('-')\n",
    "    fdate = datetime(int(date[0]), int(date[1]), int(date[2]))\n",
    "    return fdate\n",
    "\n",
    "date_final[\"날짜\"] = date_final['날짜'].apply(reduce_date)"
   ]
  },
  {
   "cell_type": "code",
   "execution_count": 19,
   "metadata": {},
   "outputs": [],
   "source": [
    "def reduce_date(date):\n",
    "    date = date.split(' ')[0].split('-')\n",
    "    fdate = datetime(int(date[0]), int(date[1]), int(date[2]))\n",
    "    return fdate"
   ]
  },
  {
   "cell_type": "code",
   "execution_count": 20,
   "metadata": {},
   "outputs": [],
   "source": [
    "date_final[\"날짜\"] = date_final['날짜'].apply(reduce_date)"
   ]
  },
  {
   "cell_type": "code",
   "execution_count": 23,
   "metadata": {},
   "outputs": [
    {
     "data": {
      "text/plain": [
       "dtype('<M8[ns]')"
      ]
     },
     "execution_count": 23,
     "metadata": {},
     "output_type": "execute_result"
    }
   ],
   "source": [
    "date_final.날짜.dtype"
   ]
  },
  {
   "cell_type": "code",
   "execution_count": 28,
   "metadata": {},
   "outputs": [],
   "source": [
    "date_final.to_csv('./output/date_final.csv', index=False)"
   ]
  },
  {
   "cell_type": "code",
   "execution_count": 29,
   "metadata": {},
   "outputs": [],
   "source": [
    "test = pd.read_csv('./output/date_final.csv')"
   ]
  },
  {
   "cell_type": "code",
   "execution_count": 31,
   "metadata": {},
   "outputs": [
    {
     "data": {
      "text/plain": [
       "날짜       object\n",
       "현재일기     object\n",
       "현재기온     object\n",
       "이슬점온도    object\n",
       "체감온도     object\n",
       "강수량      object\n",
       "습도       object\n",
       "풍향       object\n",
       "풍속       object\n",
       "해면기압     object\n",
       "dtype: object"
      ]
     },
     "execution_count": 31,
     "metadata": {},
     "output_type": "execute_result"
    }
   ],
   "source": [
    "test.dtypes"
   ]
  },
  {
   "cell_type": "code",
   "execution_count": null,
   "metadata": {},
   "outputs": [],
   "source": []
  },
  {
   "cell_type": "code",
   "execution_count": null,
   "metadata": {},
   "outputs": [],
   "source": []
  },
  {
   "cell_type": "code",
   "execution_count": null,
   "metadata": {},
   "outputs": [],
   "source": []
  },
  {
   "cell_type": "code",
   "execution_count": null,
   "metadata": {},
   "outputs": [],
   "source": []
  },
  {
   "cell_type": "code",
   "execution_count": null,
   "metadata": {},
   "outputs": [],
   "source": []
  },
  {
   "cell_type": "code",
   "execution_count": null,
   "metadata": {},
   "outputs": [],
   "source": []
  },
  {
   "cell_type": "code",
   "execution_count": null,
   "metadata": {},
   "outputs": [],
   "source": []
  },
  {
   "cell_type": "code",
   "execution_count": null,
   "metadata": {},
   "outputs": [],
   "source": []
  },
  {
   "cell_type": "code",
   "execution_count": null,
   "metadata": {},
   "outputs": [],
   "source": []
  },
  {
   "cell_type": "code",
   "execution_count": null,
   "metadata": {},
   "outputs": [],
   "source": []
  },
  {
   "cell_type": "code",
   "execution_count": null,
   "metadata": {},
   "outputs": [],
   "source": []
  },
  {
   "cell_type": "code",
   "execution_count": null,
   "metadata": {},
   "outputs": [],
   "source": []
  },
  {
   "cell_type": "code",
   "execution_count": null,
   "metadata": {},
   "outputs": [],
   "source": []
  },
  {
   "cell_type": "code",
   "execution_count": null,
   "metadata": {},
   "outputs": [],
   "source": []
  },
  {
   "cell_type": "code",
   "execution_count": null,
   "metadata": {},
   "outputs": [],
   "source": []
  },
  {
   "cell_type": "code",
   "execution_count": null,
   "metadata": {},
   "outputs": [],
   "source": []
  },
  {
   "cell_type": "code",
   "execution_count": null,
   "metadata": {},
   "outputs": [],
   "source": []
  },
  {
   "cell_type": "code",
   "execution_count": null,
   "metadata": {},
   "outputs": [],
   "source": []
  },
  {
   "cell_type": "code",
   "execution_count": null,
   "metadata": {},
   "outputs": [],
   "source": []
  }
 ],
 "metadata": {
  "kernelspec": {
   "display_name": "Python 3",
   "language": "python",
   "name": "python3"
  },
  "language_info": {
   "codemirror_mode": {
    "name": "ipython",
    "version": 3
   },
   "file_extension": ".py",
   "mimetype": "text/x-python",
   "name": "python",
   "nbconvert_exporter": "python",
   "pygments_lexer": "ipython3",
   "version": "3.7.4"
  }
 },
 "nbformat": 4,
 "nbformat_minor": 4
}
