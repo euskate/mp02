{
 "cells": [
  {
   "cell_type": "code",
   "execution_count": 1,
   "metadata": {},
   "outputs": [],
   "source": [
    "# 라이브러리 불러오기\n",
    "import pandas as pd\n",
    "import numpy as np"
   ]
  },
  {
   "cell_type": "code",
   "execution_count": 1,
   "metadata": {},
   "outputs": [],
   "source": [
    "# 농산물 리스트\n",
    "agriList = ['moo', 'baechoo', 'apple', 'scallion']"
   ]
  },
  {
   "cell_type": "code",
   "execution_count": 1,
   "metadata": {},
   "outputs": [],
   "source": [
    "# 데이터 프레임 불러오기 : 농산물\n",
    "for var in agriList:  # 농산물 데이터프레임\n",
    "    globals()[f'df_{var}'] = pd.read_csv(f'./data/result_{var}.csv', usecols=[0, 1])\n",
    "    globals()[f'df_{var}'].rename(columns={'date':'날짜'}, inplace=True)\n",
    "    globals()[f'df_{var}']['날짜'] = pd.to_datetime(df_moo.날짜)"
   ]
  },
  {
   "cell_type": "code",
   "execution_count": 1,
   "metadata": {},
   "outputs": [],
   "source": [
    "# 데이터 프레임 불러오기 : 날씨\n",
    "df_wheather = pd.read_csv('./data/date_final.csv')  # 날씨 데이터프레임"
   ]
  },
  {
   "cell_type": "code",
   "execution_count": 1,
   "metadata": {},
   "outputs": [],
   "source": [
    "# 데이터 타입 변경\n",
    "df_wheather['날짜'] = pd.to_datetime(df_wheather.날짜)\n",
    "df_wheather['현재기온'] = pd.to_numeric(df_wheather['현재기온'], errors='coerce')\n",
    "df_wheather['이슬점온도'] = pd.to_numeric(df_wheather['이슬점온도'], errors='coerce')\n",
    "df_wheather['체감온도'] = pd.to_numeric(df_wheather['체감온도'], errors='coerce')\n",
    "df_wheather['강수량'] = pd.to_numeric(df_wheather['강수량'], errors='coerce')\n",
    "df_wheather['습도'] = pd.to_numeric(df_wheather['습도'], errors='coerce')\n",
    "df_wheather['풍속'] = pd.to_numeric(df_wheather['풍속'], errors='coerce')\n",
    "df_wheather['해면기압'] = pd.to_numeric(df_wheather['해면기압'], errors='coerce')"
   ]
  },
  {
   "cell_type": "code",
   "execution_count": 1,
   "metadata": {},
   "outputs": [],
   "source": [
    "# 농산물 데이터 병합\n",
    "df_agri = pd.DataFrame(data=globals()[f'df_{agriList[0]}'])\n",
    "for var in agriList:\n",
    "    df_agri = pd.merge(df_agri, globals()[f'df_{var}'], on='날짜')"
   ]
  },
  {
   "cell_type": "code",
   "execution_count": 1,
   "metadata": {},
   "outputs": [],
   "source": [
    "# 농산물 및 날씨 데이터 병합\n",
    "df = pd.merge(df_agri, df_wheather, on='날짜')"
   ]
  },
  {
   "cell_type": "code",
   "execution_count": 1,
   "metadata": {},
   "outputs": [],
   "source": [
    "# 데이터 확인\n",
    "print(df.head())\n",
    "print(df.info())"
   ]
  },
  {
   "cell_type": "code",
   "execution_count": null,
   "metadata": {},
   "outputs": [],
   "source": [
    "# CSV 파일로 출력\n",
    "df.to_csv('./data/merge_agri_wheather.csv', encoding='utf-8', index=False)"
   ]
  }
 ],
 "metadata": {
  "kernelspec": {
   "display_name": "Python 3",
   "language": "python",
   "name": "python3"
  },
  "language_info": {
   "codemirror_mode": {
    "name": "ipython",
    "version": 3
   },
   "file_extension": ".py",
   "mimetype": "text/x-python",
   "name": "python",
   "nbconvert_exporter": "python",
   "pygments_lexer": "ipython3",
   "version": "3.7.4"
  }
 },
 "nbformat": 4,
 "nbformat_minor": 4
}
