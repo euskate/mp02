{
 "cells": [
  {
   "cell_type": "code",
   "execution_count": 4,
   "metadata": {},
   "outputs": [
    {
     "data": {
      "image/png": "[encoded data removed]",
      "text/plain": [
       "<Figure size 432x288 with 1 Axes>"
      ]
     },
     "metadata": {
      "needs_background": "light"
     },
     "output_type": "display_data"
    }
   ],
   "source": [
    "import matplotlib.pyplot as plt\n",
    "import seaborn as sns\n",
    "\n",
    "# 주피터 내장\n",
    "%matplotlib inline\n",
    "# 한글처리 \n",
    "import platform\n",
    "from matplotlib import font_manager, rc\n",
    "\n",
    "# 한글처리\n",
    "plt.rcParams['axes.unicode_minus'] = False\n",
    "if platform.system() == 'Darwin':    # 맥\n",
    "#     font_list_mac = fm.OSXInstalledFonts()\n",
    "    rc( 'font', family='AppleGothic' )\n",
    "elif platform.system() == 'Linux': # 리눅스\n",
    "    rc( 'font', family='NanumGothic' )\n",
    "elif platform.system() == 'Windows': # 윈도우\n",
    "    # 폰트 차후 확인\n",
    "    # fontName = font_manager.FontProperties( fname=fontPath ).get_name()\n",
    "    rc( 'font', family='NanumGothic' )\n",
    "else:\n",
    "    print('알수없는 시스템. 미적용')\n",
    "\n",
    "np.random.seed(13)\n",
    "X = np.arange(0, 5, 0.1)\n",
    "y = 2 + 3 * X + np.random.randn(len(X))\n",
    "\n",
    "X = X.reshape(len(X), 1)\n",
    "\n",
    "plt.scatter(X, y, s=10)\n",
    "plt.xlabel('x')\n",
    "plt.ylabel('y')\n",
    "plt.show()"
   ]
  },
  {
   "cell_type": "code",
   "execution_count": 5,
   "metadata": {},
   "outputs": [
    {
     "name": "stdout",
     "output_type": "stream",
     "text": [
      "-- Epoch 1\n",
      "Norm: 2.98, NNZs: 1, Bias: 0.975621, T: 50, Avg. loss: 10.234831\n",
      "Total training time: 0.00 seconds.\n",
      "-- Epoch 2\n",
      "Norm: 3.21, NNZs: 1, Bias: 1.101417, T: 100, Avg. loss: 0.814226\n",
      "Total training time: 0.00 seconds.\n",
      "-- Epoch 3\n",
      "Norm: 3.26, NNZs: 1, Bias: 1.163781, T: 150, Avg. loss: 0.634951\n",
      "Total training time: 0.00 seconds.\n",
      "-- Epoch 4\n",
      "Norm: 3.28, NNZs: 1, Bias: 1.209836, T: 200, Avg. loss: 0.608561\n",
      "Total training time: 0.00 seconds.\n",
      "-- Epoch 5\n",
      "Norm: 3.25, NNZs: 1, Bias: 1.240424, T: 250, Avg. loss: 0.596855\n",
      "Total training time: 0.00 seconds.\n",
      "-- Epoch 6\n",
      "Norm: 3.26, NNZs: 1, Bias: 1.276383, T: 300, Avg. loss: 0.587079\n",
      "Total training time: 0.00 seconds.\n",
      "-- Epoch 7\n",
      "Norm: 3.24, NNZs: 1, Bias: 1.303611, T: 350, Avg. loss: 0.578871\n",
      "Total training time: 0.00 seconds.\n",
      "-- Epoch 8\n",
      "Norm: 3.23, NNZs: 1, Bias: 1.330905, T: 400, Avg. loss: 0.570774\n",
      "Total training time: 0.00 seconds.\n",
      "-- Epoch 9\n",
      "Norm: 3.23, NNZs: 1, Bias: 1.360160, T: 450, Avg. loss: 0.562177\n",
      "Total training time: 0.00 seconds.\n",
      "-- Epoch 10\n",
      "Norm: 3.22, NNZs: 1, Bias: 1.384544, T: 500, Avg. loss: 0.555868\n",
      "Total training time: 0.00 seconds.\n",
      "-- Epoch 11\n",
      "Norm: 3.22, NNZs: 1, Bias: 1.409678, T: 550, Avg. loss: 0.549143\n",
      "Total training time: 0.00 seconds.\n",
      "-- Epoch 12\n",
      "Norm: 3.20, NNZs: 1, Bias: 1.427782, T: 600, Avg. loss: 0.543323\n",
      "Total training time: 0.00 seconds.\n",
      "-- Epoch 13\n",
      "Norm: 3.20, NNZs: 1, Bias: 1.451900, T: 650, Avg. loss: 0.538142\n",
      "Total training time: 0.00 seconds.\n",
      "-- Epoch 14\n",
      "Norm: 3.17, NNZs: 1, Bias: 1.467089, T: 700, Avg. loss: 0.530137\n",
      "Total training time: 0.00 seconds.\n",
      "-- Epoch 15\n",
      "Norm: 3.18, NNZs: 1, Bias: 1.490665, T: 750, Avg. loss: 0.528421\n",
      "Total training time: 0.00 seconds.\n",
      "-- Epoch 16\n",
      "Norm: 3.17, NNZs: 1, Bias: 1.508090, T: 800, Avg. loss: 0.523571\n",
      "Total training time: 0.00 seconds.\n",
      "-- Epoch 17\n",
      "Norm: 3.17, NNZs: 1, Bias: 1.528279, T: 850, Avg. loss: 0.520000\n",
      "Total training time: 0.00 seconds.\n",
      "-- Epoch 18\n",
      "Norm: 3.16, NNZs: 1, Bias: 1.547084, T: 900, Avg. loss: 0.515338\n",
      "Total training time: 0.00 seconds.\n",
      "-- Epoch 19\n",
      "Norm: 3.15, NNZs: 1, Bias: 1.562740, T: 950, Avg. loss: 0.511887\n",
      "Total training time: 0.00 seconds.\n",
      "-- Epoch 20\n",
      "Norm: 3.16, NNZs: 1, Bias: 1.580878, T: 1000, Avg. loss: 0.508135\n",
      "Total training time: 0.00 seconds.\n",
      "-- Epoch 21\n",
      "Norm: 3.14, NNZs: 1, Bias: 1.595068, T: 1050, Avg. loss: 0.504721\n",
      "Total training time: 0.00 seconds.\n",
      "-- Epoch 22\n",
      "Norm: 3.15, NNZs: 1, Bias: 1.613115, T: 1100, Avg. loss: 0.501299\n",
      "Total training time: 0.00 seconds.\n",
      "-- Epoch 23\n",
      "Norm: 3.14, NNZs: 1, Bias: 1.625712, T: 1150, Avg. loss: 0.498262\n",
      "Total training time: 0.00 seconds.\n",
      "-- Epoch 24\n",
      "Norm: 3.14, NNZs: 1, Bias: 1.642955, T: 1200, Avg. loss: 0.494789\n",
      "Total training time: 0.00 seconds.\n",
      "-- Epoch 25\n",
      "Norm: 3.14, NNZs: 1, Bias: 1.657738, T: 1250, Avg. loss: 0.492699\n",
      "Total training time: 0.00 seconds.\n",
      "-- Epoch 26\n",
      "Norm: 3.13, NNZs: 1, Bias: 1.670595, T: 1300, Avg. loss: 0.490713\n",
      "Total training time: 0.00 seconds.\n",
      "-- Epoch 27\n",
      "Norm: 3.13, NNZs: 1, Bias: 1.683631, T: 1350, Avg. loss: 0.487523\n",
      "Total training time: 0.00 seconds.\n",
      "-- Epoch 28\n",
      "Norm: 3.12, NNZs: 1, Bias: 1.697670, T: 1400, Avg. loss: 0.485429\n",
      "Total training time: 0.00 seconds.\n",
      "-- Epoch 29\n",
      "Norm: 3.11, NNZs: 1, Bias: 1.708194, T: 1450, Avg. loss: 0.483579\n",
      "Total training time: 0.00 seconds.\n",
      "-- Epoch 30\n",
      "Norm: 3.11, NNZs: 1, Bias: 1.719815, T: 1500, Avg. loss: 0.481197\n",
      "Total training time: 0.00 seconds.\n",
      "-- Epoch 31\n",
      "Norm: 3.10, NNZs: 1, Bias: 1.731147, T: 1550, Avg. loss: 0.479283\n",
      "Total training time: 0.01 seconds.\n",
      "-- Epoch 32\n",
      "Norm: 3.10, NNZs: 1, Bias: 1.742738, T: 1600, Avg. loss: 0.477314\n",
      "Total training time: 0.01 seconds.\n",
      "-- Epoch 33\n",
      "Norm: 3.10, NNZs: 1, Bias: 1.756729, T: 1650, Avg. loss: 0.474474\n",
      "Total training time: 0.01 seconds.\n",
      "-- Epoch 34\n",
      "Norm: 3.09, NNZs: 1, Bias: 1.764365, T: 1700, Avg. loss: 0.472080\n",
      "Total training time: 0.01 seconds.\n",
      "-- Epoch 35\n",
      "Norm: 3.09, NNZs: 1, Bias: 1.777324, T: 1750, Avg. loss: 0.471424\n",
      "Total training time: 0.01 seconds.\n",
      "-- Epoch 36\n",
      "Norm: 3.08, NNZs: 1, Bias: 1.785749, T: 1800, Avg. loss: 0.468984\n",
      "Total training time: 0.01 seconds.\n",
      "-- Epoch 37\n",
      "Norm: 3.09, NNZs: 1, Bias: 1.797693, T: 1850, Avg. loss: 0.468271\n",
      "Total training time: 0.01 seconds.\n",
      "-- Epoch 38\n",
      "Norm: 3.08, NNZs: 1, Bias: 1.807885, T: 1900, Avg. loss: 0.467272\n",
      "Total training time: 0.01 seconds.\n",
      "-- Epoch 39\n",
      "Norm: 3.08, NNZs: 1, Bias: 1.818031, T: 1950, Avg. loss: 0.465381\n",
      "Total training time: 0.01 seconds.\n",
      "-- Epoch 40\n",
      "Norm: 3.07, NNZs: 1, Bias: 1.826129, T: 2000, Avg. loss: 0.464136\n",
      "Total training time: 0.01 seconds.\n",
      "-- Epoch 41\n",
      "Norm: 3.07, NNZs: 1, Bias: 1.835313, T: 2050, Avg. loss: 0.463169\n",
      "Total training time: 0.01 seconds.\n",
      "-- Epoch 42\n",
      "Norm: 3.07, NNZs: 1, Bias: 1.845743, T: 2100, Avg. loss: 0.461424\n",
      "Total training time: 0.01 seconds.\n",
      "-- Epoch 43\n",
      "Norm: 3.07, NNZs: 1, Bias: 1.854758, T: 2150, Avg. loss: 0.460583\n",
      "Total training time: 0.01 seconds.\n",
      "-- Epoch 44\n",
      "Norm: 3.07, NNZs: 1, Bias: 1.864744, T: 2200, Avg. loss: 0.458803\n",
      "Total training time: 0.01 seconds.\n",
      "-- Epoch 45\n",
      "Norm: 3.07, NNZs: 1, Bias: 1.872561, T: 2250, Avg. loss: 0.458142\n",
      "Total training time: 0.01 seconds.\n",
      "-- Epoch 46\n",
      "Norm: 3.06, NNZs: 1, Bias: 1.880687, T: 2300, Avg. loss: 0.457160\n",
      "Total training time: 0.01 seconds.\n",
      "-- Epoch 47\n",
      "Norm: 3.06, NNZs: 1, Bias: 1.888053, T: 2350, Avg. loss: 0.455840\n",
      "Total training time: 0.01 seconds.\n",
      "-- Epoch 48\n",
      "Norm: 3.05, NNZs: 1, Bias: 1.895084, T: 2400, Avg. loss: 0.455067\n",
      "Total training time: 0.01 seconds.\n",
      "-- Epoch 49\n",
      "Norm: 3.05, NNZs: 1, Bias: 1.902144, T: 2450, Avg. loss: 0.454059\n",
      "Total training time: 0.01 seconds.\n",
      "-- Epoch 50\n",
      "Norm: 3.05, NNZs: 1, Bias: 1.910511, T: 2500, Avg. loss: 0.453066\n",
      "Total training time: 0.01 seconds.\n",
      "-- Epoch 51\n",
      "Norm: 3.04, NNZs: 1, Bias: 1.916458, T: 2550, Avg. loss: 0.451730\n",
      "Total training time: 0.01 seconds.\n",
      "-- Epoch 52\n",
      "Norm: 3.04, NNZs: 1, Bias: 1.924235, T: 2600, Avg. loss: 0.451609\n",
      "Total training time: 0.01 seconds.\n",
      "-- Epoch 53\n",
      "Norm: 3.05, NNZs: 1, Bias: 1.932827, T: 2650, Avg. loss: 0.450441\n",
      "Total training time: 0.01 seconds.\n",
      "-- Epoch 54\n",
      "Norm: 3.04, NNZs: 1, Bias: 1.938687, T: 2700, Avg. loss: 0.449606\n",
      "Total training time: 0.01 seconds.\n",
      "-- Epoch 55\n",
      "Norm: 3.04, NNZs: 1, Bias: 1.946695, T: 2750, Avg. loss: 0.448852\n",
      "Total training time: 0.01 seconds.\n",
      "-- Epoch 56\n",
      "Norm: 3.04, NNZs: 1, Bias: 1.952571, T: 2800, Avg. loss: 0.448326\n",
      "Total training time: 0.01 seconds.\n",
      "-- Epoch 57\n",
      "Norm: 3.03, NNZs: 1, Bias: 1.958465, T: 2850, Avg. loss: 0.447624\n",
      "Total training time: 0.01 seconds.\n",
      "-- Epoch 58\n",
      "Norm: 3.04, NNZs: 1, Bias: 1.966123, T: 2900, Avg. loss: 0.446716\n",
      "Total training time: 0.01 seconds.\n",
      "Convergence after 58 epochs took 0.01 seconds\n"
     ]
    },
    {
     "data": {
      "text/plain": [
       "SGDRegressor(alpha=0.0001, average=False, early_stopping=False, epsilon=0.1,\n",
       "             eta0=0.01, fit_intercept=True, l1_ratio=0.15,\n",
       "             learning_rate='invscaling', loss='squared_loss', max_iter=100,\n",
       "             n_iter_no_change=5, penalty='l2', power_t=0.25, random_state=None,\n",
       "             shuffle=True, tol=0.001, validation_fraction=0.1, verbose=1,\n",
       "             warm_start=False)"
      ]
     },
     "execution_count": 5,
     "metadata": {},
     "output_type": "execute_result"
    }
   ],
   "source": [
    "from sklearn import linear_model\n",
    "\n",
    "clf = linear_model.SGDRegressor(max_iter=100, verbose=1)\n",
    "clf.fit(X, y)"
   ]
  },
  {
   "cell_type": "code",
   "execution_count": 6,
   "metadata": {},
   "outputs": [
    {
     "data": {
      "image/png": "[encoded data removed]",
      "text/plain": [
       "<Figure size 432x288 with 1 Axes>"
      ]
     },
     "metadata": {
      "needs_background": "light"
     },
     "output_type": "display_data"
    }
   ],
   "source": [
    "import sys\n",
    "import io\n",
    "import matplotlib.pyplot as plt\n",
    "\n",
    "sys.stdout = io.StringIO()\n",
    "\n",
    "clf.fit(X, y)\n",
    "\n",
    "loss_history = sys.stdout.getvalue()\n",
    "loss_list = []\n",
    "for line in loss_history.split('\\n'):\n",
    "    if(len(line.split(\"loss: \")) == 1):\n",
    "        continue\n",
    "    loss_list.append(float(line.split(\"loss: \")[-1]))\n",
    "\n",
    "plt.figure()\n",
    "plt.plot(np.arange(len(loss_list)), loss_list)\n",
    "plt.xlabel(\"Time in epochs\")\n",
    "plt.ylabel(\"Loss\")\n",
    "plt.show()"
   ]
  },
  {
   "cell_type": "code",
   "execution_count": 7,
   "metadata": {},
   "outputs": [
    {
     "data": {
      "image/png": "[encoded data removed]",
      "text/plain": [
       "<Figure size 432x288 with 1 Axes>"
      ]
     },
     "metadata": {
      "needs_background": "light"
     },
     "output_type": "display_data"
    }
   ],
   "source": [
    "y_predicted = clf.predict(X)\n",
    "\n",
    "plt.scatter(X, y, s=10)\n",
    "plt.plot(X, y_predicted, color='r')\n",
    "plt.xlabel('x')\n",
    "plt.ylabel('y')\n",
    "plt.show()"
   ]
  },
  {
   "cell_type": "code",
   "execution_count": 9,
   "metadata": {},
   "outputs": [],
   "source": [
    "import pandas as pd\n",
    "import numpy as np"
   ]
  },
  {
   "cell_type": "code",
   "execution_count": 50,
   "metadata": {},
   "outputs": [],
   "source": [
    "maindata = pd.read_csv('./output/maindata.csv')"
   ]
  },
  {
   "cell_type": "code",
   "execution_count": 51,
   "metadata": {},
   "outputs": [],
   "source": [
    "del maindata[\"평년\"]\n",
    "del maindata[\"현재일기\"]"
   ]
  },
  {
   "cell_type": "code",
   "execution_count": 52,
   "metadata": {},
   "outputs": [
    {
     "data": {
      "text/html": [
       "<div>\n",
       "<style scoped>\n",
       "    .dataframe tbody tr th:only-of-type {\n",
       "        vertical-align: middle;\n",
       "    }\n",
       "\n",
       "    .dataframe tbody tr th {\n",
       "        vertical-align: top;\n",
       "    }\n",
       "\n",
       "    .dataframe thead th {\n",
       "        text-align: right;\n",
       "    }\n",
       "</style>\n",
       "<table border=\"1\" class=\"dataframe\">\n",
       "  <thead>\n",
       "    <tr style=\"text-align: right;\">\n",
       "      <th></th>\n",
       "      <th>날짜</th>\n",
       "      <th>평균</th>\n",
       "      <th>현재기온</th>\n",
       "      <th>이슬점온도</th>\n",
       "      <th>체감온도</th>\n",
       "      <th>강수량</th>\n",
       "      <th>습도</th>\n",
       "      <th>풍향</th>\n",
       "      <th>풍속</th>\n",
       "      <th>해면기압</th>\n",
       "      <th>태풍</th>\n",
       "    </tr>\n",
       "  </thead>\n",
       "  <tbody>\n",
       "    <tr>\n",
       "      <td>0</td>\n",
       "      <td>2015-01-02</td>\n",
       "      <td>1287</td>\n",
       "      <td>2.1</td>\n",
       "      <td>-15.4</td>\n",
       "      <td>-2.3</td>\n",
       "      <td>0.0</td>\n",
       "      <td>26.0</td>\n",
       "      <td>북서</td>\n",
       "      <td>17.6</td>\n",
       "      <td>1021.4</td>\n",
       "      <td>x</td>\n",
       "    </tr>\n",
       "    <tr>\n",
       "      <td>1</td>\n",
       "      <td>2015-01-05</td>\n",
       "      <td>1287</td>\n",
       "      <td>10.4</td>\n",
       "      <td>-3.3</td>\n",
       "      <td>10.4</td>\n",
       "      <td>0.0</td>\n",
       "      <td>38.0</td>\n",
       "      <td>서북서</td>\n",
       "      <td>2.9</td>\n",
       "      <td>1017.9</td>\n",
       "      <td>x</td>\n",
       "    </tr>\n",
       "    <tr>\n",
       "      <td>2</td>\n",
       "      <td>2015-01-06</td>\n",
       "      <td>1303</td>\n",
       "      <td>9.1</td>\n",
       "      <td>-16.2</td>\n",
       "      <td>6.7</td>\n",
       "      <td>11.5</td>\n",
       "      <td>15.0</td>\n",
       "      <td>북서</td>\n",
       "      <td>15.8</td>\n",
       "      <td>1011.3</td>\n",
       "      <td>x</td>\n",
       "    </tr>\n",
       "    <tr>\n",
       "      <td>3</td>\n",
       "      <td>2015-01-07</td>\n",
       "      <td>1277</td>\n",
       "      <td>2.5</td>\n",
       "      <td>-28.5</td>\n",
       "      <td>-1.6</td>\n",
       "      <td>0.0</td>\n",
       "      <td>8.0</td>\n",
       "      <td>북서</td>\n",
       "      <td>16.9</td>\n",
       "      <td>1018.0</td>\n",
       "      <td>x</td>\n",
       "    </tr>\n",
       "    <tr>\n",
       "      <td>4</td>\n",
       "      <td>2015-01-08</td>\n",
       "      <td>1352</td>\n",
       "      <td>3.3</td>\n",
       "      <td>-19.4</td>\n",
       "      <td>-0.1</td>\n",
       "      <td>0.0</td>\n",
       "      <td>17.0</td>\n",
       "      <td>북서</td>\n",
       "      <td>13.7</td>\n",
       "      <td>1022.8</td>\n",
       "      <td>x</td>\n",
       "    </tr>\n",
       "  </tbody>\n",
       "</table>\n",
       "</div>"
      ],
      "text/plain": [
       "           날짜    평균  현재기온  이슬점온도  체감온도   강수량    습도   풍향    풍속    해면기압 태풍\n",
       "0  2015-01-02  1287   2.1  -15.4  -2.3   0.0  26.0   북서  17.6  1021.4  x\n",
       "1  2015-01-05  1287  10.4   -3.3  10.4   0.0  38.0  서북서   2.9  1017.9  x\n",
       "2  2015-01-06  1303   9.1  -16.2   6.7  11.5  15.0   북서  15.8  1011.3  x\n",
       "3  2015-01-07  1277   2.5  -28.5  -1.6   0.0   8.0   북서  16.9  1018.0  x\n",
       "4  2015-01-08  1352   3.3  -19.4  -0.1   0.0  17.0   북서  13.7  1022.8  x"
      ]
     },
     "execution_count": 52,
     "metadata": {},
     "output_type": "execute_result"
    }
   ],
   "source": [
    "maindata.head()"
   ]
  },
  {
   "cell_type": "code",
   "execution_count": 53,
   "metadata": {
    "scrolled": true
   },
   "outputs": [
    {
     "data": {
      "text/plain": [
       "(1188, 11)"
      ]
     },
     "execution_count": 53,
     "metadata": {},
     "output_type": "execute_result"
    }
   ],
   "source": [
    "maindata.shape"
   ]
  },
  {
   "cell_type": "code",
   "execution_count": 54,
   "metadata": {},
   "outputs": [
    {
     "data": {
      "text/plain": [
       "array(['x', 'o'], dtype=object)"
      ]
     },
     "execution_count": 54,
     "metadata": {},
     "output_type": "execute_result"
    }
   ],
   "source": [
    "maindata.태풍.unique()"
   ]
  },
  {
   "cell_type": "code",
   "execution_count": 60,
   "metadata": {},
   "outputs": [
    {
     "data": {
      "text/plain": [
       "0"
      ]
     },
     "execution_count": 60,
     "metadata": {},
     "output_type": "execute_result"
    }
   ],
   "source": [
    "maindata.loc[1].태풍"
   ]
  },
  {
   "cell_type": "code",
   "execution_count": 58,
   "metadata": {},
   "outputs": [],
   "source": [
    "def tornado(tmp):\n",
    "    if tmp == 'x':\n",
    "        return 0\n",
    "    else:\n",
    "        return 3000\n",
    "    "
   ]
  },
  {
   "cell_type": "code",
   "execution_count": 56,
   "metadata": {},
   "outputs": [],
   "source": [
    "maindata['태풍'] = maindata['태풍'].apply(tornado)"
   ]
  },
  {
   "cell_type": "code",
   "execution_count": 57,
   "metadata": {},
   "outputs": [
    {
     "data": {
      "text/html": [
       "<div>\n",
       "<style scoped>\n",
       "    .dataframe tbody tr th:only-of-type {\n",
       "        vertical-align: middle;\n",
       "    }\n",
       "\n",
       "    .dataframe tbody tr th {\n",
       "        vertical-align: top;\n",
       "    }\n",
       "\n",
       "    .dataframe thead th {\n",
       "        text-align: right;\n",
       "    }\n",
       "</style>\n",
       "<table border=\"1\" class=\"dataframe\">\n",
       "  <thead>\n",
       "    <tr style=\"text-align: right;\">\n",
       "      <th></th>\n",
       "      <th>날짜</th>\n",
       "      <th>평균</th>\n",
       "      <th>현재기온</th>\n",
       "      <th>이슬점온도</th>\n",
       "      <th>체감온도</th>\n",
       "      <th>강수량</th>\n",
       "      <th>습도</th>\n",
       "      <th>풍향</th>\n",
       "      <th>풍속</th>\n",
       "      <th>해면기압</th>\n",
       "      <th>태풍</th>\n",
       "    </tr>\n",
       "  </thead>\n",
       "  <tbody>\n",
       "    <tr>\n",
       "      <td>121</td>\n",
       "      <td>2015-06-30</td>\n",
       "      <td>1888</td>\n",
       "      <td>20.7</td>\n",
       "      <td>20.3</td>\n",
       "      <td>69.0</td>\n",
       "      <td>4.0</td>\n",
       "      <td>98.0</td>\n",
       "      <td>남남서</td>\n",
       "      <td>4.0</td>\n",
       "      <td>1000.9</td>\n",
       "      <td>3000</td>\n",
       "    </tr>\n",
       "    <tr>\n",
       "      <td>122</td>\n",
       "      <td>2015-07-01</td>\n",
       "      <td>1881</td>\n",
       "      <td>26.4</td>\n",
       "      <td>19.0</td>\n",
       "      <td>75.0</td>\n",
       "      <td>0.1</td>\n",
       "      <td>64.0</td>\n",
       "      <td>남남동</td>\n",
       "      <td>16.6</td>\n",
       "      <td>996.4</td>\n",
       "      <td>3000</td>\n",
       "    </tr>\n",
       "    <tr>\n",
       "      <td>123</td>\n",
       "      <td>2015-07-02</td>\n",
       "      <td>1837</td>\n",
       "      <td>25.9</td>\n",
       "      <td>15.2</td>\n",
       "      <td>73.0</td>\n",
       "      <td>0.0</td>\n",
       "      <td>52.0</td>\n",
       "      <td>남남동</td>\n",
       "      <td>16.9</td>\n",
       "      <td>1002.7</td>\n",
       "      <td>3000</td>\n",
       "    </tr>\n",
       "    <tr>\n",
       "      <td>124</td>\n",
       "      <td>2015-07-03</td>\n",
       "      <td>1850</td>\n",
       "      <td>30.4</td>\n",
       "      <td>10.3</td>\n",
       "      <td>76.0</td>\n",
       "      <td>0.0</td>\n",
       "      <td>29.0</td>\n",
       "      <td>북서</td>\n",
       "      <td>6.5</td>\n",
       "      <td>1004.3</td>\n",
       "      <td>3000</td>\n",
       "    </tr>\n",
       "    <tr>\n",
       "      <td>125</td>\n",
       "      <td>2015-07-06</td>\n",
       "      <td>1957</td>\n",
       "      <td>24.7</td>\n",
       "      <td>16.1</td>\n",
       "      <td>72.0</td>\n",
       "      <td>0.0</td>\n",
       "      <td>59.0</td>\n",
       "      <td>남동</td>\n",
       "      <td>16.9</td>\n",
       "      <td>1011.7</td>\n",
       "      <td>3000</td>\n",
       "    </tr>\n",
       "    <tr>\n",
       "      <td>...</td>\n",
       "      <td>...</td>\n",
       "      <td>...</td>\n",
       "      <td>...</td>\n",
       "      <td>...</td>\n",
       "      <td>...</td>\n",
       "      <td>...</td>\n",
       "      <td>...</td>\n",
       "      <td>...</td>\n",
       "      <td>...</td>\n",
       "      <td>...</td>\n",
       "      <td>...</td>\n",
       "    </tr>\n",
       "    <tr>\n",
       "      <td>1119</td>\n",
       "      <td>2019-09-20</td>\n",
       "      <td>2020</td>\n",
       "      <td>26.3</td>\n",
       "      <td>14.7</td>\n",
       "      <td>73.0</td>\n",
       "      <td>0.0</td>\n",
       "      <td>49.0</td>\n",
       "      <td>남남동</td>\n",
       "      <td>6.8</td>\n",
       "      <td>1016.2</td>\n",
       "      <td>3000</td>\n",
       "    </tr>\n",
       "    <tr>\n",
       "      <td>1120</td>\n",
       "      <td>2019-09-23</td>\n",
       "      <td>2075</td>\n",
       "      <td>20.7</td>\n",
       "      <td>16.3</td>\n",
       "      <td>68.0</td>\n",
       "      <td>0.5</td>\n",
       "      <td>76.0</td>\n",
       "      <td>남남동</td>\n",
       "      <td>3.2</td>\n",
       "      <td>1015.0</td>\n",
       "      <td>3000</td>\n",
       "    </tr>\n",
       "    <tr>\n",
       "      <td>1125</td>\n",
       "      <td>2019-09-30</td>\n",
       "      <td>2068</td>\n",
       "      <td>29.3</td>\n",
       "      <td>22.7</td>\n",
       "      <td>80.0</td>\n",
       "      <td>0.0</td>\n",
       "      <td>68.0</td>\n",
       "      <td>남남동</td>\n",
       "      <td>11.9</td>\n",
       "      <td>1016.4</td>\n",
       "      <td>3000</td>\n",
       "    </tr>\n",
       "    <tr>\n",
       "      <td>1126</td>\n",
       "      <td>2019-10-01</td>\n",
       "      <td>2086</td>\n",
       "      <td>23.4</td>\n",
       "      <td>22.0</td>\n",
       "      <td>23.4</td>\n",
       "      <td>9.0</td>\n",
       "      <td>92.0</td>\n",
       "      <td>서북서</td>\n",
       "      <td>6.8</td>\n",
       "      <td>1020.2</td>\n",
       "      <td>3000</td>\n",
       "    </tr>\n",
       "    <tr>\n",
       "      <td>1127</td>\n",
       "      <td>2019-10-02</td>\n",
       "      <td>2177</td>\n",
       "      <td>23.4</td>\n",
       "      <td>22.3</td>\n",
       "      <td>23.4</td>\n",
       "      <td>27.5</td>\n",
       "      <td>94.0</td>\n",
       "      <td>동남동</td>\n",
       "      <td>9.7</td>\n",
       "      <td>1011.4</td>\n",
       "      <td>3000</td>\n",
       "    </tr>\n",
       "  </tbody>\n",
       "</table>\n",
       "<p>96 rows × 11 columns</p>\n",
       "</div>"
      ],
      "text/plain": [
       "              날짜    평균  현재기온  이슬점온도  체감온도   강수량    습도   풍향    풍속    해면기압    태풍\n",
       "121   2015-06-30  1888  20.7   20.3  69.0   4.0  98.0  남남서   4.0  1000.9  3000\n",
       "122   2015-07-01  1881  26.4   19.0  75.0   0.1  64.0  남남동  16.6   996.4  3000\n",
       "123   2015-07-02  1837  25.9   15.2  73.0   0.0  52.0  남남동  16.9  1002.7  3000\n",
       "124   2015-07-03  1850  30.4   10.3  76.0   0.0  29.0   북서   6.5  1004.3  3000\n",
       "125   2015-07-06  1957  24.7   16.1  72.0   0.0  59.0   남동  16.9  1011.7  3000\n",
       "...          ...   ...   ...    ...   ...   ...   ...  ...   ...     ...   ...\n",
       "1119  2019-09-20  2020  26.3   14.7  73.0   0.0  49.0  남남동   6.8  1016.2  3000\n",
       "1120  2019-09-23  2075  20.7   16.3  68.0   0.5  76.0  남남동   3.2  1015.0  3000\n",
       "1125  2019-09-30  2068  29.3   22.7  80.0   0.0  68.0  남남동  11.9  1016.4  3000\n",
       "1126  2019-10-01  2086  23.4   22.0  23.4   9.0  92.0  서북서   6.8  1020.2  3000\n",
       "1127  2019-10-02  2177  23.4   22.3  23.4  27.5  94.0  동남동   9.7  1011.4  3000\n",
       "\n",
       "[96 rows x 11 columns]"
      ]
     },
     "execution_count": 57,
     "metadata": {},
     "output_type": "execute_result"
    }
   ],
   "source": [
    "maindata[maindata['태풍'] == 3000]"
   ]
  },
  {
   "cell_type": "code",
   "execution_count": 87,
   "metadata": {},
   "outputs": [
    {
     "data": {
      "text/plain": [
       "[<matplotlib.lines.Line2D at 0x1a1f3d7050>]"
      ]
     },
     "execution_count": 87,
     "metadata": {},
     "output_type": "execute_result"
    },
    {
     "data": {
      "image/png": "[encoded data removed]",
      "text/plain": [
       "<Figure size 2160x432 with 1 Axes>"
      ]
     },
     "metadata": {
      "needs_background": "light"
     },
     "output_type": "display_data"
    }
   ],
   "source": [
    "plt.rcParams['figure.figsize'] = [30, 6]\n",
    "\n",
    "fig = plt.figure()\n",
    "ax = fig.add_subplot(1,1,1)\n",
    "\n",
    "ax.plot(maindata.평균)\n",
    "ax.set_title('test')\n",
    "\n",
    "ax.plot(maindata.태풍)"
   ]
  },
  {
   "cell_type": "code",
   "execution_count": 82,
   "metadata": {
    "scrolled": false
   },
   "outputs": [
    {
     "data": {
      "text/plain": [
       "[<matplotlib.lines.Line2D at 0x1a1f0b1290>]"
      ]
     },
     "execution_count": 82,
     "metadata": {},
     "output_type": "execute_result"
    },
    {
     "data": {
      "image/png": "[encoded data removed]",
      "text/plain": [
       "<Figure size 432x288 with 1 Axes>"
      ]
     },
     "metadata": {
      "needs_background": "light"
     },
     "output_type": "display_data"
    }
   ],
   "source": [
    "# df = maindata.iloc[0:200]\n",
    "\n",
    "# df = maindata.iloc[200:400]\n",
    "\n",
    "# df = maindata.iloc[400:600]\n",
    "\n",
    "df = maindata.iloc[600:800]\n",
    "\n",
    "\n",
    "print(df.iloc[0,[0]])\n",
    "print(df.iloc[-1,[0]])\n",
    "\n",
    "fig = plt.figure()\n",
    "ax = fig.add_subplot(1,1,1)\n",
    "\n",
    "ax.plot(df.평균)\n",
    "ax.set_title('test')\n",
    "\n",
    "ax.plot(df.태풍)"
   ]
  },
  {
   "cell_type": "code",
   "execution_count": 83,
   "metadata": {},
   "outputs": [
    {
     "data": {
      "text/plain": [
       "'2017-06-09'"
      ]
     },
     "execution_count": 83,
     "metadata": {},
     "output_type": "execute_result"
    }
   ],
   "source": [
    "maindata.iloc[600].날짜"
   ]
  },
  {
   "cell_type": "code",
   "execution_count": 84,
   "metadata": {},
   "outputs": [
    {
     "data": {
      "text/plain": [
       "'2018-06-01'"
      ]
     },
     "execution_count": 84,
     "metadata": {},
     "output_type": "execute_result"
    }
   ],
   "source": [
    "maindata.iloc[800].날짜"
   ]
  },
  {
   "cell_type": "code",
   "execution_count": null,
   "metadata": {},
   "outputs": [],
   "source": []
  }
 ],
 "metadata": {
  "kernelspec": {
   "display_name": "Python 3.7.4 64-bit ('base': conda)",
   "language": "python",
   "name": "python37464bitbasecondacb974de5d481480ca67f41f19bdbb3fc"
  },
  "language_info": {
   "codemirror_mode": {
    "name": "ipython",
    "version": 3
   },
   "file_extension": ".py",
   "mimetype": "text/x-python",
   "name": "python",
   "nbconvert_exporter": "python",
   "pygments_lexer": "ipython3",
   "version": "3.7.4"
  }
 },
 "nbformat": 4,
 "nbformat_minor": 2
}
