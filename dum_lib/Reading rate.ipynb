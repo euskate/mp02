{
 "cells": [
  {
   "cell_type": "code",
   "execution_count": 1,
   "metadata": {},
   "outputs": [],
   "source": [
    "# 판다스 \n",
    "import pandas as pd "
   ]
  },
  {
   "cell_type": "code",
   "execution_count": 2,
   "metadata": {},
   "outputs": [],
   "source": [
    "# 일단 데이터형태부터 파악한후 작업 진행 \n",
    "Reading = pd.read_csv('./data/Reading_rate.csv',header = 1, encoding='euc-kr')"
   ]
  },
  {
   "cell_type": "code",
   "execution_count": 3,
   "metadata": {
    "scrolled": false
   },
   "outputs": [
    {
     "data": {
      "text/html": [
       "<div>\n",
       "<style scoped>\n",
       "    .dataframe tbody tr th:only-of-type {\n",
       "        vertical-align: middle;\n",
       "    }\n",
       "\n",
       "    .dataframe tbody tr th {\n",
       "        vertical-align: top;\n",
       "    }\n",
       "\n",
       "    .dataframe thead th {\n",
       "        text-align: right;\n",
       "    }\n",
       "</style>\n",
       "<table border=\"1\" class=\"dataframe\">\n",
       "  <thead>\n",
       "    <tr style=\"text-align: right;\">\n",
       "      <th></th>\n",
       "      <th>행정구역별(1)</th>\n",
       "      <th>특성별(1)</th>\n",
       "      <th>특성별(2)</th>\n",
       "      <th>계 (%)</th>\n",
       "      <th>인구 1인당 평균독서권수 (권)</th>\n",
       "      <th>독서함 (%)</th>\n",
       "      <th>독서인구 1인당 평균독서권수 (권)</th>\n",
       "      <th>- 잡지류 (%)</th>\n",
       "      <th>· 평균 독서 권수 (권)</th>\n",
       "      <th>- 교양 서적 (%)</th>\n",
       "      <th>· 평균 독서 권수 (권).1</th>\n",
       "      <th>- 직업과 관련한 서적류 (%)</th>\n",
       "      <th>· 평균 독서 권수 (권).2</th>\n",
       "      <th>- 생활취미 정보 서적 (%)</th>\n",
       "      <th>· 평균 독서 권수 (권).3</th>\n",
       "      <th>- 기타 (%)</th>\n",
       "      <th>· 평균 독서 권수 (권).4</th>\n",
       "    </tr>\n",
       "  </thead>\n",
       "  <tbody>\n",
       "    <tr>\n",
       "      <th>0</th>\n",
       "      <td>전국</td>\n",
       "      <td>전체</td>\n",
       "      <td>계</td>\n",
       "      <td>100.0</td>\n",
       "      <td>7.3</td>\n",
       "      <td>50.6</td>\n",
       "      <td>14.4</td>\n",
       "      <td>25.3</td>\n",
       "      <td>5.3</td>\n",
       "      <td>66.9</td>\n",
       "      <td>8.2</td>\n",
       "      <td>37.3</td>\n",
       "      <td>5.5</td>\n",
       "      <td>24.7</td>\n",
       "      <td>4.6</td>\n",
       "      <td>21.1</td>\n",
       "      <td>20.9</td>\n",
       "    </tr>\n",
       "    <tr>\n",
       "      <th>1</th>\n",
       "      <td>전국</td>\n",
       "      <td>동·읍면부</td>\n",
       "      <td>동부</td>\n",
       "      <td>100.0</td>\n",
       "      <td>7.7</td>\n",
       "      <td>52.9</td>\n",
       "      <td>14.5</td>\n",
       "      <td>25.4</td>\n",
       "      <td>5.3</td>\n",
       "      <td>67.0</td>\n",
       "      <td>8.3</td>\n",
       "      <td>37.8</td>\n",
       "      <td>5.5</td>\n",
       "      <td>25.2</td>\n",
       "      <td>4.5</td>\n",
       "      <td>21.5</td>\n",
       "      <td>20.7</td>\n",
       "    </tr>\n",
       "    <tr>\n",
       "      <th>2</th>\n",
       "      <td>전국</td>\n",
       "      <td>동·읍면부</td>\n",
       "      <td>읍면부</td>\n",
       "      <td>100.0</td>\n",
       "      <td>5.4</td>\n",
       "      <td>40.2</td>\n",
       "      <td>13.5</td>\n",
       "      <td>24.4</td>\n",
       "      <td>5.3</td>\n",
       "      <td>66.2</td>\n",
       "      <td>7.9</td>\n",
       "      <td>33.9</td>\n",
       "      <td>5.4</td>\n",
       "      <td>21.4</td>\n",
       "      <td>4.9</td>\n",
       "      <td>18.8</td>\n",
       "      <td>22.2</td>\n",
       "    </tr>\n",
       "    <tr>\n",
       "      <th>3</th>\n",
       "      <td>전국</td>\n",
       "      <td>성별</td>\n",
       "      <td>남자</td>\n",
       "      <td>100.0</td>\n",
       "      <td>7.7</td>\n",
       "      <td>48.5</td>\n",
       "      <td>15.9</td>\n",
       "      <td>22.8</td>\n",
       "      <td>5.7</td>\n",
       "      <td>60.7</td>\n",
       "      <td>8.5</td>\n",
       "      <td>45.5</td>\n",
       "      <td>5.7</td>\n",
       "      <td>22.1</td>\n",
       "      <td>4.2</td>\n",
       "      <td>25.4</td>\n",
       "      <td>23.1</td>\n",
       "    </tr>\n",
       "    <tr>\n",
       "      <th>4</th>\n",
       "      <td>전국</td>\n",
       "      <td>성별</td>\n",
       "      <td>여자</td>\n",
       "      <td>100.0</td>\n",
       "      <td>6.9</td>\n",
       "      <td>52.7</td>\n",
       "      <td>13.0</td>\n",
       "      <td>27.5</td>\n",
       "      <td>4.9</td>\n",
       "      <td>72.5</td>\n",
       "      <td>8.0</td>\n",
       "      <td>29.8</td>\n",
       "      <td>5.1</td>\n",
       "      <td>27.0</td>\n",
       "      <td>4.8</td>\n",
       "      <td>17.1</td>\n",
       "      <td>17.9</td>\n",
       "    </tr>\n",
       "  </tbody>\n",
       "</table>\n",
       "</div>"
      ],
      "text/plain": [
       "  행정구역별(1) 특성별(1) 특성별(2)  계 (%) 인구 1인당 평균독서권수 (권) 독서함 (%) 독서인구 1인당 평균독서권수 (권)  \\\n",
       "0       전국     전체      계  100.0               7.3    50.6                14.4   \n",
       "1       전국  동·읍면부     동부  100.0               7.7    52.9                14.5   \n",
       "2       전국  동·읍면부    읍면부  100.0               5.4    40.2                13.5   \n",
       "3       전국     성별     남자  100.0               7.7    48.5                15.9   \n",
       "4       전국     성별     여자  100.0               6.9    52.7                13.0   \n",
       "\n",
       "  - 잡지류 (%) · 평균 독서 권수 (권) - 교양 서적 (%) · 평균 독서 권수 (권).1 - 직업과 관련한 서적류 (%)  \\\n",
       "0      25.3            5.3        66.9              8.2              37.3   \n",
       "1      25.4            5.3        67.0              8.3              37.8   \n",
       "2      24.4            5.3        66.2              7.9              33.9   \n",
       "3      22.8            5.7        60.7              8.5              45.5   \n",
       "4      27.5            4.9        72.5              8.0              29.8   \n",
       "\n",
       "  · 평균 독서 권수 (권).2 - 생활취미 정보 서적 (%) · 평균 독서 권수 (권).3 - 기타 (%) · 평균 독서 권수 (권).4  \n",
       "0              5.5             24.7              4.6     21.1             20.9  \n",
       "1              5.5             25.2              4.5     21.5             20.7  \n",
       "2              5.4             21.4              4.9     18.8             22.2  \n",
       "3              5.7             22.1              4.2     25.4             23.1  \n",
       "4              5.1             27.0              4.8     17.1             17.9  "
      ]
     },
     "execution_count": 3,
     "metadata": {},
     "output_type": "execute_result"
    }
   ],
   "source": [
    "Reading.head()"
   ]
  },
  {
   "cell_type": "code",
   "execution_count": 4,
   "metadata": {
    "scrolled": true
   },
   "outputs": [
    {
     "data": {
      "text/plain": [
       "Index(['행정구역별(1)', '특성별(1)', '특성별(2)', '계 (%)', '인구 1인당 평균독서권수 (권)', '독서함 (%)',\n",
       "       '독서인구 1인당 평균독서권수 (권)', '- 잡지류 (%)', '· 평균 독서 권수 (권)', '- 교양 서적 (%)',\n",
       "       '· 평균 독서 권수 (권).1', '- 직업과 관련한 서적류 (%)', '· 평균 독서 권수 (권).2',\n",
       "       '- 생활취미 정보 서적 (%)', '· 평균 독서 권수 (권).3', '- 기타 (%)', '· 평균 독서 권수 (권).4'],\n",
       "      dtype='object')"
      ]
     },
     "execution_count": 4,
     "metadata": {},
     "output_type": "execute_result"
    }
   ],
   "source": [
    "Reading.columns"
   ]
  },
  {
   "cell_type": "code",
   "execution_count": 6,
   "metadata": {},
   "outputs": [
    {
     "data": {
      "text/plain": [
       "'행정구역별(1)'"
      ]
     },
     "execution_count": 6,
     "metadata": {},
     "output_type": "execute_result"
    }
   ],
   "source": [
    "# 드랍하기 \n",
    "# 행정구역별(1)\n",
    "Reading.columns[0]"
   ]
  },
  {
   "cell_type": "code",
   "execution_count": 7,
   "metadata": {},
   "outputs": [],
   "source": [
    "drop_zero = Reading.columns[0]"
   ]
  },
  {
   "cell_type": "code",
   "execution_count": 9,
   "metadata": {},
   "outputs": [
    {
     "name": "stdout",
     "output_type": "stream",
     "text": [
      "labels unname 제거>>> \n",
      "   특성별(1) 특성별(2)  계 (%) 인구 1인당 평균독서권수 (권) 독서함 (%) 독서인구 1인당 평균독서권수 (권)  \\\n",
      "0     전체      계  100.0               7.3    50.6                14.4   \n",
      "1  동·읍면부     동부  100.0               7.7    52.9                14.5   \n",
      "2  동·읍면부    읍면부  100.0               5.4    40.2                13.5   \n",
      "\n",
      "  - 잡지류 (%) · 평균 독서 권수 (권) - 교양 서적 (%) · 평균 독서 권수 (권).1 - 직업과 관련한 서적류 (%)  \\\n",
      "0      25.3            5.3        66.9              8.2              37.3   \n",
      "1      25.4            5.3        67.0              8.3              37.8   \n",
      "2      24.4            5.3        66.2              7.9              33.9   \n",
      "\n",
      "  · 평균 독서 권수 (권).2 - 생활취미 정보 서적 (%) · 평균 독서 권수 (권).3 - 기타 (%) · 평균 독서 권수 (권).4  \n",
      "0              5.5             24.7              4.6     21.1             20.9  \n",
      "1              5.5             25.2              4.5     21.5             20.7  \n",
      "2              5.4             21.4              4.9     18.8             22.2  \n",
      "==================================================\n"
     ]
    },
    {
     "data": {
      "text/html": [
       "<div>\n",
       "<style scoped>\n",
       "    .dataframe tbody tr th:only-of-type {\n",
       "        vertical-align: middle;\n",
       "    }\n",
       "\n",
       "    .dataframe tbody tr th {\n",
       "        vertical-align: top;\n",
       "    }\n",
       "\n",
       "    .dataframe thead th {\n",
       "        text-align: right;\n",
       "    }\n",
       "</style>\n",
       "<table border=\"1\" class=\"dataframe\">\n",
       "  <thead>\n",
       "    <tr style=\"text-align: right;\">\n",
       "      <th></th>\n",
       "      <th>특성별(1)</th>\n",
       "      <th>특성별(2)</th>\n",
       "      <th>계 (%)</th>\n",
       "      <th>인구 1인당 평균독서권수 (권)</th>\n",
       "      <th>독서함 (%)</th>\n",
       "      <th>독서인구 1인당 평균독서권수 (권)</th>\n",
       "      <th>- 잡지류 (%)</th>\n",
       "      <th>· 평균 독서 권수 (권)</th>\n",
       "      <th>- 교양 서적 (%)</th>\n",
       "      <th>· 평균 독서 권수 (권).1</th>\n",
       "      <th>- 직업과 관련한 서적류 (%)</th>\n",
       "      <th>· 평균 독서 권수 (권).2</th>\n",
       "      <th>- 생활취미 정보 서적 (%)</th>\n",
       "      <th>· 평균 독서 권수 (권).3</th>\n",
       "      <th>- 기타 (%)</th>\n",
       "      <th>· 평균 독서 권수 (권).4</th>\n",
       "    </tr>\n",
       "  </thead>\n",
       "  <tbody>\n",
       "    <tr>\n",
       "      <th>0</th>\n",
       "      <td>전체</td>\n",
       "      <td>계</td>\n",
       "      <td>100.0</td>\n",
       "      <td>7.3</td>\n",
       "      <td>50.6</td>\n",
       "      <td>14.4</td>\n",
       "      <td>25.3</td>\n",
       "      <td>5.3</td>\n",
       "      <td>66.9</td>\n",
       "      <td>8.2</td>\n",
       "      <td>37.3</td>\n",
       "      <td>5.5</td>\n",
       "      <td>24.7</td>\n",
       "      <td>4.6</td>\n",
       "      <td>21.1</td>\n",
       "      <td>20.9</td>\n",
       "    </tr>\n",
       "    <tr>\n",
       "      <th>1</th>\n",
       "      <td>동·읍면부</td>\n",
       "      <td>동부</td>\n",
       "      <td>100.0</td>\n",
       "      <td>7.7</td>\n",
       "      <td>52.9</td>\n",
       "      <td>14.5</td>\n",
       "      <td>25.4</td>\n",
       "      <td>5.3</td>\n",
       "      <td>67.0</td>\n",
       "      <td>8.3</td>\n",
       "      <td>37.8</td>\n",
       "      <td>5.5</td>\n",
       "      <td>25.2</td>\n",
       "      <td>4.5</td>\n",
       "      <td>21.5</td>\n",
       "      <td>20.7</td>\n",
       "    </tr>\n",
       "  </tbody>\n",
       "</table>\n",
       "</div>"
      ],
      "text/plain": [
       "  특성별(1) 특성별(2)  계 (%) 인구 1인당 평균독서권수 (권) 독서함 (%) 독서인구 1인당 평균독서권수 (권)  \\\n",
       "0     전체      계  100.0               7.3    50.6                14.4   \n",
       "1  동·읍면부     동부  100.0               7.7    52.9                14.5   \n",
       "\n",
       "  - 잡지류 (%) · 평균 독서 권수 (권) - 교양 서적 (%) · 평균 독서 권수 (권).1 - 직업과 관련한 서적류 (%)  \\\n",
       "0      25.3            5.3        66.9              8.2              37.3   \n",
       "1      25.4            5.3        67.0              8.3              37.8   \n",
       "\n",
       "  · 평균 독서 권수 (권).2 - 생활취미 정보 서적 (%) · 평균 독서 권수 (권).3 - 기타 (%) · 평균 독서 권수 (권).4  \n",
       "0              5.5             24.7              4.6     21.1             20.9  \n",
       "1              5.5             25.2              4.5     21.5             20.7  "
      ]
     },
     "execution_count": 9,
     "metadata": {},
     "output_type": "execute_result"
    }
   ],
   "source": [
    "# 데이터 제거 \n",
    "\n",
    "try:    \n",
    "    Reading.drop( drop_zero, inplace=True, axis=1 )\n",
    "    print(\"labels unname 제거>>> \\n\",Reading.head(3) )\n",
    "\n",
    "    \n",
    "except Exception as e:\n",
    "    print('error => ',e) # 눈으로 확인이 가능하다 \n",
    "    \n",
    "    \n",
    "print('='*50)\n",
    "Reading.head(2)"
   ]
  },
  {
   "cell_type": "code",
   "execution_count": null,
   "metadata": {},
   "outputs": [],
   "source": []
  },
  {
   "cell_type": "code",
   "execution_count": null,
   "metadata": {},
   "outputs": [],
   "source": []
  },
  {
   "cell_type": "code",
   "execution_count": null,
   "metadata": {},
   "outputs": [],
   "source": []
  }
 ],
 "metadata": {
  "kernelspec": {
   "display_name": "Python 3",
   "language": "python",
   "name": "python3"
  },
  "language_info": {
   "codemirror_mode": {
    "name": "ipython",
    "version": 3
   },
   "file_extension": ".py",
   "mimetype": "text/x-python",
   "name": "python",
   "nbconvert_exporter": "python",
   "pygments_lexer": "ipython3",
   "version": "3.6.5"
  }
 },
 "nbformat": 4,
 "nbformat_minor": 2
}
